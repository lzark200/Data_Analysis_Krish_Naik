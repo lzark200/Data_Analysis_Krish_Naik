{
 "cells": [
  {
   "cell_type": "markdown",
   "id": "96416958-a0d7-4120-9fb5-da9ef0bbe64a",
   "metadata": {},
   "source": [
    "#### create a new directory"
   ]
  },
  {
   "cell_type": "code",
   "execution_count": 8,
   "id": "09313967-55f8-4fe8-9934-6059d53b1904",
   "metadata": {},
   "outputs": [
    {
     "name": "stdout",
     "output_type": "stream",
     "text": [
      "Direcory 'package' created\n"
     ]
    }
   ],
   "source": [
    "import os\n",
    "new_directory = \"package\"\n",
    "os.mkdir(new_directory)\n",
    "print(f\"Directory '{new_directory}' created\")"
   ]
  },
  {
   "cell_type": "markdown",
   "id": "60b7c2da-dd10-4a8d-90b9-5724b0ffc0ec",
   "metadata": {},
   "source": [
    "#### Listing files and directories"
   ]
  },
  {
   "cell_type": "code",
   "execution_count": 11,
   "id": "3000951b-bc3c-4329-858e-275a29b17b49",
   "metadata": {},
   "outputs": [
    {
     "name": "stdout",
     "output_type": "stream",
     "text": [
      "['.ipynb_checkpoints', 'package', 'working with file path in the python.ipynb']\n"
     ]
    }
   ],
   "source": [
    "items = os.listdir('.')\n",
    "print(items)"
   ]
  },
  {
   "cell_type": "markdown",
   "id": "33178b85-a7f2-44c6-b269-941f435471b3",
   "metadata": {},
   "source": [
    "#### Joining paths : "
   ]
  },
  {
   "cell_type": "code",
   "execution_count": 14,
   "id": "f7c728b1-7a0e-4110-9a8a-53d673a2121b",
   "metadata": {},
   "outputs": [
    {
     "name": "stdout",
     "output_type": "stream",
     "text": [
      "folder\\file.txt\n"
     ]
    }
   ],
   "source": [
    "# partial path : \n",
    "dir_name = 'folder'\n",
    "file_name = \"file.txt\"\n",
    "#how do I create a path : \n",
    "file_path = os.path.join(dir_name , file_name)\n",
    "print(file_path)"
   ]
  },
  {
   "cell_type": "markdown",
   "id": "a417a574-f6d6-4c89-a542-2320ce6c5b2f",
   "metadata": {},
   "source": [
    "#### Getting the absolute path"
   ]
  },
  {
   "cell_type": "code",
   "execution_count": 16,
   "id": "53aab8e7-1dbf-4e9f-9c6d-ff34f9bb7e10",
   "metadata": {},
   "outputs": [
    {
     "name": "stdout",
     "output_type": "stream",
     "text": [
      "C:\\DEVELOPEMENT\\Data_Analysis_Krish_Naik\\Path in the python\\folder\\file.txt\n"
     ]
    }
   ],
   "source": [
    "#full path : \n",
    "dir_name = 'folder'\n",
    "file_name = \"file.txt\"\n",
    "#how do I create a path : \n",
    "full_path = os.path.join(os.getcwd() , dir_name , file_name)\n",
    "print(full_path)\n"
   ]
  },
  {
   "cell_type": "markdown",
   "id": "b76bf05e-0386-46d0-8dd3-29c9ecee564c",
   "metadata": {},
   "source": [
    "This path is the absolute path \n",
    "\"file.txt\" : relative path\n",
    "\"C:\\DEVELOPEMENT\\Data_Analysis_Krish_Naik\\Path in the python\\folder\\file.txt\" : absolute path"
   ]
  },
  {
   "cell_type": "code",
   "execution_count": 39,
   "id": "95f98251-ade8-43bc-af5e-0f193b7b53d2",
   "metadata": {},
   "outputs": [
    {
     "name": "stdout",
     "output_type": "stream",
     "text": [
      "C:\\DEVELOPEMENT\\Data_Analysis_Krish_Naik\\Path in the python\\file.txt\n"
     ]
    }
   ],
   "source": [
    "# another way to get the absolute path  : \n",
    "relative_path = 'file.txt'\n",
    "absolute_path = os.path.abspath(relative_path)\n",
    "print(absolute_path)"
   ]
  },
  {
   "cell_type": "code",
   "execution_count": 28,
   "id": "a8dcac71-e838-4bb9-b347-986f00b0c8d2",
   "metadata": {},
   "outputs": [
    {
     "name": "stdout",
     "output_type": "stream",
     "text": [
      "The path is 'package' exists\n"
     ]
    }
   ],
   "source": [
    "path = 'package'\n",
    "if os.path.exists(path):\n",
    "    print(f\"The path is '{path}' exists\")\n",
    "elif os.path.isdir(path):\n",
    "     print(f\"The path is '{path}' is directory\")\n",
    "else:\n",
    "    print(f\"The path is '{path}' neither a directory or nor a file\")\n",
    "    "
   ]
  },
  {
   "cell_type": "markdown",
   "id": "e9e2b39c-30ea-4d17-afed-f991a3863b1d",
   "metadata": {},
   "source": []
  },
  {
   "cell_type": "code",
   "execution_count": null,
   "id": "06dfda35-def2-4aab-9548-1ac9f1067574",
   "metadata": {},
   "outputs": [],
   "source": []
  }
 ],
 "metadata": {
  "kernelspec": {
   "display_name": "Python (venv)",
   "language": "python",
   "name": "venv"
  },
  "language_info": {
   "codemirror_mode": {
    "name": "ipython",
    "version": 3
   },
   "file_extension": ".py",
   "mimetype": "text/x-python",
   "name": "python",
   "nbconvert_exporter": "python",
   "pygments_lexer": "ipython3",
   "version": "3.12.0"
  }
 },
 "nbformat": 4,
 "nbformat_minor": 5
}
