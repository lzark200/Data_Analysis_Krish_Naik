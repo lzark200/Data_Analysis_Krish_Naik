{
 "cells": [
  {
   "cell_type": "markdown",
   "id": "8bc6d118-351c-4af4-97b6-15f9c7ad72bb",
   "metadata": {},
   "source": [
    "### example 1  : Manage a to do list"
   ]
  },
  {
   "cell_type": "markdown",
   "id": "67eb1c78-cf56-45fc-be26-fd4d41e24ff5",
   "metadata": {},
   "source": [
    "create a to do list to keep trak of tasks"
   ]
  },
  {
   "cell_type": "code",
   "execution_count": 15,
   "id": "f415fafa-bd1f-4532-89b5-5e7a8dc2b8fe",
   "metadata": {},
   "outputs": [],
   "source": [
    "to_do_list = [\"buy groceries\" , \"clean the house\" , \"pay bills\" , \"solve coding problem\"]"
   ]
  },
  {
   "cell_type": "code",
   "execution_count": 17,
   "id": "692209cf-6408-423d-9320-fcc89e0a4c2f",
   "metadata": {},
   "outputs": [],
   "source": [
    "#adding to task : \n",
    "to_do_list.append(\"Schedule meeting\")"
   ]
  },
  {
   "cell_type": "code",
   "execution_count": 19,
   "id": "bc7ae1d6-bd5a-48e6-b937-17b5e8979374",
   "metadata": {},
   "outputs": [
    {
     "data": {
      "text/plain": [
       "['buy groceries',\n",
       " 'clean the house',\n",
       " 'pay bills',\n",
       " 'solve coding problem',\n",
       " 'Schedule meeting']"
      ]
     },
     "execution_count": 19,
     "metadata": {},
     "output_type": "execute_result"
    }
   ],
   "source": [
    "to_do_list"
   ]
  },
  {
   "cell_type": "code",
   "execution_count": 21,
   "id": "88c259d2-3030-4c6b-9f5c-f586c296b155",
   "metadata": {},
   "outputs": [],
   "source": [
    "#delete the particular task : \n",
    "to_do_list.remove(\"pay bills\")"
   ]
  },
  {
   "cell_type": "code",
   "execution_count": 23,
   "id": "00b3a808-3e20-4fa8-8169-85a6069b9518",
   "metadata": {},
   "outputs": [
    {
     "data": {
      "text/plain": [
       "['buy groceries',\n",
       " 'clean the house',\n",
       " 'solve coding problem',\n",
       " 'Schedule meeting']"
      ]
     },
     "execution_count": 23,
     "metadata": {},
     "output_type": "execute_result"
    }
   ],
   "source": [
    "to_do_list"
   ]
  },
  {
   "cell_type": "code",
   "execution_count": 25,
   "id": "c709f95f-4e96-4c7c-b5d6-732c29d5cff6",
   "metadata": {},
   "outputs": [
    {
     "name": "stdout",
     "output_type": "stream",
     "text": [
      "Don't forget to clean the house\n"
     ]
    }
   ],
   "source": [
    "#checking if the task is the list or not : \n",
    "if \"clean the house\" in to_do_list:\n",
    "    print(\"Don't forget to clean the house\");"
   ]
  },
  {
   "cell_type": "markdown",
   "id": "58f8ff61-b3e3-40f1-a14b-a666455789ef",
   "metadata": {},
   "source": [
    "### Example 2 :  Organising student grades"
   ]
  },
  {
   "cell_type": "code",
   "execution_count": null,
   "id": "5606c301-dffa-471f-94ad-76f7ac600842",
   "metadata": {},
   "outputs": [],
   "source": []
  }
 ],
 "metadata": {
  "kernelspec": {
   "display_name": "Python (venv)",
   "language": "python",
   "name": "venv"
  },
  "language_info": {
   "codemirror_mode": {
    "name": "ipython",
    "version": 3
   },
   "file_extension": ".py",
   "mimetype": "text/x-python",
   "name": "python",
   "nbconvert_exporter": "python",
   "pygments_lexer": "ipython3",
   "version": "3.12.0"
  }
 },
 "nbformat": 4,
 "nbformat_minor": 5
}
