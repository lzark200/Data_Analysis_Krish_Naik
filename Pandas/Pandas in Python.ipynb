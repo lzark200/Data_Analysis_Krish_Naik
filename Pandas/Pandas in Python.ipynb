{
 "cells": [
  {
   "cell_type": "markdown",
   "id": "08c81eb5-c67f-41c2-8371-80dc461b0114",
   "metadata": {},
   "source": [
    "## Pandas"
   ]
  },
  {
   "cell_type": "code",
   "execution_count": 10,
   "id": "ada9eda1-aa31-4c5c-88fd-f0297f01bdb9",
   "metadata": {},
   "outputs": [],
   "source": [
    "import pandas as pd"
   ]
  },
  {
   "cell_type": "markdown",
   "id": "e3c1d709-1ddc-499c-8e13-94772135f92b",
   "metadata": {},
   "source": [
    "#### Series"
   ]
  },
  {
   "cell_type": "markdown",
   "id": "bebfb141-d505-4820-8d22-b87f091107ad",
   "metadata": {},
   "source": [
    "A Series is a one-dimensional labeled array in Pandas.\n",
    "\n",
    "You can think of it as a single column in an Excel sheet or a SQL table.\n",
    "\n",
    "It has two parts:\n",
    "\n",
    "Values → the actual data (numbers, strings, booleans, etc.)\n",
    "\n",
    "Index → labels for each value (like row numbers in Excel, but customizable)."
   ]
  },
  {
   "cell_type": "code",
   "execution_count": 16,
   "id": "bdb7d3eb-3c62-4be9-8f61-f1e3904f0f65",
   "metadata": {},
   "outputs": [
    {
     "name": "stdout",
     "output_type": "stream",
     "text": [
      "Series \n",
      " 0    1\n",
      "1    2\n",
      "2    3\n",
      "3    4\n",
      "4    5\n",
      "5    6\n",
      "6    7\n",
      "7    8\n",
      "8    9\n",
      "dtype: int64\n",
      "<class 'pandas.core.series.Series'>\n"
     ]
    }
   ],
   "source": [
    "data = [1,2,3,4,5,6,7,8,9]\n",
    "series = pd.Series(data)\n",
    "print(\"Series \\n\" , series)\n",
    "print(type(series))"
   ]
  },
  {
   "cell_type": "markdown",
   "id": "dd3d472b-d00e-494a-960b-9e9aa254bf70",
   "metadata": {},
   "source": [
    "#### Create a series from dictionary"
   ]
  },
  {
   "cell_type": "markdown",
   "id": "13e76223-19c4-4377-8ce4-c0e257af26c0",
   "metadata": {},
   "source": [
    "Here the Default index is the (0 , 1 , 2, ... 8)"
   ]
  },
  {
   "cell_type": "code",
   "execution_count": 25,
   "id": "041e701b-4d49-413f-90e0-45537525cdba",
   "metadata": {},
   "outputs": [
    {
     "name": "stdout",
     "output_type": "stream",
     "text": [
      "a    1\n",
      "b    2\n",
      "c    3\n",
      "dtype: int64\n",
      "<class 'pandas.core.series.Series'>\n"
     ]
    }
   ],
   "source": [
    "data = {\n",
    "    'a' : 1 , \n",
    "    'b' : 2 , \n",
    "    'c' : 3 , \n",
    "}\n",
    "series_dict = pd.Series(data)\n",
    "print(series_dict)\n",
    "print(type(series_dict))"
   ]
  },
  {
   "cell_type": "markdown",
   "id": "e5a94632-b84f-4742-96c2-3adbec7cef72",
   "metadata": {},
   "source": [
    "But here in the dictinoary the default index has changed to the a , b ,c , Basically the \n",
    "keys in the dictionary becomes the index in the series"
   ]
  },
  {
   "cell_type": "markdown",
   "id": "d0409cd8-12d9-4bac-aa53-ef72e9949f8f",
   "metadata": {},
   "source": [
    "### We can give our own custom index as well "
   ]
  },
  {
   "cell_type": "code",
   "execution_count": 30,
   "id": "6327c9c7-c32f-4977-ae2e-7c8cf69ae84c",
   "metadata": {},
   "outputs": [
    {
     "name": "stdout",
     "output_type": "stream",
     "text": [
      "a    10\n",
      "b    20\n",
      "c    30\n",
      "dtype: int64\n"
     ]
    }
   ],
   "source": [
    "data = [10,20,30]\n",
    "index_list= ['a' , 'b' , 'c']\n",
    "series = pd.Series(data , index = index_list)\n",
    "print(series)"
   ]
  },
  {
   "cell_type": "markdown",
   "id": "1bbebdc1-0bcf-43af-ad89-2872d8a2b282",
   "metadata": {},
   "source": [
    "## DataFrame"
   ]
  },
  {
   "cell_type": "markdown",
   "id": "47bef406-b01d-4cd1-a137-0046efc5e72f",
   "metadata": {},
   "source": [
    "#### create a Dataframe from dictionary of list"
   ]
  },
  {
   "cell_type": "code",
   "execution_count": 37,
   "id": "fd983d40-d438-4b5d-8260-5bc488da174e",
   "metadata": {},
   "outputs": [
    {
     "name": "stdout",
     "output_type": "stream",
     "text": [
      "    Name  Age      City\n",
      "0  Krish   30  Banglore\n",
      "1   john   42   Newyork\n",
      "2   jack   80   Florida\n"
     ]
    }
   ],
   "source": [
    "data = {\n",
    "    'Name' : ['Krish' , 'john' , 'jack'] , \n",
    "    'Age' : [30 , 42 , 80] , \n",
    "    'City' : ['Banglore' , 'Newyork' ,'Florida']\n",
    "}\n",
    "df =  pd.DataFrame(data)\n",
    "print(df)"
   ]
  },
  {
   "cell_type": "code",
   "execution_count": 39,
   "id": "aeaaa131-c623-4201-8f3a-b2ea019dea12",
   "metadata": {},
   "outputs": [
    {
     "data": {
      "text/html": [
       "<div>\n",
       "<style scoped>\n",
       "    .dataframe tbody tr th:only-of-type {\n",
       "        vertical-align: middle;\n",
       "    }\n",
       "\n",
       "    .dataframe tbody tr th {\n",
       "        vertical-align: top;\n",
       "    }\n",
       "\n",
       "    .dataframe thead th {\n",
       "        text-align: right;\n",
       "    }\n",
       "</style>\n",
       "<table border=\"1\" class=\"dataframe\">\n",
       "  <thead>\n",
       "    <tr style=\"text-align: right;\">\n",
       "      <th></th>\n",
       "      <th>Name</th>\n",
       "      <th>Age</th>\n",
       "      <th>City</th>\n",
       "    </tr>\n",
       "  </thead>\n",
       "  <tbody>\n",
       "    <tr>\n",
       "      <th>0</th>\n",
       "      <td>Krish</td>\n",
       "      <td>30</td>\n",
       "      <td>Banglore</td>\n",
       "    </tr>\n",
       "    <tr>\n",
       "      <th>1</th>\n",
       "      <td>john</td>\n",
       "      <td>42</td>\n",
       "      <td>Newyork</td>\n",
       "    </tr>\n",
       "    <tr>\n",
       "      <th>2</th>\n",
       "      <td>jack</td>\n",
       "      <td>80</td>\n",
       "      <td>Florida</td>\n",
       "    </tr>\n",
       "  </tbody>\n",
       "</table>\n",
       "</div>"
      ],
      "text/plain": [
       "    Name  Age      City\n",
       "0  Krish   30  Banglore\n",
       "1   john   42   Newyork\n",
       "2   jack   80   Florida"
      ]
     },
     "execution_count": 39,
     "metadata": {},
     "output_type": "execute_result"
    }
   ],
   "source": [
    "df"
   ]
  },
  {
   "cell_type": "markdown",
   "id": "e08d83bd-2d5f-40bb-ada3-2a46ec281dd9",
   "metadata": {},
   "source": [
    "#### we can also convert the dataframe into the 2-D array"
   ]
  },
  {
   "cell_type": "code",
   "execution_count": 46,
   "id": "3cceeb20-c7b2-4bce-9f49-08086326fa74",
   "metadata": {},
   "outputs": [
    {
     "data": {
      "text/plain": [
       "array([['Krish', 30, 'Banglore'],\n",
       "       ['john', 42, 'Newyork'],\n",
       "       ['jack', 80, 'Florida']], dtype=object)"
      ]
     },
     "execution_count": 46,
     "metadata": {},
     "output_type": "execute_result"
    }
   ],
   "source": [
    "import numpy as np \n",
    "arr_data = np.array(df)\n",
    "arr_data"
   ]
  },
  {
   "cell_type": "markdown",
   "id": "9fc8f6be-227d-4c01-a13c-1f90130c2266",
   "metadata": {},
   "source": [
    "All the keys in the dictionary or we can say the column name in the dataframe get removed\n",
    "while converting the dataframe to the 2-array"
   ]
  },
  {
   "cell_type": "code",
   "execution_count": null,
   "id": "646c39f0-b0ed-444d-beff-74b2dcc48a08",
   "metadata": {},
   "outputs": [],
   "source": []
  }
 ],
 "metadata": {
  "kernelspec": {
   "display_name": "Python (venv)",
   "language": "python",
   "name": "venv"
  },
  "language_info": {
   "codemirror_mode": {
    "name": "ipython",
    "version": 3
   },
   "file_extension": ".py",
   "mimetype": "text/x-python",
   "name": "python",
   "nbconvert_exporter": "python",
   "pygments_lexer": "ipython3",
   "version": "3.12.0"
  }
 },
 "nbformat": 4,
 "nbformat_minor": 5
}
