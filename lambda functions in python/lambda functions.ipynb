{
 "cells": [
  {
   "cell_type": "markdown",
   "id": "e771bc80-3ff8-432e-b679-18c1935b87b2",
   "metadata": {},
   "source": [
    "### lambda functions in python "
   ]
  },
  {
   "cell_type": "code",
   "execution_count": null,
   "id": "a5c81e4b-a647-4db5-96fb-8e30a630451c",
   "metadata": {},
   "outputs": [],
   "source": [
    "#syntax : \n",
    "lambda arguments:expression"
   ]
  },
  {
   "cell_type": "code",
   "execution_count": null,
   "id": "a2fd8416-283a-42db-b060-7306d1f4dedb",
   "metadata": {},
   "outputs": [],
   "source": [
    "# normal  function : \n",
    "def addition(a , b):\n",
    "    return a + b"
   ]
  },
  {
   "cell_type": "code",
   "execution_count": 17,
   "id": "d3b27ac9-dad9-430d-af07-6492af45b588",
   "metadata": {},
   "outputs": [
    {
     "name": "stdout",
     "output_type": "stream",
     "text": [
      "7\n"
     ]
    }
   ],
   "source": [
    "addition  = lambda a,b : a+b \n",
    "print(addition(2 , 5))"
   ]
  },
  {
   "cell_type": "code",
   "execution_count": 3,
   "id": "779eac96-02b9-4d80-8386-75f0287d32cf",
   "metadata": {},
   "outputs": [
    {
     "data": {
      "text/plain": [
       "True"
      ]
     },
     "execution_count": 3,
     "metadata": {},
     "output_type": "execute_result"
    }
   ],
   "source": [
    "def even1(n):\n",
    "    return n%2 == 0\n",
    "even1(12)"
   ]
  },
  {
   "cell_type": "code",
   "execution_count": 11,
   "id": "9ef63ca7-4b25-4b20-b0a2-dcfaaab3d7ea",
   "metadata": {},
   "outputs": [
    {
     "name": "stdout",
     "output_type": "stream",
     "text": [
      "True\n"
     ]
    }
   ],
   "source": [
    "even1 = lambda num : num%2 == 0\n",
    "print(even1(12))"
   ]
  },
  {
   "cell_type": "code",
   "execution_count": 21,
   "id": "bd4d409d-ba8e-43e2-91e3-af992096e10b",
   "metadata": {},
   "outputs": [
    {
     "name": "stdout",
     "output_type": "stream",
     "text": [
      "10\n"
     ]
    }
   ],
   "source": [
    "addition1  = lambda a,b,c : a+b+c\n",
    "print(addition1(2 , 5 , 3))"
   ]
  },
  {
   "cell_type": "markdown",
   "id": "a2ca7c58-b3e6-402e-a5e4-40f423d76eb0",
   "metadata": {},
   "source": [
    "## Map function"
   ]
  },
  {
   "cell_type": "code",
   "execution_count": 23,
   "id": "3b326969-5138-400e-9cb5-e251ec56bf33",
   "metadata": {},
   "outputs": [
    {
     "data": {
      "text/plain": [
       "[1, 4, 9, 16, 25]"
      ]
     },
     "execution_count": 23,
     "metadata": {},
     "output_type": "execute_result"
    }
   ],
   "source": [
    "#through the lst comphrenshion\n",
    "numbers = [1 ,2 , 3 , 4 , 5]\n",
    "s_lst = [num*num for num in numbers]\n",
    "s_lst"
   ]
  },
  {
   "cell_type": "code",
   "execution_count": 35,
   "id": "91cf87c5-b9ad-4a74-9929-d630f189c186",
   "metadata": {},
   "outputs": [
    {
     "data": {
      "text/plain": [
       "[1, 4, 9, 16, 25]"
      ]
     },
     "execution_count": 35,
     "metadata": {},
     "output_type": "execute_result"
    }
   ],
   "source": [
    "#using the lambda functition with map:\n",
    "square = lambda n : n*n\n",
    "numbers = [1 ,2 , 3 , 4 , 5]\n",
    "list(map(square , numbers))"
   ]
  },
  {
   "cell_type": "code",
   "execution_count": 43,
   "id": "cbbcf77e-4bb3-47f2-a8d5-c3242240442e",
   "metadata": {},
   "outputs": [
    {
     "data": {
      "text/plain": [
       "[1, 4, 9, 16, 25]"
      ]
     },
     "execution_count": 43,
     "metadata": {},
     "output_type": "execute_result"
    }
   ],
   "source": [
    "# using lambda function directly : \n",
    "numbers = [1 , 2 , 3, 4 , 5]\n",
    "list(map(lambda x : x*x , numbers))"
   ]
  },
  {
   "cell_type": "code",
   "execution_count": 45,
   "id": "bbb36c50-e1cd-4e78-adf2-64c64e62f45c",
   "metadata": {},
   "outputs": [
    {
     "name": "stdout",
     "output_type": "stream",
     "text": [
      "[5, 7, 9]\n"
     ]
    }
   ],
   "source": [
    "#map with multiple iterables :\n",
    "#adding the two arrays : \n",
    "\n",
    "numbers1 = [1 , 2 , 3]\n",
    "numbers2 = [4 , 5, 6]\n",
    "\n",
    "added_numbers = list(map(lambda x , y : x+y , numbers1 , numbers2))\n",
    "print(added_numbers)\n"
   ]
  },
  {
   "cell_type": "code",
   "execution_count": 63,
   "id": "899c1d06-63d7-45d7-8e45-59fb2f6b72be",
   "metadata": {},
   "outputs": [],
   "source": [
    "# map to convert a list of the strings to integers : \n",
    "str_num = ['1' , '2' , '3' , '4' , '5']\n",
    "nums_in_integer = list(map(lambda x : int(x) , str_num))\n",
    "# or\n",
    "nums_in_integer = list(map(int , str_num))\n",
    "nums_in_integer = list(map(lambda x : x+1 , nums_in_integer))"
   ]
  },
  {
   "cell_type": "code",
   "execution_count": 71,
   "id": "cf7f0fa9-8f59-4195-8c1f-919e30b855f4",
   "metadata": {},
   "outputs": [
    {
     "name": "stdout",
     "output_type": "stream",
     "text": [
      "['APPLE', 'WATERMELON', 'CHERRY']\n"
     ]
    }
   ],
   "source": [
    "words = ['apple' , 'watermelon' , 'cherry']\n",
    "upper_words = list(map(lambda st : st.upper() , words))\n",
    "print(upper_words)\n",
    "\n",
    "# using the map only we can do : \n",
    "upper_words = list(map(str.upper, words))"
   ]
  },
  {
   "cell_type": "code",
   "execution_count": 85,
   "id": "b3211100-7784-4654-a515-9f2df9dbc76a",
   "metadata": {},
   "outputs": [
    {
     "name": "stdout",
     "output_type": "stream",
     "text": [
      "['joe', 'krish', 'allen']\n"
     ]
    }
   ],
   "source": [
    "people =  [\n",
    "    {'name' : 'joe' , 'age' : 32},\n",
    "    {'name' : 'krish' , 'age' : 22},\n",
    "    {'name' : 'allen' , 'age' : 37},\n",
    "]\n",
    "lst_names = list(map(lambda item : item['name'], people))\n",
    "print(lst_names)"
   ]
  },
  {
   "cell_type": "markdown",
   "id": "07e2c8a0-e668-49e9-b6b0-6b56c5232cb0",
   "metadata": {},
   "source": [
    "## Filter Function"
   ]
  },
  {
   "cell_type": "markdown",
   "id": "6f21c286-a33c-454a-8191-f0fa787ca802",
   "metadata": {},
   "source": [
    "Filter function is used to filter out values fromt the iterables like list and it returns the \n",
    "iterable , it works on the return statement if the statement is true for that particular \n",
    "condition it will filter that particular value from the list "
   ]
  },
  {
   "cell_type": "code",
   "execution_count": 9,
   "id": "fc32171e-9141-427f-b389-6d8022eec925",
   "metadata": {},
   "outputs": [
    {
     "name": "stdout",
     "output_type": "stream",
     "text": [
      "[2, 4, 6, 8, 10]\n"
     ]
    }
   ],
   "source": [
    "#filter-lambda-function\n",
    "lst = [1 ,2 ,3 ,4 , 5, 6 , 7, 8 , 9 , 10]\n",
    "filtered_list = list(filter(lambda num : num%2 == 0 , lst))\n",
    "print(filtered_list)"
   ]
  },
  {
   "cell_type": "code",
   "execution_count": 12,
   "id": "d90a9176-e6a3-4b5d-934b-15924e7eacb3",
   "metadata": {},
   "outputs": [
    {
     "name": "stdout",
     "output_type": "stream",
     "text": [
      "[6, 8, 10]\n"
     ]
    }
   ],
   "source": [
    "#filter-with-map-with-multi-variable\n",
    "lst = [1 ,2 ,3 ,4 , 5, 6 , 7, 8 , 9 , 10]\n",
    "filtered_list = list(filter(lambda num : num%2 == 0 and num > 5 , lst))\n",
    "print(filtered_list)"
   ]
  },
  {
   "cell_type": "code",
   "execution_count": 14,
   "id": "63f41730-4b3e-4c0f-afcf-3074ea59e390",
   "metadata": {},
   "outputs": [
    {
     "name": "stdout",
     "output_type": "stream",
     "text": [
      "[{'name': 'joe', 'age': 32}, {'name': 'allen', 'age': 37}]\n"
     ]
    }
   ],
   "source": [
    "#filter to check if the age is greater than 25 in dicionaries:\n",
    "people =  [\n",
    "    {'name' : 'joe' , 'age' : 32},\n",
    "    {'name' : 'krish' , 'age' : 22},\n",
    "    {'name' : 'allen' , 'age' : 37},\n",
    "]\n",
    "lst_names = list(filter(lambda key : key['age'] > 25 , people))\n",
    "print(lst_names)"
   ]
  },
  {
   "cell_type": "markdown",
   "id": "8b2e55aa-f9f3-489e-89b4-e96a09419f1d",
   "metadata": {},
   "source": [
    "### Conclusion"
   ]
  },
  {
   "cell_type": "markdown",
   "id": "6ed742cc-b8fe-4764-94d1-2d784612567e",
   "metadata": {},
   "source": [
    "The filter() function is a powerful tool for creating iterators that filter items out of\n",
    "an iterabls based on a function. It is commonly used for data cleaning , filtering objects and\n",
    "removing unwanted elements from lists. By mastering filter() , you can write more concise and\n",
    "efficient code for processing and manipulating collections in python                                                            "
   ]
  },
  {
   "cell_type": "code",
   "execution_count": null,
   "id": "12218568-e091-47f4-b260-641a96768419",
   "metadata": {},
   "outputs": [],
   "source": []
  }
 ],
 "metadata": {
  "kernelspec": {
   "display_name": "Python (venv)",
   "language": "python",
   "name": "venv"
  },
  "language_info": {
   "codemirror_mode": {
    "name": "ipython",
    "version": 3
   },
   "file_extension": ".py",
   "mimetype": "text/x-python",
   "name": "python",
   "nbconvert_exporter": "python",
   "pygments_lexer": "ipython3",
   "version": "3.12.0"
  }
 },
 "nbformat": 4,
 "nbformat_minor": 5
}
