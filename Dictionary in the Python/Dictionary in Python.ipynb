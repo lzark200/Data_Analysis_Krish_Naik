{
 "cells": [
  {
   "cell_type": "markdown",
   "id": "90ec9cfb-b501-4f93-83c0-0fc19e08190c",
   "metadata": {},
   "source": [
    "### Dictionary"
   ]
  },
  {
   "cell_type": "markdown",
   "id": "5951bb7f-50b7-481d-b333-74e9095d8d99",
   "metadata": {},
   "source": [
    "Dictionaries are unordered collections of items.They store a data in the form of the key-value\n",
    "pair.Keys must be unique and immutable(e.g : strings , numbers , or tuples) , while values \n",
    "can be of the type"
   ]
  },
  {
   "cell_type": "code",
   "execution_count": 8,
   "id": "1ee445c3-d5e2-447c-a3cf-3c58ca63f837",
   "metadata": {},
   "outputs": [
    {
     "name": "stdout",
     "output_type": "stream",
     "text": [
      "<class 'dict'>\n"
     ]
    }
   ],
   "source": [
    "#creating dictionaries: \n",
    "empty_dict = {}\n",
    "print(type(empty_dict))"
   ]
  },
  {
   "cell_type": "code",
   "execution_count": 10,
   "id": "398266a3-70aa-4175-b9fe-58cecb25bc6a",
   "metadata": {},
   "outputs": [
    {
     "data": {
      "text/plain": [
       "{}"
      ]
     },
     "execution_count": 10,
     "metadata": {},
     "output_type": "execute_result"
    }
   ],
   "source": [
    "empty_dict = dict()\n",
    "empty_dict"
   ]
  },
  {
   "cell_type": "code",
   "execution_count": 14,
   "id": "ddc2a6c0-369b-4234-9cd0-b65249b3edcb",
   "metadata": {},
   "outputs": [
    {
     "name": "stdout",
     "output_type": "stream",
     "text": [
      "{'name': 'aditya', 'age': 24, 'grade': 20}\n",
      "<class 'dict'>\n"
     ]
    }
   ],
   "source": [
    "students = {\n",
    "    \"name\" : \"aditya\" , \n",
    "    \"age\" : 24 , \n",
    "    \"grade\":20\n",
    "}\n",
    "print(students)\n",
    "print(type(students))"
   ]
  },
  {
   "cell_type": "code",
   "execution_count": 16,
   "id": "a590da4e-a259-4b93-8468-9d88f2007de3",
   "metadata": {},
   "outputs": [
    {
     "name": "stdout",
     "output_type": "stream",
     "text": [
      "{'name': 'kshatriya', 'age': 24, 'grade': 20}\n",
      "<class 'dict'>\n"
     ]
    }
   ],
   "source": [
    "#no Error but if same key is used multiple times then key value get replaced with the most recent updated value:\n",
    "students = {\n",
    "    \"name\" : \"aditya\" , \n",
    "    \"age\" : 24 , \n",
    "    \"grade\":20 , \n",
    "    \"name\" : \"kshatriya\"\n",
    "}\n",
    "print(students)\n",
    "print(type(students))\n"
   ]
  },
  {
   "cell_type": "code",
   "execution_count": 52,
   "id": "e495187a-ea4e-4643-9c9e-ef83306d13e4",
   "metadata": {},
   "outputs": [
    {
     "name": "stdout",
     "output_type": "stream",
     "text": [
      "20\n",
      "24\n"
     ]
    }
   ],
   "source": [
    "## accessing Dictionary Elements  : \n",
    "students = {\n",
    "    \"name\" : \"aditya\" , \n",
    "    \"age\" : 24 , \n",
    "    \"grade\":20 , \n",
    "    \"name\" : \"kshatriya\"\n",
    "}\n",
    "print(students['grade'])\n",
    "print(students['age'])"
   ]
  },
  {
   "cell_type": "code",
   "execution_count": 54,
   "id": "76218fd4-81ff-4986-b9df-f9fd35f34c4d",
   "metadata": {},
   "outputs": [
    {
     "name": "stdout",
     "output_type": "stream",
     "text": [
      "20\n",
      "None\n",
      "Not Available\n"
     ]
    }
   ],
   "source": [
    "## Accessing using get() method\n",
    "print(students.get('grade'))\n",
    "\n",
    "#If the key is not present then in that case we will get none\n",
    "print(students.get('last_name'))\n",
    "\n",
    "#if key is not available  we can return the default value : \n",
    "print(students.get('last_name' , 'Not Available'))"
   ]
  },
  {
   "cell_type": "code",
   "execution_count": 56,
   "id": "7b8f9c58-40d5-4168-8abf-5b2d0552336f",
   "metadata": {},
   "outputs": [
    {
     "name": "stdout",
     "output_type": "stream",
     "text": [
      "{'name': 'kshatriya', 'age': 24, 'grade': 20}\n",
      "{'name': 'kshatriya', 'age': 45, 'grade': 20, 'girlfriend': 'shreya'}\n"
     ]
    }
   ],
   "source": [
    "## Modifying dictionary elements : \n",
    "## Dictionary are mutable , so you can add , update or delete elements\n",
    "\n",
    "print(students)\n",
    "#updating the value of the particular key\n",
    "students[\"age\"] = 45 \n",
    "# adding a new key-value pair\n",
    "students[\"girlfriend\"] = \"shreya\" \n",
    "print(students)"
   ]
  },
  {
   "cell_type": "code",
   "execution_count": 58,
   "id": "748d1365-c5be-4fad-bd4e-0fa18f23d751",
   "metadata": {},
   "outputs": [
    {
     "name": "stdout",
     "output_type": "stream",
     "text": [
      "{'name': 'kshatriya', 'age': 45, 'grade': 20, 'girlfriend': 'shreya'}\n",
      "{'name': 'kshatriya', 'age': 45, 'girlfriend': 'shreya'}\n"
     ]
    }
   ],
   "source": [
    "# deletion of the key-value pair : \n",
    "print(students)\n",
    "del students['grade'] ## delete key and value pair\n",
    "print(students)"
   ]
  },
  {
   "cell_type": "code",
   "execution_count": 70,
   "id": "585a43df-33dc-4f2c-832e-1f11af4b451f",
   "metadata": {},
   "outputs": [
    {
     "name": "stdout",
     "output_type": "stream",
     "text": [
      "dict_keys(['name', 'age', 'girlfriend'])\n",
      "dict_values(['kshatriya', 45, 'shreya'])\n",
      "<class 'dict_items'> dict_items([('name', 'kshatriya'), ('age', 45), ('girlfriend', 'shreya')])\n"
     ]
    }
   ],
   "source": [
    "## Dictonary methods : \n",
    "\n",
    "#it will help you to get the all the keys\n",
    "keys = students.keys()\n",
    "print(keys)\n",
    "\n",
    "# it helps you to get the all the value associated with certain keys\n",
    "values = students.values()\n",
    "print(values)\n",
    "\n",
    "#getting all the key-value pairs : This will return the list of the tuples\n",
    "key_values = students.items()\n",
    "print(type(key_values) , key_values)"
   ]
  },
  {
   "cell_type": "markdown",
   "id": "8bae2e4b-4b0c-4cee-b2a2-f0dcb9be1b94",
   "metadata": {},
   "source": [
    "### COPY in the python "
   ]
  },
  {
   "cell_type": "code",
   "execution_count": null,
   "id": "8efb23e3-c71c-4f8b-9b0d-54ad2756d421",
   "metadata": {},
   "outputs": [],
   "source": [
    "## accessing Dictionary Elements  : \n",
    "student = {\n",
    "    \"name\" : \"aditya\" , \n",
    "    \"age\" : 24 , \n",
    "    \"grade\":20 , \n",
    "    \"name\" : \"kshatriya\"\n",
    "}"
   ]
  },
  {
   "cell_type": "code",
   "execution_count": 4,
   "id": "17609c15-ffbb-4d68-8785-d957094fd8a7",
   "metadata": {},
   "outputs": [
    {
     "name": "stdout",
     "output_type": "stream",
     "text": [
      "{'name': 'kshatriya', 'age': 24, 'grade': 20}\n",
      "{'name': 'kshatriya', 'age': 24, 'grade': 20}\n"
     ]
    }
   ],
   "source": [
    "student_copy = student \n",
    "print(student)\n",
    "print(student_copy)"
   ]
  },
  {
   "cell_type": "markdown",
   "id": "46884b98-389b-44cf-8de3-54f4fcb17d26",
   "metadata": {},
   "source": [
    "This does not create a copy.\n",
    "\n",
    "It only creates a new reference to the same object in memory.\n",
    "\n",
    "So any changes made through student or student_copy will affect both."
   ]
  },
  {
   "cell_type": "code",
   "execution_count": 6,
   "id": "f203f56f-13ec-4691-bc52-fd79aacc2735",
   "metadata": {},
   "outputs": [
    {
     "name": "stdout",
     "output_type": "stream",
     "text": [
      "{'name': 'Ram', 'age': 24, 'grade': 20}\n",
      "{'name': 'Ram', 'age': 24, 'grade': 20}\n"
     ]
    }
   ],
   "source": [
    "student[\"name\"] = \"Ram\" \n",
    "print(student)\n",
    "print(student_copy)"
   ]
  },
  {
   "cell_type": "markdown",
   "id": "d532c007-cc6a-4491-b82b-506d185f9a6c",
   "metadata": {},
   "source": [
    "Here you can see that the making changes in the student also makes changes in the student_copy\n",
    "that is not correct because if I make changes in the student then it should not affect the other\n",
    "arrays such as the student_copy"
   ]
  },
  {
   "cell_type": "markdown",
   "id": "51730d6a-485f-4fb4-b3a9-a3a257b734c7",
   "metadata": {},
   "source": [
    "### Shallow copy"
   ]
  },
  {
   "cell_type": "code",
   "execution_count": 10,
   "id": "cbbf9bb4-10ad-404b-a0a5-99d48e0ae5a1",
   "metadata": {},
   "outputs": [],
   "source": [
    "student_copy1 = student.copy()"
   ]
  },
  {
   "cell_type": "code",
   "execution_count": 12,
   "id": "68004f11-0182-4776-9c1a-9edfe30f7daf",
   "metadata": {},
   "outputs": [
    {
     "name": "stdout",
     "output_type": "stream",
     "text": [
      "{'name': 'manoj', 'age': 24, 'grade': 20}\n",
      "{'name': 'Ram', 'age': 24, 'grade': 20}\n"
     ]
    }
   ],
   "source": [
    "student[\"name\"] = \"manoj\" \n",
    "print(student)\n",
    "print(student_copy1)"
   ]
  },
  {
   "cell_type": "markdown",
   "id": "e99fa0b5-6802-4eb6-ba07-927a9aaf6c3a",
   "metadata": {},
   "source": [
    "This creates a shallow copy of the dictionary student.\n",
    "\n",
    "It copies only the outermost object.\n",
    "\n",
    "If the dictionary contains nested mutable objects (like other dicts, lists), the inner objects are not copied; instead, they are referenced.\n",
    "\n",
    "So changes to inner mutable objects in the original will affect the copy (and vice versa)."
   ]
  },
  {
   "cell_type": "markdown",
   "id": "ea043727-c0e7-4c6b-9da6-20dac7be3044",
   "metadata": {},
   "source": [
    "student.copy() creates a shallow copy.\n",
    "\n",
    "Top-level keys and values are copied.\n",
    "\n",
    "Since \"name\" is a string (an immutable object), assigning a new string to it (student[\"name\"] = \"manoj\") only changes the original dictionary. The copy remains unaffected.\n",
    "\n",
    "Shallow copies only share references to nested mutable objects (like lists, dicts). For immutable objects (like strings, ints), it doesn’t matter — they're copied by value automatically.\n",
    "\n",
    "\n"
   ]
  },
  {
   "cell_type": "code",
   "execution_count": 17,
   "id": "18ed391b-1177-4a02-9190-2aed7c54f940",
   "metadata": {},
   "outputs": [
    {
     "name": "stdout",
     "output_type": "stream",
     "text": [
      "Original: {'name': 'John', 'marks': {'math': 100, 'science': 85}}\n",
      "Shallow Copy: {'name': 'John', 'marks': {'math': 100, 'science': 85}}\n"
     ]
    }
   ],
   "source": [
    "student = {\n",
    "    \"name\": \"John\",\n",
    "    \"marks\": {\"math\": 90, \"science\": 85}\n",
    "}\n",
    "\n",
    "student_copy1 = student.copy()\n",
    "student[\"marks\"][\"math\"] = 100\n",
    "\n",
    "print(\"Original:\", student)\n",
    "print(\"Shallow Copy:\", student_copy1)\n"
   ]
  },
  {
   "cell_type": "markdown",
   "id": "e6822917-9522-4414-9a5f-b1c9c190150b",
   "metadata": {},
   "source": [
    "### Deep copy"
   ]
  },
  {
   "cell_type": "code",
   "execution_count": 24,
   "id": "1827486b-0546-44a3-9613-da937a3a5080",
   "metadata": {},
   "outputs": [],
   "source": [
    "import copy\n",
    "student_copy2 = copy.deepcopy(student)\n"
   ]
  },
  {
   "cell_type": "markdown",
   "id": "2da60f82-f839-4c5a-9947-e087ee1437b3",
   "metadata": {},
   "source": [
    "It recursively copies everything, including nested mutable objects.\n",
    "\n",
    "The new copy is completely independent of the original."
   ]
  },
  {
   "cell_type": "code",
   "execution_count": 27,
   "id": "82be09d3-973b-47a5-85c7-feb210e7fbf7",
   "metadata": {},
   "outputs": [
    {
     "name": "stdout",
     "output_type": "stream",
     "text": [
      "90\n"
     ]
    }
   ],
   "source": [
    "import copy\n",
    "\n",
    "student = {\n",
    "    \"name\": \"John\",\n",
    "    \"marks\": {\"math\": 90, \"science\": 85}\n",
    "}\n",
    "\n",
    "student_copy2 = copy.deepcopy(student)\n",
    "student[\"marks\"][\"math\"] = 100\n",
    "\n",
    "print(student_copy2[\"marks\"][\"math\"])  # Output: 90 (unchanged)\n"
   ]
  },
  {
   "cell_type": "markdown",
   "id": "4df65efc-55a6-4fcb-8bdb-624bb4cbb2b1",
   "metadata": {},
   "source": [
    "Always try to do the deep copy in order to maintain the isolation in the code segement"
   ]
  },
  {
   "cell_type": "markdown",
   "id": "b0979ab1-d069-4394-b346-5cefec85f201",
   "metadata": {},
   "source": [
    "### Iterating over the dictionaries"
   ]
  },
  {
   "cell_type": "code",
   "execution_count": 31,
   "id": "a4e5d18f-1f39-4c63-ab2e-3f3a949ac167",
   "metadata": {
    "scrolled": true
   },
   "outputs": [
    {
     "name": "stdout",
     "output_type": "stream",
     "text": [
      "name\n",
      "marks\n"
     ]
    }
   ],
   "source": [
    "for keys in student.keys():\n",
    "    print(keys)"
   ]
  },
  {
   "cell_type": "code",
   "execution_count": 33,
   "id": "941ba97e-f280-42d0-873d-3f8efab238fa",
   "metadata": {},
   "outputs": [
    {
     "name": "stdout",
     "output_type": "stream",
     "text": [
      "John\n",
      "{'math': 100, 'science': 85}\n"
     ]
    }
   ],
   "source": [
    "#iterate over the values\n",
    "for value in student.values():\n",
    "    print(value)"
   ]
  },
  {
   "cell_type": "code",
   "execution_count": 35,
   "id": "8239b331-67b8-4bd0-90a5-8320779ace44",
   "metadata": {},
   "outputs": [
    {
     "name": "stdout",
     "output_type": "stream",
     "text": [
      "name:John\n",
      "marks:{'math': 100, 'science': 85}\n"
     ]
    }
   ],
   "source": [
    "#iterate over the key-value pairs\n",
    "for key , value in student.items():\n",
    "    print(f\"{key}:{value}\")"
   ]
  },
  {
   "cell_type": "markdown",
   "id": "c4ebda1c-efe9-4cc0-b0a8-1d55abf67f6b",
   "metadata": {},
   "source": [
    "### Nested Dictonaries : "
   ]
  },
  {
   "cell_type": "code",
   "execution_count": 38,
   "id": "57d082b2-e322-4288-b25d-b59fef8f84f1",
   "metadata": {},
   "outputs": [],
   "source": [
    "students ={\n",
    "    \"student1\" : {\n",
    "        \"name\" : \"krish\" , \n",
    "        \"age\" : 45\n",
    "    } , \n",
    "    \"student2\": {\n",
    "        \"name\" : \"varun\" , \n",
    "        \"age\"  : 45\n",
    "    }\n",
    "}"
   ]
  },
  {
   "cell_type": "code",
   "execution_count": 48,
   "id": "571ce872-5132-4e6a-ab88-0625779b9547",
   "metadata": {},
   "outputs": [
    {
     "name": "stdout",
     "output_type": "stream",
     "text": [
      "krish\n"
     ]
    }
   ],
   "source": [
    "print(students[\"student1\"][\"name\"])"
   ]
  },
  {
   "cell_type": "code",
   "execution_count": 56,
   "id": "910a8fd0-b8d6-4318-98af-25a8a498fc4f",
   "metadata": {},
   "outputs": [
    {
     "name": "stdout",
     "output_type": "stream",
     "text": [
      "dict_items([('student1', {'name': 'krish', 'age': 45}), ('student2', {'name': 'varun', 'age': 45})])\n"
     ]
    }
   ],
   "source": [
    "print(students.items())"
   ]
  },
  {
   "cell_type": "markdown",
   "id": "88f90fbc-8a67-4084-b88a-28e19bf285c5",
   "metadata": {},
   "source": [
    "### Iterating over the nested dictionaries : "
   ]
  },
  {
   "cell_type": "code",
   "execution_count": 64,
   "id": "e5e53150-3072-4bb3-bbf7-fb2daa9d2761",
   "metadata": {},
   "outputs": [
    {
     "name": "stdout",
     "output_type": "stream",
     "text": [
      "student1 : {'name': 'krish', 'age': 45}\n",
      "name:krish\n",
      "age:45\n",
      "student2 : {'name': 'varun', 'age': 45}\n",
      "name:varun\n",
      "age:45\n"
     ]
    }
   ],
   "source": [
    "for student_id , student_info in students.items():\n",
    "    print(f\"{student_id} : {student_info}\")\n",
    "    for key , value in student_info.items():\n",
    "        print(f\"{key}:{value}\")"
   ]
  },
  {
   "cell_type": "markdown",
   "id": "6f4d7644-798f-47f5-81a3-90b891aaaa7c",
   "metadata": {},
   "source": [
    "### Dictionary Comphrension"
   ]
  },
  {
   "cell_type": "code",
   "execution_count": 73,
   "id": "23ce2137-c5c2-47dc-8ea0-7865c583c79f",
   "metadata": {},
   "outputs": [
    {
     "name": "stdout",
     "output_type": "stream",
     "text": [
      "{0: 0, 2: 4, 4: 16, 6: 36, 8: 64, 10: 100, 12: 144, 14: 196, 16: 256, 18: 324, 20: 400, 22: 484, 24: 576, 26: 676, 28: 784, 30: 900, 32: 1024, 34: 1156, 36: 1296, 38: 1444, 40: 1600, 42: 1764, 44: 1936, 46: 2116, 48: 2304, 50: 2500, 52: 2704, 54: 2916, 56: 3136, 58: 3364, 60: 3600, 62: 3844, 64: 4096, 66: 4356, 68: 4624, 70: 4900, 72: 5184, 74: 5476, 76: 5776, 78: 6084, 80: 6400, 82: 6724, 84: 7056, 86: 7396, 88: 7744, 90: 8100, 92: 8464, 94: 8836, 96: 9216, 98: 9604}\n"
     ]
    }
   ],
   "source": [
    "#making the dictionary that  all the even number from the 1 to 100 :\n",
    "\n",
    "squares = {x:x**2 for x in range(100) if x%2 == 0}\n",
    "print(squares)"
   ]
  },
  {
   "cell_type": "code",
   "execution_count": 75,
   "id": "562ffd24-f36d-4293-905e-5ae2f338c226",
   "metadata": {},
   "outputs": [],
   "source": [
    "#Practical Examples : \n",
    "#use dictionary to count the frequency of the elements in the list : "
   ]
  },
  {
   "cell_type": "code",
   "execution_count": 87,
   "id": "11365a78-2e24-4d21-a4c5-d542b346d887",
   "metadata": {},
   "outputs": [
    {
     "name": "stdout",
     "output_type": "stream",
     "text": [
      "{1: 1, 2: 2, 3: 3, 4: 3, 5: 3, 9: 2}\n"
     ]
    }
   ],
   "source": [
    "numbers = [1,2,2,3,3,3,4,4,4,5,5,5,9,9]\n",
    "dict = {}\n",
    "for num in numbers:\n",
    "    if num in dict:\n",
    "        dict[num]+=1\n",
    "    else:\n",
    "        dict[num] = 1\n",
    "print(dict)"
   ]
  },
  {
   "cell_type": "markdown",
   "id": "f344c1e9-fb4e-4609-82bd-b16d0ff69663",
   "metadata": {},
   "source": [
    "### Merge 2 dictionary into one : "
   ]
  },
  {
   "cell_type": "code",
   "execution_count": 94,
   "id": "3c797993-1b71-4f99-a36f-75959e2a0ba6",
   "metadata": {},
   "outputs": [
    {
     "data": {
      "text/plain": [
       "{'a': 1, 'b': 3, 'c': 4}"
      ]
     },
     "execution_count": 94,
     "metadata": {},
     "output_type": "execute_result"
    }
   ],
   "source": [
    "dict1 = {\"a\" : 1 , \"b\" : 2}\n",
    "dict2 = {\"b\" : 3 , \"c\" : 4}\n",
    "merged_dict = {**dict1 , **dict2}\n",
    "merged_dict"
   ]
  },
  {
   "cell_type": "code",
   "execution_count": null,
   "id": "6fd02ad8-ac4a-4037-97bf-ea5bbb4aa0cc",
   "metadata": {},
   "outputs": [],
   "source": []
  }
 ],
 "metadata": {
  "kernelspec": {
   "display_name": "Python (venv)",
   "language": "python",
   "name": "venv"
  },
  "language_info": {
   "codemirror_mode": {
    "name": "ipython",
    "version": 3
   },
   "file_extension": ".py",
   "mimetype": "text/x-python",
   "name": "python",
   "nbconvert_exporter": "python",
   "pygments_lexer": "ipython3",
   "version": "3.12.0"
  }
 },
 "nbformat": 4,
 "nbformat_minor": 5
}
