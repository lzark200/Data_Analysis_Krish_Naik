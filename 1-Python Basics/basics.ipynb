{
 "cells": [
  {
   "cell_type": "code",
   "execution_count": null,
   "id": "5dfa88fc",
   "metadata": {},
   "outputs": [
    {
     "name": "stdout",
     "output_type": "stream",
     "text": [
      "21\n"
     ]
    }
   ],
   "source": [
    "## lINE CONTINUATION : \n",
    "## use a backslash(\\) to continue a statement to the next line.\n",
    "\n",
    "total = 2 + 4 + 4 \\\n",
    "+5 + 6\n",
    "print(total)"
   ]
  },
  {
   "cell_type": "code",
   "execution_count": null,
   "id": "f4b616ed",
   "metadata": {},
   "outputs": [
    {
     "name": "stdout",
     "output_type": "stream",
     "text": [
      "5 10 15\n"
     ]
    }
   ],
   "source": [
    "## Multiple Statements on a single line using the (;)\n",
    "x = 5 ; y = 10 ; z = x+y ; \n",
    "print(x , y , z)"
   ]
  },
  {
   "cell_type": "code",
   "execution_count": 7,
   "id": "144e711d",
   "metadata": {},
   "outputs": [
    {
     "name": "stdout",
     "output_type": "stream",
     "text": [
      "45 krish\n"
     ]
    }
   ],
   "source": [
    "#understanding the semantics in the python : \n",
    "name = \"krish\" \n",
    "age = 45\n",
    "\n",
    "print(age , name) ;"
   ]
  },
  {
   "cell_type": "code",
   "execution_count": 8,
   "id": "b83e9423",
   "metadata": {},
   "outputs": [
    {
     "data": {
      "text/plain": [
       "int"
      ]
     },
     "execution_count": 8,
     "metadata": {},
     "output_type": "execute_result"
    }
   ],
   "source": [
    "#finding the type of the variable : \n",
    "name = 78 \n",
    "type(name)"
   ]
  },
  {
   "cell_type": "code",
   "execution_count": null,
   "id": "bb29d336",
   "metadata": {},
   "outputs": [],
   "source": []
  }
 ],
 "metadata": {
  "kernelspec": {
   "display_name": "Python 3",
   "language": "python",
   "name": "python3"
  },
  "language_info": {
   "codemirror_mode": {
    "name": "ipython",
    "version": 3
   },
   "file_extension": ".py",
   "mimetype": "text/x-python",
   "name": "python",
   "nbconvert_exporter": "python",
   "pygments_lexer": "ipython3",
   "version": "3.12.0"
  }
 },
 "nbformat": 4,
 "nbformat_minor": 5
}
