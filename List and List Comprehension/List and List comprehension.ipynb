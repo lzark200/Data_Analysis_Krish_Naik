{
 "cells": [
  {
   "cell_type": "markdown",
   "id": "62993c35-5af1-4035-a6ab-03f445e07c07",
   "metadata": {},
   "source": [
    "### Defining List"
   ]
  },
  {
   "cell_type": "code",
   "execution_count": 3,
   "id": "b498cd7d-55a5-45a7-8f44-794a42c11c82",
   "metadata": {},
   "outputs": [
    {
     "name": "stdout",
     "output_type": "stream",
     "text": [
      "<class 'list'>\n"
     ]
    }
   ],
   "source": [
    "lst = []\n",
    "print(type(lst))"
   ]
  },
  {
   "cell_type": "code",
   "execution_count": 5,
   "id": "70265db1-b555-490c-aae4-e20fc5ecb9eb",
   "metadata": {},
   "outputs": [
    {
     "data": {
      "text/plain": [
       "['Krish', 'Jack', 'Jacob', 1, 2, 3, 4]"
      ]
     },
     "execution_count": 5,
     "metadata": {},
     "output_type": "execute_result"
    }
   ],
   "source": [
    "name = [\"Krish\" , \"Jack\" , \"Jacob\" , 1 , 2, 3, 4] \n",
    "name\n"
   ]
  },
  {
   "cell_type": "code",
   "execution_count": 7,
   "id": "e774804d-88c2-460b-a9ad-0f26205fc50b",
   "metadata": {},
   "outputs": [
    {
     "data": {
      "text/plain": [
       "[1, 3.1456, 'jhon', '%']"
      ]
     },
     "execution_count": 7,
     "metadata": {},
     "output_type": "execute_result"
    }
   ],
   "source": [
    "mixed_list = [1 , 3.1456 , \"jhon\" , '%']\n",
    "mixed_list"
   ]
  },
  {
   "cell_type": "markdown",
   "id": "763fc493-64ce-4981-91e5-b26ce953d3d0",
   "metadata": {},
   "source": [
    "### Accessing List"
   ]
  },
  {
   "cell_type": "code",
   "execution_count": 9,
   "id": "7435b6af-59a5-4a4e-985f-11f0a4d46a69",
   "metadata": {},
   "outputs": [
    {
     "name": "stdout",
     "output_type": "stream",
     "text": [
      "banana\n",
      "gauava\n"
     ]
    }
   ],
   "source": [
    "fruits = [\"apple\" , \"banana\" , \"cherry\" , \"kiwi\" , \"grapes\" , \"gauava\"]\n",
    "print(fruits[1])\n",
    "print(fruits[-1])"
   ]
  },
  {
   "cell_type": "markdown",
   "id": "9080a69a-decd-4c2a-abcf-236620778bfb",
   "metadata": {},
   "source": []
  },
  {
   "cell_type": "code",
   "execution_count": 11,
   "id": "aa09e95b-7163-4745-a920-01c76e791a03",
   "metadata": {},
   "outputs": [
    {
     "name": "stdout",
     "output_type": "stream",
     "text": [
      "['banana', 'cherry', 'kiwi', 'grapes', 'gauava']\n",
      "['banana', 'cherry']\n",
      "gauava\n",
      "['apple', 'banana', 'cherry', 'kiwi', 'grapes', 'gauava']\n",
      "['apple', 'banana', 'cherry', 'kiwi', 'grapes']\n",
      "['apple', 'banana', 'cherry', 'kiwi', 'grapes', 'gauava']\n"
     ]
    }
   ],
   "source": [
    "print(fruits[1:])\n",
    "print(fruits[1:3])\n",
    "print(fruits[-1])\n",
    "print(fruits[-6:])\n",
    "print(fruits[-6:-1])\n",
    "print(fruits[0:])"
   ]
  },
  {
   "cell_type": "markdown",
   "id": "70ef67d0-1fb3-4819-9017-77b135b3cd15",
   "metadata": {},
   "source": [
    "### Modifying the list "
   ]
  },
  {
   "cell_type": "code",
   "execution_count": 63,
   "id": "be2d7d80-8255-4aae-8949-3fcb1326d363",
   "metadata": {},
   "outputs": [
    {
     "data": {
      "text/plain": [
       "['apple', 'lemon', 'cherry', 'kiwi', 'grapes', 'gauava']"
      ]
     },
     "execution_count": 63,
     "metadata": {},
     "output_type": "execute_result"
    }
   ],
   "source": [
    "fruits = [\"apple\" , \"banana\" , \"cherry\" , \"kiwi\" , \"grapes\" , \"gauava\"]\n",
    "fruits[1] = \"lemon\"\n",
    "fruits"
   ]
  },
  {
   "cell_type": "code",
   "execution_count": 65,
   "id": "c5f9170a-c390-4f87-a878-519a887b4d74",
   "metadata": {},
   "outputs": [
    {
     "name": "stdout",
     "output_type": "stream",
     "text": [
      "['apple', 'w', 'a', 't', 'e', 'r', 'm', 'e', 'l', 'o', 'n']\n"
     ]
    }
   ],
   "source": [
    "fruits[1:] = \"watermelon\"\n",
    "print(fruits)"
   ]
  },
  {
   "cell_type": "markdown",
   "id": "56a92ef2-1255-419c-8108-2d6257ecc932",
   "metadata": {},
   "source": [
    "### List Methods"
   ]
  },
  {
   "cell_type": "code",
   "execution_count": 68,
   "id": "42c745a1-311f-4ee3-8f0b-1ea28a067309",
   "metadata": {},
   "outputs": [
    {
     "data": {
      "text/plain": [
       "['apple', 'banana', 'cherry', 'kiwi', 'grapes', 'gauava', 'orange']"
      ]
     },
     "execution_count": 68,
     "metadata": {},
     "output_type": "execute_result"
    }
   ],
   "source": [
    "#append element at the last : \n",
    "fruits = [\"apple\" , \"banana\" , \"cherry\" , \"kiwi\" , \"grapes\" , \"gauava\"]\n",
    "fruits.append(\"orange\") ## add an item to the end\n",
    "fruits"
   ]
  },
  {
   "cell_type": "code",
   "execution_count": 72,
   "id": "5a6d692b-8c5c-4a6a-8d42-a92fe2dc5eae",
   "metadata": {},
   "outputs": [
    {
     "name": "stdout",
     "output_type": "stream",
     "text": [
      "['apple', 'amla', 'banana', 'cherry', 'kiwi', 'grapes', 'gauava']\n"
     ]
    }
   ],
   "source": [
    "#append element at any index :\n",
    "fruits = [\"apple\" , \"banana\" , \"cherry\" , \"kiwi\" , \"grapes\" , \"gauava\"]\n",
    "fruits.insert(1 , \"amla\")\n",
    "print(fruits)"
   ]
  },
  {
   "cell_type": "code",
   "execution_count": 86,
   "id": "eb391b5e-06ca-4ea9-8745-22f7a9a17389",
   "metadata": {},
   "outputs": [
    {
     "name": "stdout",
     "output_type": "stream",
     "text": [
      "['apple', 'banana', 'kiwi', 'grapes', 'gauava']\n"
     ]
    }
   ],
   "source": [
    "## Remove an element from the list : \n",
    "fruits = [\"apple\" , \"banana\" , \"cherry\" , \"kiwi\" , \"grapes\" , \"gauava\"]\n",
    "fruits.remove(\"cherry\")\n",
    "print(fruits)"
   ]
  },
  {
   "cell_type": "code",
   "execution_count": 90,
   "id": "d22d27d5-a0a0-4e7b-a255-62f94c093b43",
   "metadata": {},
   "outputs": [
    {
     "name": "stdout",
     "output_type": "stream",
     "text": [
      "grapes\n"
     ]
    }
   ],
   "source": [
    "#Removes the last element and returns it:\n",
    "popped_fruits = fruits.pop()\n",
    "print(popped_fruits)"
   ]
  },
  {
   "cell_type": "code",
   "execution_count": 94,
   "id": "b6510f4d-db36-45de-b451-138ba691e39f",
   "metadata": {},
   "outputs": [
    {
     "data": {
      "text/plain": [
       "2"
      ]
     },
     "execution_count": 94,
     "metadata": {},
     "output_type": "execute_result"
    }
   ],
   "source": [
    "#get the index of the any fruit :\n",
    "index = fruits.index(\"kiwi\")\n",
    "index"
   ]
  },
  {
   "cell_type": "code",
   "execution_count": 102,
   "id": "ea6d5834-e4f6-44dd-9606-3bd17203841c",
   "metadata": {},
   "outputs": [
    {
     "name": "stdout",
     "output_type": "stream",
     "text": [
      "['apple', 'banana', 'banana', 'cherry', 'kiwi', 'grapes', 'gauava']\n"
     ]
    }
   ],
   "source": [
    "#inserting at the index :\n",
    "fruits = [\"apple\" , \"banana\" , \"cherry\" , \"kiwi\" , \"grapes\" , \"gauava\"]\n",
    "fruits.insert(2 ,\"banana\")\n",
    "print(fruits)"
   ]
  },
  {
   "cell_type": "code",
   "execution_count": 104,
   "id": "10870821-74e0-429d-9ef5-d062472bf9ed",
   "metadata": {},
   "outputs": [
    {
     "name": "stdout",
     "output_type": "stream",
     "text": [
      "1\n"
     ]
    }
   ],
   "source": [
    "#count the particular element in the list : \n",
    "fruits = [\"apple\" , \"banana\" , \"cherry\" , \"kiwi\" , \"grapes\" , \"gauava\"]\n",
    "print(fruits.count(\"banana\"))"
   ]
  },
  {
   "cell_type": "code",
   "execution_count": 112,
   "id": "a7762268-8516-4252-bb51-57c090002d04",
   "metadata": {},
   "outputs": [
    {
     "name": "stdout",
     "output_type": "stream",
     "text": [
      "['apple', 'banana', 'cherry', 'gauava', 'grapes', 'kiwi']\n"
     ]
    }
   ],
   "source": [
    "#sorting of the list: default : in the ascending order\n",
    "fruits = [\"apple\" , \"banana\" , \"cherry\" , \"kiwi\" , \"grapes\" , \"gauava\"]\n",
    "fruits.sort()\n",
    "print(fruits)"
   ]
  },
  {
   "cell_type": "code",
   "execution_count": 110,
   "id": "3baf4648-32e1-4121-9d60-5708f29557b7",
   "metadata": {},
   "outputs": [
    {
     "ename": "TypeError",
     "evalue": "'<' not supported between instances of 'int' and 'str'",
     "output_type": "error",
     "traceback": [
      "\u001b[31m---------------------------------------------------------------------------\u001b[39m",
      "\u001b[31mTypeError\u001b[39m                                 Traceback (most recent call last)",
      "\u001b[36mCell\u001b[39m\u001b[36m \u001b[39m\u001b[32mIn[110]\u001b[39m\u001b[32m, line 2\u001b[39m\n\u001b[32m      1\u001b[39m fruits = [\u001b[33m\"\u001b[39m\u001b[33mapple\u001b[39m\u001b[33m\"\u001b[39m , \u001b[33m\"\u001b[39m\u001b[33mbanana\u001b[39m\u001b[33m\"\u001b[39m , \u001b[33m\"\u001b[39m\u001b[33mcherry\u001b[39m\u001b[33m\"\u001b[39m , \u001b[33m\"\u001b[39m\u001b[33mkiwi\u001b[39m\u001b[33m\"\u001b[39m , \u001b[33m\"\u001b[39m\u001b[33mgrapes\u001b[39m\u001b[33m\"\u001b[39m , \u001b[33m\"\u001b[39m\u001b[33mgauava\u001b[39m\u001b[33m\"\u001b[39m , \u001b[32m5\u001b[39m , \u001b[32m8\u001b[39m]\n\u001b[32m----> \u001b[39m\u001b[32m2\u001b[39m \u001b[43mfruits\u001b[49m\u001b[43m.\u001b[49m\u001b[43msort\u001b[49m\u001b[43m(\u001b[49m\u001b[43m)\u001b[49m\n\u001b[32m      3\u001b[39m \u001b[38;5;28mprint\u001b[39m(fruits)\n",
      "\u001b[31mTypeError\u001b[39m: '<' not supported between instances of 'int' and 'str'"
     ]
    }
   ],
   "source": [
    "fruits = [\"apple\" , \"banana\" , \"cherry\" , \"kiwi\" , \"grapes\" , \"gauava\" , 5 , 8]\n",
    "fruits.sort()  # illegal can't sort when there is different datatypes in the same list.\n",
    "print(fruits)"
   ]
  },
  {
   "cell_type": "code",
   "execution_count": 118,
   "id": "f88adaaf-6a74-47ab-b5a3-8c96c4e95e27",
   "metadata": {},
   "outputs": [
    {
     "name": "stdout",
     "output_type": "stream",
     "text": [
      "[8, 5, 'gauava', 'grapes', 'kiwi', 'cherry', 'banana', 'apple']\n"
     ]
    }
   ],
   "source": [
    "#reverse the list :\n",
    "fruits = [\"apple\" , \"banana\" , \"cherry\" , \"kiwi\" , \"grapes\" , \"gauava\" , 5 , 8]\n",
    "fruits.reverse()  \n",
    "print(fruits)"
   ]
  },
  {
   "cell_type": "code",
   "execution_count": 120,
   "id": "33342d5c-5420-4b01-992a-27de9bd53331",
   "metadata": {},
   "outputs": [
    {
     "name": "stdout",
     "output_type": "stream",
     "text": [
      "[]\n"
     ]
    }
   ],
   "source": [
    "#removes all the items from the list:\n",
    "fruits = [\"apple\" , \"banana\" , \"cherry\" , \"kiwi\" , \"grapes\" , \"gauava\" , 5 , 8]\n",
    "fruits.clear() # removes all the items from the list\n",
    "print(fruits)"
   ]
  },
  {
   "cell_type": "markdown",
   "id": "64254a30-df30-4aef-8ca5-2c977cc88eb9",
   "metadata": {},
   "source": [
    "### Slicing of the List"
   ]
  },
  {
   "cell_type": "code",
   "execution_count": 17,
   "id": "99eebff2-6716-4a18-9653-969df651c62a",
   "metadata": {},
   "outputs": [
    {
     "name": "stdout",
     "output_type": "stream",
     "text": [
      "[3, 4, 5]\n",
      "[1, 2, 3, 4, 5]\n",
      "[6, 7, 8, 9, 10]\n",
      "[1, 3, 5, 7, 9]\n",
      "[10, 9, 8, 7, 6, 5, 4, 3, 2, 1]\n",
      "[10, 8, 6, 4, 2]\n"
     ]
    }
   ],
   "source": [
    "num = [1,2,3,4,5,6,7,8,9,10]\n",
    "print(num[2:5])\n",
    "print(num[:5]) # prints from index 0 to index 4\n",
    "print(num[5:]) # starts printing from 5 and prints all the remaining elements\n",
    "print(num[::2]) # prints all the elements present at the index interval of 2\n",
    "print(num[::-1]) # prints all the elements from the back at index interval of 1\n",
    "print(num[::-2]) # prints all the elements from the back at index interval of 2"
   ]
  },
  {
   "cell_type": "code",
   "execution_count": 21,
   "id": "0ea56c92-71f7-4aec-ab1b-82fe1b3a5f26",
   "metadata": {},
   "outputs": [
    {
     "name": "stdout",
     "output_type": "stream",
     "text": [
      "[2, 4, 6, 8, 10]\n",
      "[10, 9, 8]\n"
     ]
    }
   ],
   "source": [
    "print(num[1:10:2])\n",
    "print(num[-1:-4:-1])"
   ]
  },
  {
   "cell_type": "markdown",
   "id": "9a288c04-084b-46a2-9fcf-17359b7cead2",
   "metadata": {},
   "source": [
    "### Iterating over the list:"
   ]
  },
  {
   "cell_type": "code",
   "execution_count": 144,
   "id": "6873f1d8-4b4c-4141-9806-06521a709510",
   "metadata": {},
   "outputs": [
    {
     "name": "stdout",
     "output_type": "stream",
     "text": [
      "apple\n",
      "banana\n",
      "cherry\n",
      "kiwi\n",
      "grapes\n",
      "gauava\n"
     ]
    }
   ],
   "source": [
    "#iterating over the list:\n",
    "fruits = [\"apple\" , \"banana\" , \"cherry\" , \"kiwi\" , \"grapes\" , \"gauava\"]\n",
    "for f_items in fruits:\n",
    "    print(f_items)"
   ]
  },
  {
   "cell_type": "code",
   "execution_count": 148,
   "id": "45885966-96ce-4503-8af8-3016999da2a8",
   "metadata": {},
   "outputs": [
    {
     "name": "stdout",
     "output_type": "stream",
     "text": [
      "0 apple\n",
      "1 banana\n",
      "2 cherry\n",
      "3 kiwi\n",
      "4 grapes\n",
      "5 gauava\n"
     ]
    }
   ],
   "source": [
    "#iterating over the list with the index:\n",
    "for index , f_item in enumerate(fruits):\n",
    "    print(index , f_item)"
   ]
  },
  {
   "cell_type": "markdown",
   "id": "fc4ceb4d-0db4-43aa-8f64-cec596e408dc",
   "metadata": {},
   "source": [
    "### List Comprehension"
   ]
  },
  {
   "cell_type": "code",
   "execution_count": 154,
   "id": "bba0a8c7-d4d7-4208-94d7-c31f6e1cb65d",
   "metadata": {},
   "outputs": [
    {
     "name": "stdout",
     "output_type": "stream",
     "text": [
      "[0, 1, 4, 9, 16, 25, 36, 49, 64, 81]\n"
     ]
    },
    {
     "data": {
      "text/plain": [
       "[0, 1, 4, 9, 16, 25, 36, 49, 64, 81]"
      ]
     },
     "execution_count": 154,
     "metadata": {},
     "output_type": "execute_result"
    }
   ],
   "source": [
    "lst = []\n",
    "for x in range(10):\n",
    "    lst.append(x**2)\n",
    "print(lst)\n",
    "\n",
    "#same thing we can write using the list comprenshension:\n",
    "[x**2 for x in range(10)]"
   ]
  },
  {
   "cell_type": "code",
   "execution_count": 156,
   "id": "91f29361-d807-4397-8a97-e9f118659195",
   "metadata": {},
   "outputs": [],
   "source": [
    "# Basics Syntax : [expression for item in iterable]\n",
    "# with conditional logic : [expression for item in iterable if condition]\n",
    "# nested list comprehension:[expression for item1 in list1 for item2 in list2]"
   ]
  },
  {
   "cell_type": "code",
   "execution_count": 13,
   "id": "9f564d8a-8e93-4aad-a22e-db343ee21ac2",
   "metadata": {},
   "outputs": [
    {
     "name": "stdout",
     "output_type": "stream",
     "text": [
      "[0, 1, 4, 9, 16, 25, 36, 49, 64, 81]\n",
      "[0, 4, 16, 36, 64]\n"
     ]
    }
   ],
   "source": [
    "# Basic list comprehension :\n",
    "square = [num**2 for num in range(10)]\n",
    "print(square)\n",
    "\n",
    "# with conditional :\n",
    "square = [num**2 for num in range(10) if num%2==0]\n",
    "print(square)"
   ]
  },
  {
   "cell_type": "code",
   "execution_count": 162,
   "id": "5910716a-cb89-49e3-9518-f5fe18090ca8",
   "metadata": {},
   "outputs": [
    {
     "name": "stdout",
     "output_type": "stream",
     "text": [
      "[(1, 'a'), (1, 'b'), (1, 'c'), (1, 'd'), (2, 'a'), (2, 'b'), (2, 'c'), (2, 'd'), (3, 'a'), (3, 'b'), (3, 'c'), (3, 'd'), (4, 'a'), (4, 'b'), (4, 'c'), (4, 'd')]\n"
     ]
    }
   ],
   "source": [
    "# Nested List Comprehension:\n",
    "lst1 = [1 ,2 , 3, 4]\n",
    "lst2 = ['a' , 'b' , 'c' , 'd']\n",
    "\n",
    "pair = [(i , j) for i in lst1 for j in lst2]\n",
    "print(pair)"
   ]
  },
  {
   "cell_type": "code",
   "execution_count": 168,
   "id": "9631a54a-5ce6-4228-aba6-068de3666a13",
   "metadata": {},
   "outputs": [
    {
     "name": "stdout",
     "output_type": "stream",
     "text": [
      "[5, 5, 6, 4, 13]\n"
     ]
    }
   ],
   "source": [
    "# List Comprehension with function call:\n",
    "words = [\"hello\" , \"world\" , \"python\" , \"list\" , \"comprehension\"]\n",
    "lengths = [len(word) for word in words]\n",
    "print(lengths)"
   ]
  },
  {
   "cell_type": "code",
   "execution_count": null,
   "id": "124ec617-6eb7-4b89-9723-dbdd96ff4436",
   "metadata": {},
   "outputs": [],
   "source": []
  }
 ],
 "metadata": {
  "kernelspec": {
   "display_name": "Python (venv)",
   "language": "python",
   "name": "venv"
  },
  "language_info": {
   "codemirror_mode": {
    "name": "ipython",
    "version": 3
   },
   "file_extension": ".py",
   "mimetype": "text/x-python",
   "name": "python",
   "nbconvert_exporter": "python",
   "pygments_lexer": "ipython3",
   "version": "3.12.0"
  }
 },
 "nbformat": 4,
 "nbformat_minor": 5
}
