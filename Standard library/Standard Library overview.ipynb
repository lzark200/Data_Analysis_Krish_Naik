{
 "cells": [
  {
   "cell_type": "markdown",
   "id": "daff23fe-62a2-4047-bbcb-2931ae47f9d3",
   "metadata": {},
   "source": [
    "## Arrays"
   ]
  },
  {
   "cell_type": "code",
   "execution_count": 17,
   "id": "ab9a2de2-6ed8-460b-ba4c-af45d6ef36cd",
   "metadata": {},
   "outputs": [],
   "source": [
    "import array\n",
    "# arr = array.array(typecode ,values) -- > syntax of the array \n",
    "# typecode : datatype symbol : i = integer , f = float , b = boolean etc."
   ]
  },
  {
   "cell_type": "code",
   "execution_count": 19,
   "id": "a24fb9ff-38cc-41ac-8000-03c7ced0792f",
   "metadata": {},
   "outputs": [
    {
     "name": "stdout",
     "output_type": "stream",
     "text": [
      "array('i', [1, 2, 3, 4, 5])\n"
     ]
    }
   ],
   "source": [
    "import array\n",
    "arr = array.array('i' , [1 , 2, 3, 4, 5])\n",
    "print(arr)"
   ]
  },
  {
   "cell_type": "code",
   "execution_count": 21,
   "id": "c524ad52-6409-4cf4-b8b0-e43e4e44ed09",
   "metadata": {},
   "outputs": [
    {
     "name": "stdout",
     "output_type": "stream",
     "text": [
      "array('f', [1.0, 2.0, 3.0, 4.0, 5.0])\n"
     ]
    }
   ],
   "source": [
    "import array\n",
    "arr = array.array('f' , [1 , 2, 3, 4, 5])\n",
    "print(arr)"
   ]
  },
  {
   "cell_type": "code",
   "execution_count": 25,
   "id": "f308391a-691a-4880-bd52-9a44c8930c5d",
   "metadata": {},
   "outputs": [
    {
     "name": "stdout",
     "output_type": "stream",
     "text": [
      "array('b', [1, 0, 0, 1, 1])\n"
     ]
    }
   ],
   "source": [
    "import array\n",
    "arr = array.array('b' , [True,False,0, 1,True])\n",
    "print(arr)"
   ]
  },
  {
   "cell_type": "markdown",
   "id": "9090a477-8a7e-4828-82a0-57fa306ef245",
   "metadata": {},
   "source": [
    "## Math"
   ]
  },
  {
   "cell_type": "code",
   "execution_count": 29,
   "id": "8abe97b4-c48c-412b-9327-7c18c7e69617",
   "metadata": {},
   "outputs": [
    {
     "data": {
      "text/plain": [
       "4.358898943540674"
      ]
     },
     "execution_count": 29,
     "metadata": {},
     "output_type": "execute_result"
    }
   ],
   "source": [
    "import math\n",
    "math.sqrt(19)"
   ]
  },
  {
   "cell_type": "code",
   "execution_count": 31,
   "id": "40d266cd-e777-4c5a-9f2e-c2b5c03c0147",
   "metadata": {},
   "outputs": [
    {
     "data": {
      "text/plain": [
       "3.141592653589793"
      ]
     },
     "execution_count": 31,
     "metadata": {},
     "output_type": "execute_result"
    }
   ],
   "source": [
    "math.pi"
   ]
  },
  {
   "cell_type": "markdown",
   "id": "0720e809-832b-4e72-8548-6f9f08127332",
   "metadata": {},
   "source": [
    "## Random"
   ]
  },
  {
   "cell_type": "code",
   "execution_count": 44,
   "id": "77999ee9-82c1-4616-b8e0-8681f6110f28",
   "metadata": {},
   "outputs": [
    {
     "data": {
      "text/plain": [
       "0"
      ]
     },
     "execution_count": 44,
     "metadata": {},
     "output_type": "execute_result"
    }
   ],
   "source": [
    "import random\n",
    "random.randint(0,10)"
   ]
  },
  {
   "cell_type": "code",
   "execution_count": 50,
   "id": "459e6802-4d76-4116-a6bc-abdeec7faa2f",
   "metadata": {},
   "outputs": [
    {
     "data": {
      "text/plain": [
       "'apple'"
      ]
     },
     "execution_count": 50,
     "metadata": {},
     "output_type": "execute_result"
    }
   ],
   "source": [
    "random.choice(['apple' , 'guava' , 'bananan' , 'Nothing' , 'cherry'])"
   ]
  },
  {
   "cell_type": "markdown",
   "id": "24fc3ff1-2ad6-4320-a576-7ff799ac110d",
   "metadata": {},
   "source": [
    "## OS"
   ]
  },
  {
   "cell_type": "markdown",
   "id": "114488b8-3fd6-4854-9008-03ee0924e79e",
   "metadata": {},
   "source": [
    "### File and directory access"
   ]
  },
  {
   "cell_type": "code",
   "execution_count": 54,
   "id": "decd578e-3632-4967-b6ef-b7150e7cc422",
   "metadata": {},
   "outputs": [
    {
     "data": {
      "text/plain": [
       "'C:\\\\DEVELOPEMENT\\\\Data-Analysis-krishNaik\\\\Standard library'"
      ]
     },
     "execution_count": 54,
     "metadata": {},
     "output_type": "execute_result"
    }
   ],
   "source": [
    "import os \n",
    "os.getcwd()"
   ]
  },
  {
   "cell_type": "markdown",
   "id": "6796ae4f-5d04-4746-a573-161eb4fe9896",
   "metadata": {},
   "source": [
    "This prints the current working directory"
   ]
  },
  {
   "cell_type": "markdown",
   "id": "58fbcccd-f4c7-4449-a585-f6ea2b518381",
   "metadata": {},
   "source": [
    "#### make directory"
   ]
  },
  {
   "cell_type": "code",
   "execution_count": 58,
   "id": "717e07a1-a1bd-48e4-a42c-39e60b718124",
   "metadata": {},
   "outputs": [],
   "source": [
    "os.mkdir('test_dir')"
   ]
  },
  {
   "cell_type": "markdown",
   "id": "af0146f3-dd8d-42c3-9b92-ded4a6305b87",
   "metadata": {},
   "source": [
    "#### High level operations on the files and the collections of the files : "
   ]
  },
  {
   "cell_type": "code",
   "execution_count": 64,
   "id": "9800f382-2f7c-4650-a3a9-d959c8c71bb7",
   "metadata": {},
   "outputs": [
    {
     "data": {
      "text/plain": [
       "'destination.txt'"
      ]
     },
     "execution_count": 64,
     "metadata": {},
     "output_type": "execute_result"
    }
   ],
   "source": [
    "import shutil\n",
    "shutil.copyfile('source.txt' , 'destination.txt')"
   ]
  },
  {
   "cell_type": "markdown",
   "id": "31518302-b08d-435b-b9fd-9327e895800c",
   "metadata": {},
   "source": [
    "#### Data serialization"
   ]
  },
  {
   "cell_type": "code",
   "execution_count": 67,
   "id": "6c5c9b9d-6aed-4b39-85b4-9f09204ddad3",
   "metadata": {},
   "outputs": [],
   "source": [
    "import json\n",
    "data = {'name' : 'krish' , 'age' : 25}\n",
    "#to convert this dictionary to json : \n",
    "json_str = json.dumps(data)"
   ]
  },
  {
   "cell_type": "code",
   "execution_count": 73,
   "id": "cda44f61-6d37-4983-8143-3fc0a31f548d",
   "metadata": {},
   "outputs": [
    {
     "name": "stdout",
     "output_type": "stream",
     "text": [
      "<class 'str'> {\"name\": \"krish\", \"age\": 25}\n"
     ]
    }
   ],
   "source": [
    "print(type(json_str) , json_str)\n"
   ]
  },
  {
   "cell_type": "code",
   "execution_count": 75,
   "id": "ca5dda41-327c-451e-ace0-67919c0d4d68",
   "metadata": {},
   "outputs": [],
   "source": [
    "#convert this back into the dictiorary : \n",
    "parsed_data = json.loads(json_str)"
   ]
  },
  {
   "cell_type": "code",
   "execution_count": 79,
   "id": "a249485f-c965-4226-a075-88b5bbabf725",
   "metadata": {},
   "outputs": [
    {
     "name": "stdout",
     "output_type": "stream",
     "text": [
      "<class 'dict'> {'name': 'krish', 'age': 25}\n"
     ]
    }
   ],
   "source": [
    "print(type(parsed_data) , parsed_data)"
   ]
  },
  {
   "cell_type": "code",
   "execution_count": 87,
   "id": "8b50749a-d790-46c8-80d3-bf472120fe37",
   "metadata": {},
   "outputs": [
    {
     "name": "stdout",
     "output_type": "stream",
     "text": [
      "<_csv.reader object at 0x000002B86EFCF700>\n",
      "['name', 'age', 'education']\n",
      "['krish', '21', 'engineer']\n"
     ]
    }
   ],
   "source": [
    "#csv : \n",
    "import csv\n",
    "with open('example.csv' , mode='w' , newline = '') as file : \n",
    "    writer = csv.writer(file)\n",
    "    writer.writerow(['name'  ,'age' , 'education'])\n",
    "    writer.writerow(['krish' , '21' , 'engineer'])\n",
    "with open('example.csv' , mode = 'r') as file : \n",
    "    reader = csv.reader(file)\n",
    "    print(reader)\n",
    "    for row in reader:\n",
    "        print(row)\n"
   ]
  },
  {
   "cell_type": "markdown",
   "id": "7d037be9-8d97-400c-9da4-a5e332f725a6",
   "metadata": {},
   "source": [
    "#### Date Time"
   ]
  },
  {
   "cell_type": "code",
   "execution_count": 104,
   "id": "afbec2ec-ff9f-4c48-956a-e767847bc26f",
   "metadata": {},
   "outputs": [
    {
     "name": "stdout",
     "output_type": "stream",
     "text": [
      "2025-07-30 10:41:11.441203\n",
      "2024-11-22 10:41:11.441203\n"
     ]
    }
   ],
   "source": [
    "from datetime import datetime , timedelta\n",
    "current_DateAndTime = datetime.now()\n",
    "print(current_DateAndTime)\n",
    "#yesterday : \n",
    "yesterday = current_DateAndTime - timedelta(days = 250)\n",
    "print(yesterday)"
   ]
  },
  {
   "cell_type": "markdown",
   "id": "3e5d50c6-1fc9-4516-8e59-f40ab3e6d97b",
   "metadata": {},
   "source": [
    "#### Time"
   ]
  },
  {
   "cell_type": "markdown",
   "id": "15261db0-df70-4263-9094-86b92e03ecc0",
   "metadata": {},
   "source": [
    "##### To make the program sleep for the second : "
   ]
  },
  {
   "cell_type": "code",
   "execution_count": 109,
   "id": "8f330e54-b034-4edc-80f2-cecab60077e5",
   "metadata": {},
   "outputs": [
    {
     "name": "stdout",
     "output_type": "stream",
     "text": [
      "1753852367.5290303\n",
      "1753852372.5709555\n"
     ]
    }
   ],
   "source": [
    "import time\n",
    "print(time.time())\n",
    "time.sleep(5)\n",
    "print(time.time())"
   ]
  },
  {
   "cell_type": "markdown",
   "id": "4634b10a-c51b-4755-a4ec-a663482c19e1",
   "metadata": {},
   "source": [
    "#### Regular expression"
   ]
  },
  {
   "cell_type": "code",
   "execution_count": 116,
   "id": "9d2d9c50-4b0f-4e60-8e74-ee280cc4a5f9",
   "metadata": {},
   "outputs": [
    {
     "name": "stdout",
     "output_type": "stream",
     "text": [
      "123\n"
     ]
    }
   ],
   "source": [
    "import re\n",
    "pattern = r'\\d+'   #d -> digits\n",
    "text = 'There are 123 apples 456 85 sefseffs 9 63'\n",
    "match = re.search(pattern , text)\n",
    "print(match.group())   #it stops once it gets the first match"
   ]
  },
  {
   "cell_type": "code",
   "execution_count": null,
   "id": "cbc293cc-3fa2-4ea6-a630-d950ac3f001a",
   "metadata": {},
   "outputs": [],
   "source": []
  }
 ],
 "metadata": {
  "kernelspec": {
   "display_name": "Python (venv)",
   "language": "python",
   "name": "venv"
  },
  "language_info": {
   "codemirror_mode": {
    "name": "ipython",
    "version": 3
   },
   "file_extension": ".py",
   "mimetype": "text/x-python",
   "name": "python",
   "nbconvert_exporter": "python",
   "pygments_lexer": "ipython3",
   "version": "3.12.0"
  }
 },
 "nbformat": 4,
 "nbformat_minor": 5
}
