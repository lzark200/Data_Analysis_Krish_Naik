{
 "cells": [
  {
   "cell_type": "markdown",
   "id": "78b9d879-b13e-4cd7-9912-0e8265f48521",
   "metadata": {},
   "source": [
    "### Read a whole file"
   ]
  },
  {
   "cell_type": "code",
   "execution_count": 7,
   "id": "357aad8f-a2c9-4299-bb2d-4d82386903a0",
   "metadata": {},
   "outputs": [
    {
     "ename": "FileNotFoundError",
     "evalue": "[Errno 2] No such file or directory: 'example.txt'",
     "output_type": "error",
     "traceback": [
      "\u001b[31m---------------------------------------------------------------------------\u001b[39m",
      "\u001b[31mFileNotFoundError\u001b[39m                         Traceback (most recent call last)",
      "\u001b[36mCell\u001b[39m\u001b[36m \u001b[39m\u001b[32mIn[7]\u001b[39m\u001b[32m, line 1\u001b[39m\n\u001b[32m----> \u001b[39m\u001b[32m1\u001b[39m \u001b[38;5;28;01mwith\u001b[39;00m \u001b[38;5;28;43mopen\u001b[39;49m\u001b[43m(\u001b[49m\u001b[33;43m'\u001b[39;49m\u001b[33;43mexample.txt\u001b[39;49m\u001b[33;43m'\u001b[39;49m\u001b[43m \u001b[49m\u001b[43m,\u001b[49m\u001b[43m \u001b[49m\u001b[33;43m'\u001b[39;49m\u001b[33;43mr\u001b[39;49m\u001b[33;43m'\u001b[39;49m\u001b[43m)\u001b[49m \u001b[38;5;28;01mas\u001b[39;00m file :\n\u001b[32m      2\u001b[39m     content = file.read()\n\u001b[32m      3\u001b[39m     \u001b[38;5;28mprint\u001b[39m(content)\n",
      "\u001b[36mFile \u001b[39m\u001b[32mC:\\DEVELOPEMENT\\Data_Analysis_Krish_Naik\\venv\\Lib\\site-packages\\IPython\\core\\interactiveshell.py:343\u001b[39m, in \u001b[36m_modified_open\u001b[39m\u001b[34m(file, *args, **kwargs)\u001b[39m\n\u001b[32m    336\u001b[39m \u001b[38;5;28;01mif\u001b[39;00m file \u001b[38;5;129;01min\u001b[39;00m {\u001b[32m0\u001b[39m, \u001b[32m1\u001b[39m, \u001b[32m2\u001b[39m}:\n\u001b[32m    337\u001b[39m     \u001b[38;5;28;01mraise\u001b[39;00m \u001b[38;5;167;01mValueError\u001b[39;00m(\n\u001b[32m    338\u001b[39m         \u001b[33mf\u001b[39m\u001b[33m\"\u001b[39m\u001b[33mIPython won\u001b[39m\u001b[33m'\u001b[39m\u001b[33mt let you open fd=\u001b[39m\u001b[38;5;132;01m{\u001b[39;00mfile\u001b[38;5;132;01m}\u001b[39;00m\u001b[33m by default \u001b[39m\u001b[33m\"\u001b[39m\n\u001b[32m    339\u001b[39m         \u001b[33m\"\u001b[39m\u001b[33mas it is likely to crash IPython. If you know what you are doing, \u001b[39m\u001b[33m\"\u001b[39m\n\u001b[32m    340\u001b[39m         \u001b[33m\"\u001b[39m\u001b[33myou can use builtins\u001b[39m\u001b[33m'\u001b[39m\u001b[33m open.\u001b[39m\u001b[33m\"\u001b[39m\n\u001b[32m    341\u001b[39m     )\n\u001b[32m--> \u001b[39m\u001b[32m343\u001b[39m \u001b[38;5;28;01mreturn\u001b[39;00m \u001b[43mio_open\u001b[49m\u001b[43m(\u001b[49m\u001b[43mfile\u001b[49m\u001b[43m,\u001b[49m\u001b[43m \u001b[49m\u001b[43m*\u001b[49m\u001b[43margs\u001b[49m\u001b[43m,\u001b[49m\u001b[43m \u001b[49m\u001b[43m*\u001b[49m\u001b[43m*\u001b[49m\u001b[43mkwargs\u001b[49m\u001b[43m)\u001b[49m\n",
      "\u001b[31mFileNotFoundError\u001b[39m: [Errno 2] No such file or directory: 'example.txt'"
     ]
    }
   ],
   "source": [
    "with open('example.txt' , 'r') as file :\n",
    "    content = file.read()\n",
    "    print(content)\n",
    "    "
   ]
  },
  {
   "cell_type": "markdown",
   "id": "2e3b618a-92f7-452b-a513-facb9188f54e",
   "metadata": {},
   "source": [
    "since file is not existing and we are trying to read the non - existing file"
   ]
  },
  {
   "cell_type": "markdown",
   "id": "b48467e8-3760-499b-b38e-d428912b6f8e",
   "metadata": {},
   "source": [
    "### Reading the file after creating it "
   ]
  },
  {
   "cell_type": "code",
   "execution_count": 15,
   "id": "84770b11-a701-4a03-968b-652f2805e3ff",
   "metadata": {},
   "outputs": [
    {
     "name": "stdout",
     "output_type": "stream",
     "text": [
      "Hello , how are you ? \n",
      "My name is aditya kshatriya.\n",
      "What is your name ? \n",
      "where you do schooling ? \n",
      "There are many people with fancy level dreams and poor hardwork.\n",
      "What about , Others don't play well when it comes to pressure , But I do.\n"
     ]
    }
   ],
   "source": [
    "with open('example.txt' , 'r') as file:\n",
    "    content = file.read()\n",
    "    print(content)"
   ]
  },
  {
   "cell_type": "markdown",
   "id": "5f9c74a1-5383-4d96-b7eb-33fffcbb2a1a",
   "metadata": {},
   "source": [
    "### Read a file line by line "
   ]
  },
  {
   "cell_type": "code",
   "execution_count": 12,
   "id": "8b9b6f41-4ac6-45d5-8de5-c92b741bb478",
   "metadata": {},
   "outputs": [
    {
     "name": "stdout",
     "output_type": "stream",
     "text": [
      "Hello , how are you ? \n",
      "\n",
      "My name is aditya kshatriya.\n",
      "\n",
      "What is your name ? \n",
      "\n",
      "where you do schooling ? \n",
      "\n",
      "There are many people with fancy level dreams and poor hardwork.\n",
      "\n",
      "What about , Others don't play well when it comes to pressure , But I do.\n"
     ]
    }
   ],
   "source": [
    "with open('example.txt' , 'r') as file:\n",
    "    for line in file:\n",
    "        print(line)"
   ]
  },
  {
   "cell_type": "code",
   "execution_count": 17,
   "id": "08304070-2e93-4fe0-8b93-aaf13c704c2e",
   "metadata": {},
   "outputs": [
    {
     "name": "stdout",
     "output_type": "stream",
     "text": [
      "Hello , how are you ?\n",
      "My name is aditya kshatriya.\n",
      "What is your name ?\n",
      "where you do schooling ?\n",
      "There are many people with fancy level dreams and poor hardwork.\n",
      "What about , Others don't play well when it comes to pressure , But I do.\n"
     ]
    }
   ],
   "source": [
    "with open('example.txt' , 'r') as file:\n",
    "    for line in file:\n",
    "        print(line.strip())"
   ]
  },
  {
   "cell_type": "markdown",
   "id": "b0e10bad-4cd4-4041-aa21-12da6a40d4ac",
   "metadata": {},
   "source": [
    "### Writing a file (overwriting)"
   ]
  },
  {
   "cell_type": "code",
   "execution_count": 41,
   "id": "e686915f-086d-4ec5-82fb-acdcf036d950",
   "metadata": {},
   "outputs": [
    {
     "name": "stdout",
     "output_type": "stream",
     "text": [
      "hello  world\n",
      "This is aditya kshatriya\n"
     ]
    }
   ],
   "source": [
    "with open('example.txt' , 'w') as file:\n",
    "    file.write('hello  world\\n')\n",
    "    file.write('This is aditya kshatriya\\n')\n",
    "with open('example.txt' , 'r') as file:\n",
    "    for line in file:\n",
    "        print(line.strip())"
   ]
  },
  {
   "cell_type": "markdown",
   "id": "da3c6556-ed02-4c7a-adbe-0ebade364b00",
   "metadata": {},
   "source": [
    "Here you can see that the entire content of the file is replaced with new file content"
   ]
  },
  {
   "cell_type": "markdown",
   "id": "95430d85-ca8e-476c-8675-da014dcd21a6",
   "metadata": {},
   "source": [
    "### Writing a file (without overwriting)"
   ]
  },
  {
   "cell_type": "code",
   "execution_count": 43,
   "id": "552d0613-3c43-4257-817f-b7d50d7f2c37",
   "metadata": {},
   "outputs": [
    {
     "name": "stdout",
     "output_type": "stream",
     "text": [
      "hello  world\n",
      "This is aditya kshatriya\n",
      "append operatinon taking place!\n",
      "This is setu\n"
     ]
    }
   ],
   "source": [
    "#Here we are appending the new content into the same file\n",
    "with open('example.txt' , 'a') as file:\n",
    "    file.write(\"append operatinon taking place!\\n\")\n",
    "    file.write(\"This is setu\\n\")\n",
    "with open('example.txt' , 'r') as file:\n",
    "    for line in file:\n",
    "        print(line.strip())"
   ]
  },
  {
   "cell_type": "markdown",
   "id": "3e8900f8-cf28-4ad8-9668-347d9844cd7d",
   "metadata": {},
   "source": [
    "### Writing a list of the lines to a file : "
   ]
  },
  {
   "cell_type": "code",
   "execution_count": 45,
   "id": "e78a720f-8141-4d80-b711-81055a1b7195",
   "metadata": {},
   "outputs": [
    {
     "name": "stdout",
     "output_type": "stream",
     "text": [
      "hello  world\n",
      "This is aditya kshatriya\n",
      "append operatinon taking place!\n",
      "This is setu\n",
      "First line\n",
      "second line\n",
      "Third line\n",
      "Fourth line\n"
     ]
    }
   ],
   "source": [
    "lines = ['First line\\n'  , 'second line\\n' , 'Third line\\n' , 'Fourth line\\n']\n",
    "with open('example.txt' , 'a') as file:\n",
    "    file.writelines(lines)\n",
    "with open('example.txt' , 'r') as file:\n",
    "    for line in file:\n",
    "        print(line.strip())"
   ]
  },
  {
   "cell_type": "markdown",
   "id": "70eaf211-9d06-44af-89b5-970689fc549b",
   "metadata": {},
   "source": [
    "### Binary Files"
   ]
  },
  {
   "cell_type": "code",
   "execution_count": 64,
   "id": "7bd01dd8-8cee-4856-8ed3-d9aa453af00c",
   "metadata": {},
   "outputs": [
    {
     "name": "stdout",
     "output_type": "stream",
     "text": [
      "b'\\x00\\x01\\x02\\x03\\x04'\n"
     ]
    }
   ],
   "source": [
    "data = b'\\x00\\x01\\x02\\x03\\x04'\n",
    "with open('example.bin' , 'wb') as file:\n",
    "    file.write(data)\n",
    "    \n",
    "#Reading the binary file : \n",
    "with open('example.bin' , 'rb') as file:\n",
    "    for line in file:\n",
    "        print(line.strip())"
   ]
  },
  {
   "cell_type": "markdown",
   "id": "09f45902-5b58-4c55-936c-c7bf7e649af0",
   "metadata": {},
   "source": [
    "### Read the content from source txt file and write it to the destination text file"
   ]
  },
  {
   "cell_type": "code",
   "execution_count": 67,
   "id": "1e4dce91-2abf-4b05-a35d-b8e07eba479a",
   "metadata": {},
   "outputs": [],
   "source": [
    "with open('example.txt' , 'r') as file:\n",
    "    content = file.read()\n",
    "   \n",
    "with open('destination.txt' , 'w') as destination_file:\n",
    "    destination_file.write(content)"
   ]
  },
  {
   "cell_type": "markdown",
   "id": "211ebe38-a083-427a-9f2f-8aa6a5d3efd3",
   "metadata": {},
   "source": [
    "### writing and then reading a file "
   ]
  },
  {
   "cell_type": "code",
   "execution_count": 74,
   "id": "8720cc0f-7a29-4d02-8502-529253623295",
   "metadata": {},
   "outputs": [
    {
     "name": "stdout",
     "output_type": "stream",
     "text": [
      "hello world\n",
      "This is a new line\n",
      "\n"
     ]
    }
   ],
   "source": [
    "with open('example2.txt' , 'w+') as file:\n",
    "    file.write(\"hello world\\n\")\n",
    "    file.write(\"This is a new line\\n\")\n",
    "    ## move the file cursor to the beginning : \n",
    "    file.seek(0) # it will move the file cursor to the beginning\n",
    "\n",
    "    # read the content of the file : \n",
    "    content = file.read()\n",
    "    print(content)"
   ]
  },
  {
   "cell_type": "code",
   "execution_count": null,
   "id": "2ed93981-977f-4d60-a2e0-7f7ea7dee572",
   "metadata": {},
   "outputs": [],
   "source": []
  }
 ],
 "metadata": {
  "kernelspec": {
   "display_name": "Python (venv)",
   "language": "python",
   "name": "venv"
  },
  "language_info": {
   "codemirror_mode": {
    "name": "ipython",
    "version": 3
   },
   "file_extension": ".py",
   "mimetype": "text/x-python",
   "name": "python",
   "nbconvert_exporter": "python",
   "pygments_lexer": "ipython3",
   "version": "3.12.0"
  }
 },
 "nbformat": 4,
 "nbformat_minor": 5
}
