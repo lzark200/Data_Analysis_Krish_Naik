{
 "cells": [
  {
   "cell_type": "markdown",
   "id": "b908db2d-a699-4ece-a965-2eabca78912c",
   "metadata": {},
   "source": [
    "### Integers Data Type"
   ]
  },
  {
   "cell_type": "code",
   "execution_count": 4,
   "id": "213c94c0-34cf-4f8a-967a-667211a3196b",
   "metadata": {},
   "outputs": [
    {
     "name": "stdout",
     "output_type": "stream",
     "text": [
      "<class 'int'>\n"
     ]
    }
   ],
   "source": [
    "age = 35\n",
    "print(type(age))"
   ]
  },
  {
   "cell_type": "markdown",
   "id": "db7a8e0a-5934-436e-86ac-a3256f7becbe",
   "metadata": {},
   "source": [
    "### floating point datatype"
   ]
  },
  {
   "cell_type": "code",
   "execution_count": 9,
   "id": "12631c8c-8d84-465f-afce-c1d95df78b49",
   "metadata": {},
   "outputs": [
    {
     "name": "stdout",
     "output_type": "stream",
     "text": [
      "<class 'float'>\n"
     ]
    }
   ],
   "source": [
    "width = 5.11\n",
    "height = 4.22\n",
    "print(type(width + height))"
   ]
  },
  {
   "cell_type": "markdown",
   "id": "88223f96-a0a6-4adb-a193-6df58c959252",
   "metadata": {},
   "source": [
    "### String Data Type"
   ]
  },
  {
   "cell_type": "code",
   "execution_count": 12,
   "id": "a54d26af-17a5-48a5-96af-959341eacd04",
   "metadata": {},
   "outputs": [
    {
     "name": "stdout",
     "output_type": "stream",
     "text": [
      "<class 'str'>\n"
     ]
    }
   ],
   "source": [
    "name = \"Krish\"\n",
    "print(type(name))"
   ]
  },
  {
   "cell_type": "markdown",
   "id": "e74820c6-5472-4b66-97e3-501ca4a5386a",
   "metadata": {},
   "source": [
    "### Boolean Data Type"
   ]
  },
  {
   "cell_type": "code",
   "execution_count": 15,
   "id": "e1911ece-8957-404c-8a6e-cb89b85d7c41",
   "metadata": {},
   "outputs": [
    {
     "name": "stdout",
     "output_type": "stream",
     "text": [
      "<class 'bool'>\n"
     ]
    }
   ],
   "source": [
    "is_true = True\n",
    "print(type(is_true))"
   ]
  },
  {
   "cell_type": "code",
   "execution_count": 17,
   "id": "4dd8c04a-e4f1-45bd-b212-d735f0c4ae3f",
   "metadata": {},
   "outputs": [
    {
     "data": {
      "text/plain": [
       "False"
      ]
     },
     "execution_count": 17,
     "metadata": {},
     "output_type": "execute_result"
    }
   ],
   "source": [
    "is_true = bool()\n",
    "is_true"
   ]
  },
  {
   "cell_type": "code",
   "execution_count": 19,
   "id": "c9bfd629-a3c9-4ade-b977-c286c51e9cd8",
   "metadata": {},
   "outputs": [
    {
     "data": {
      "text/plain": [
       "True"
      ]
     },
     "execution_count": 19,
     "metadata": {},
     "output_type": "execute_result"
    }
   ],
   "source": [
    "is_true = bool(54)\n",
    "is_true"
   ]
  },
  {
   "cell_type": "code",
   "execution_count": 21,
   "id": "4fce1ef9-433b-4da6-a775-4608eabf7a04",
   "metadata": {},
   "outputs": [
    {
     "data": {
      "text/plain": [
       "bool"
      ]
     },
     "execution_count": 21,
     "metadata": {},
     "output_type": "execute_result"
    }
   ],
   "source": [
    "a = 5\n",
    "b = 6\n",
    "type(a == b)"
   ]
  },
  {
   "cell_type": "markdown",
   "id": "ec306ab7-20ab-489f-b08c-a2e0ee6fa153",
   "metadata": {},
   "source": [
    "### Common Errors"
   ]
  },
  {
   "cell_type": "code",
   "execution_count": 24,
   "id": "ca560a20-f817-4cf2-aad0-f2a5071e899d",
   "metadata": {},
   "outputs": [
    {
     "ename": "TypeError",
     "evalue": "can only concatenate str (not \"int\") to str",
     "output_type": "error",
     "traceback": [
      "\u001b[31m---------------------------------------------------------------------------\u001b[39m",
      "\u001b[31mTypeError\u001b[39m                                 Traceback (most recent call last)",
      "\u001b[36mCell\u001b[39m\u001b[36m \u001b[39m\u001b[32mIn[24]\u001b[39m\u001b[32m, line 1\u001b[39m\n\u001b[32m----> \u001b[39m\u001b[32m1\u001b[39m result = \u001b[33;43m\"\u001b[39;49m\u001b[33;43mhello\u001b[39;49m\u001b[33;43m\"\u001b[39;49m\u001b[43m+\u001b[49m\u001b[32;43m5\u001b[39;49m\n",
      "\u001b[31mTypeError\u001b[39m: can only concatenate str (not \"int\") to str"
     ]
    }
   ],
   "source": [
    "result = \"hello\"+5\n"
   ]
  },
  {
   "cell_type": "code",
   "execution_count": 28,
   "id": "190a4e70-5e16-4020-8af5-90ce1b525602",
   "metadata": {},
   "outputs": [
    {
     "data": {
      "text/plain": [
       "'hello5'"
      ]
     },
     "execution_count": 28,
     "metadata": {},
     "output_type": "execute_result"
    }
   ],
   "source": [
    "result = \"hello\" + str(5)\n",
    "result"
   ]
  },
  {
   "cell_type": "code",
   "execution_count": null,
   "id": "bf7a38b6-114c-4703-ba77-f0b0571d29b5",
   "metadata": {},
   "outputs": [],
   "source": []
  },
  {
   "cell_type": "code",
   "execution_count": null,
   "id": "b5198648-757a-42fe-8eb9-0471473e4fa2",
   "metadata": {},
   "outputs": [],
   "source": []
  }
 ],
 "metadata": {
  "kernelspec": {
   "display_name": "Python (venv)",
   "language": "python",
   "name": "venv"
  },
  "language_info": {
   "codemirror_mode": {
    "name": "ipython",
    "version": 3
   },
   "file_extension": ".py",
   "mimetype": "text/x-python",
   "name": "python",
   "nbconvert_exporter": "python",
   "pygments_lexer": "ipython3",
   "version": "3.12.0"
  }
 },
 "nbformat": 4,
 "nbformat_minor": 5
}
