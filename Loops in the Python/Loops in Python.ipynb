{
 "cells": [
  {
   "cell_type": "markdown",
   "id": "ad335ac3-f9bd-48d4-b4d4-3a247f6830ee",
   "metadata": {},
   "source": [
    "### For Loop"
   ]
  },
  {
   "cell_type": "code",
   "execution_count": 3,
   "id": "3993cb33-7e2f-4f87-84c1-fcc3e93be0e0",
   "metadata": {},
   "outputs": [
    {
     "data": {
      "text/plain": [
       "range(0, 5)"
      ]
     },
     "execution_count": 3,
     "metadata": {},
     "output_type": "execute_result"
    }
   ],
   "source": [
    "range(5) \n",
    "#range gives us the range of the numbers from the 0 to given n-1"
   ]
  },
  {
   "cell_type": "code",
   "execution_count": 5,
   "id": "55369951-a86b-43d3-9a79-1166974eeec7",
   "metadata": {},
   "outputs": [
    {
     "name": "stdout",
     "output_type": "stream",
     "text": [
      "0\n",
      "1\n",
      "2\n",
      "3\n",
      "4\n"
     ]
    }
   ],
   "source": [
    "for i in range(5):\n",
    "    print(i)"
   ]
  },
  {
   "cell_type": "code",
   "execution_count": 7,
   "id": "1ecf7243-f70b-4e79-b11a-c3c2608f475a",
   "metadata": {},
   "outputs": [
    {
     "name": "stdout",
     "output_type": "stream",
     "text": [
      "1\n",
      "2\n",
      "3\n",
      "4\n",
      "5\n"
     ]
    }
   ],
   "source": [
    "for i in range(1 , 6):\n",
    "    print(i)"
   ]
  },
  {
   "cell_type": "code",
   "execution_count": 9,
   "id": "a8aa775e-a755-4f15-ac7b-818d61565016",
   "metadata": {},
   "outputs": [
    {
     "name": "stdout",
     "output_type": "stream",
     "text": [
      "1\n",
      "3\n",
      "5\n",
      "7\n",
      "9\n"
     ]
    }
   ],
   "source": [
    "# range(startIndex , endIndex , stepValue) by default stepValue = 1\n",
    "#stepValue can be negative and the positive both\n",
    "for i in range(1 , 10 , 2):\n",
    "    print(i)"
   ]
  },
  {
   "cell_type": "code",
   "execution_count": 11,
   "id": "60cc3ef0-470d-4166-a790-a6e1f0a9ed0f",
   "metadata": {},
   "outputs": [
    {
     "name": "stdout",
     "output_type": "stream",
     "text": [
      "10\n",
      "8\n",
      "6\n",
      "4\n",
      "2\n"
     ]
    }
   ],
   "source": [
    "for i in range(10 , 1 , -2):\n",
    "    print(i)"
   ]
  },
  {
   "cell_type": "code",
   "execution_count": 13,
   "id": "4d953d0e-777a-445f-8950-45a65a46a7fe",
   "metadata": {},
   "outputs": [
    {
     "name": "stdout",
     "output_type": "stream",
     "text": [
      "K\n",
      "r\n",
      "i\n",
      "s\n",
      "h\n",
      " \n",
      "N\n",
      "a\n",
      "i\n",
      "k\n"
     ]
    }
   ],
   "source": [
    "str = \"Krish Naik\"\n",
    "for i in str:\n",
    "    print(i)"
   ]
  },
  {
   "cell_type": "markdown",
   "id": "3b7e73b3-a3f2-40f0-b272-11590938c3ec",
   "metadata": {},
   "source": [
    "### While Loop"
   ]
  },
  {
   "cell_type": "code",
   "execution_count": 18,
   "id": "34eabd90-a4c6-4d42-80e1-69f6843f19d7",
   "metadata": {},
   "outputs": [
    {
     "name": "stdout",
     "output_type": "stream",
     "text": [
      "0\n",
      "1\n",
      "2\n",
      "3\n",
      "4\n"
     ]
    }
   ],
   "source": [
    "count = 0 ; \n",
    "while count < 5:\n",
    "    print(count)\n",
    "    count = count+1"
   ]
  },
  {
   "cell_type": "markdown",
   "id": "b86613ad-6de5-41b7-bc04-f0429853c481",
   "metadata": {},
   "source": [
    "### Loop Control Statement"
   ]
  },
  {
   "cell_type": "code",
   "execution_count": 40,
   "id": "0e21bd15-e8d8-4982-9d1b-4229e8bf0cff",
   "metadata": {},
   "outputs": [
    {
     "name": "stdout",
     "output_type": "stream",
     "text": [
      "6\n"
     ]
    }
   ],
   "source": [
    "#break statement : \n",
    "for i in range(1,10):\n",
    "    if i%3 == 0 and i%2 == 0:\n",
    "        print(i)\n",
    "        break"
   ]
  },
  {
   "cell_type": "code",
   "execution_count": 42,
   "id": "0752366e-785d-4234-a357-1bfd16f8b5fd",
   "metadata": {},
   "outputs": [
    {
     "name": "stdout",
     "output_type": "stream",
     "text": [
      "1\n",
      "2\n",
      "3\n",
      "4\n",
      "5\n",
      "7\n",
      "8\n",
      "9\n"
     ]
    }
   ],
   "source": [
    "#continue statement : \n",
    "for i in range(1,10):\n",
    "    if i%3 == 0 and i%2 == 0:\n",
    "       continue ; \n",
    "    print(i)"
   ]
  },
  {
   "cell_type": "code",
   "execution_count": 54,
   "id": "68ee5b0c-158f-4ecf-a824-20b666c28df6",
   "metadata": {},
   "outputs": [
    {
     "name": "stdout",
     "output_type": "stream",
     "text": [
      "1\n",
      "2\n",
      "3\n",
      "4\n",
      "5\n",
      "6\n",
      "7\n",
      "8\n",
      "9\n"
     ]
    }
   ],
   "source": [
    "#pass statement: does nothing in the code acts as null or return null like things\n",
    "for i in range(1,10):\n",
    "    if i%3 == 0 and i%2 == 0:\n",
    "       pass\n",
    "    print(i)"
   ]
  },
  {
   "cell_type": "code",
   "execution_count": 58,
   "id": "a19aea09-51c7-4151-aa54-e168c05a5438",
   "metadata": {},
   "outputs": [
    {
     "name": "stdout",
     "output_type": "stream",
     "text": [
      "0 and 0\n",
      "0 and 1\n",
      "0 and 2\n",
      "0 and 3\n",
      "0 and 4\n",
      "1 and 0\n",
      "1 and 1\n",
      "1 and 2\n",
      "1 and 3\n",
      "1 and 4\n",
      "2 and 0\n",
      "2 and 1\n",
      "2 and 2\n",
      "2 and 3\n",
      "2 and 4\n"
     ]
    }
   ],
   "source": [
    "#nested loops : \n",
    "for i in range(3):\n",
    "    for j in range(5):\n",
    "        print(f\"{i} and {j}\")"
   ]
  },
  {
   "cell_type": "markdown",
   "id": "6d24b91b-427b-49b0-81d2-c0b1d247b7a4",
   "metadata": {},
   "source": [
    "### calculate the sum of the first n natural numbers : "
   ]
  },
  {
   "cell_type": "code",
   "execution_count": 67,
   "id": "c6b65d8f-9f36-4c26-b35a-ac894d641005",
   "metadata": {},
   "outputs": [
    {
     "name": "stdin",
     "output_type": "stream",
     "text": [
      "enter the natural number 200\n"
     ]
    },
    {
     "name": "stdout",
     "output_type": "stream",
     "text": [
      "20100\n"
     ]
    }
   ],
   "source": [
    "n = int(input(\"enter the natural number\"))\n",
    "cnt = 0\n",
    "for i in range(1 , n+1):\n",
    "    cnt = cnt+i\n",
    "print(cnt)"
   ]
  },
  {
   "cell_type": "markdown",
   "id": "87780f99-5859-48a1-a9cb-79915de61fc0",
   "metadata": {},
   "source": [
    "### Prime numbers between the 1 and 10"
   ]
  },
  {
   "cell_type": "code",
   "execution_count": 76,
   "id": "a09839a5-36f3-442b-8630-c15ac9f2468f",
   "metadata": {},
   "outputs": [
    {
     "name": "stdout",
     "output_type": "stream",
     "text": [
      "2 is prime number\n",
      "3 is prime number\n",
      "4 is Not Prime Number\n",
      "5 is prime number\n",
      "6 is Not Prime Number\n",
      "7 is prime number\n",
      "8 is Not Prime Number\n",
      "9 is Not Prime Number\n",
      "10 is Not Prime Number\n",
      "11 is prime number\n",
      "12 is Not Prime Number\n",
      "13 is prime number\n",
      "14 is Not Prime Number\n",
      "15 is Not Prime Number\n",
      "16 is Not Prime Number\n",
      "17 is prime number\n",
      "18 is Not Prime Number\n",
      "19 is prime number\n",
      "20 is Not Prime Number\n",
      "21 is Not Prime Number\n",
      "22 is Not Prime Number\n",
      "23 is prime number\n",
      "24 is Not Prime Number\n",
      "25 is Not Prime Number\n",
      "26 is Not Prime Number\n",
      "27 is Not Prime Number\n",
      "28 is Not Prime Number\n",
      "29 is prime number\n",
      "30 is Not Prime Number\n",
      "31 is prime number\n",
      "32 is Not Prime Number\n",
      "33 is Not Prime Number\n",
      "34 is Not Prime Number\n",
      "35 is Not Prime Number\n",
      "36 is Not Prime Number\n",
      "37 is prime number\n",
      "38 is Not Prime Number\n",
      "39 is Not Prime Number\n",
      "40 is Not Prime Number\n",
      "41 is prime number\n",
      "42 is Not Prime Number\n",
      "43 is prime number\n",
      "44 is Not Prime Number\n",
      "45 is Not Prime Number\n",
      "46 is Not Prime Number\n",
      "47 is prime number\n",
      "48 is Not Prime Number\n",
      "49 is Not Prime Number\n",
      "50 is Not Prime Number\n",
      "51 is Not Prime Number\n",
      "52 is Not Prime Number\n",
      "53 is prime number\n",
      "54 is Not Prime Number\n",
      "55 is Not Prime Number\n",
      "56 is Not Prime Number\n",
      "57 is Not Prime Number\n",
      "58 is Not Prime Number\n",
      "59 is prime number\n",
      "60 is Not Prime Number\n",
      "61 is prime number\n",
      "62 is Not Prime Number\n",
      "63 is Not Prime Number\n",
      "64 is Not Prime Number\n",
      "65 is Not Prime Number\n",
      "66 is Not Prime Number\n",
      "67 is prime number\n",
      "68 is Not Prime Number\n",
      "69 is Not Prime Number\n",
      "70 is Not Prime Number\n",
      "71 is prime number\n",
      "72 is Not Prime Number\n",
      "73 is prime number\n",
      "74 is Not Prime Number\n",
      "75 is Not Prime Number\n",
      "76 is Not Prime Number\n",
      "77 is Not Prime Number\n",
      "78 is Not Prime Number\n",
      "79 is prime number\n",
      "80 is Not Prime Number\n",
      "81 is Not Prime Number\n",
      "82 is Not Prime Number\n",
      "83 is prime number\n",
      "84 is Not Prime Number\n",
      "85 is Not Prime Number\n",
      "86 is Not Prime Number\n",
      "87 is Not Prime Number\n",
      "88 is Not Prime Number\n",
      "89 is prime number\n",
      "90 is Not Prime Number\n",
      "91 is Not Prime Number\n",
      "92 is Not Prime Number\n",
      "93 is Not Prime Number\n",
      "94 is Not Prime Number\n",
      "95 is Not Prime Number\n",
      "96 is Not Prime Number\n",
      "97 is prime number\n",
      "98 is Not Prime Number\n",
      "99 is Not Prime Number\n"
     ]
    }
   ],
   "source": [
    "for num in range(2 , 100):\n",
    "    x = True\n",
    "    for j in range(2 , num):\n",
    "        if(num%j == 0):\n",
    "            x = False\n",
    "            break;\n",
    "    if x == True:\n",
    "        print(f\"{num} is prime number\")\n",
    "    else : \n",
    "        print(f\"{num} is Not Prime Number\")"
   ]
  },
  {
   "cell_type": "code",
   "execution_count": null,
   "id": "3ecddbd7-6129-4e7f-b726-961ad8c4703a",
   "metadata": {},
   "outputs": [],
   "source": []
  }
 ],
 "metadata": {
  "kernelspec": {
   "display_name": "Python (venv)",
   "language": "python",
   "name": "venv"
  },
  "language_info": {
   "codemirror_mode": {
    "name": "ipython",
    "version": 3
   },
   "file_extension": ".py",
   "mimetype": "text/x-python",
   "name": "python",
   "nbconvert_exporter": "python",
   "pygments_lexer": "ipython3",
   "version": "3.12.0"
  }
 },
 "nbformat": 4,
 "nbformat_minor": 5
}
