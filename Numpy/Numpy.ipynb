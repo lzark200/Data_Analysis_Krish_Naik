{
 "cells": [
  {
   "cell_type": "markdown",
   "id": "ffdd0eac-4bdf-4914-ab48-0b0cb9fb16ff",
   "metadata": {},
   "source": [
    "# Numpy"
   ]
  },
  {
   "cell_type": "code",
   "execution_count": 4,
   "id": "69b17529-b088-4385-b949-ef664113494d",
   "metadata": {},
   "outputs": [
    {
     "name": "stdout",
     "output_type": "stream",
     "text": [
      "Requirement already satisfied: numpy in c:\\users\\kshat\\anaconda3\\lib\\site-packages (1.26.4)\n"
     ]
    }
   ],
   "source": [
    "!pip install numpy"
   ]
  },
  {
   "cell_type": "code",
   "execution_count": 3,
   "id": "57a06081-62b3-4a42-886e-cce2693c369a",
   "metadata": {},
   "outputs": [],
   "source": [
    "import numpy as np"
   ]
  },
  {
   "cell_type": "markdown",
   "id": "4deb3de2-94cc-43e8-8786-b9036643babb",
   "metadata": {},
   "source": [
    "### create array using numpy"
   ]
  },
  {
   "cell_type": "code",
   "execution_count": 4,
   "id": "4a71af9b-7c14-4b08-9519-08c0500e4fa7",
   "metadata": {},
   "outputs": [
    {
     "data": {
      "text/plain": [
       "array([1, 2, 3, 4, 5])"
      ]
     },
     "execution_count": 4,
     "metadata": {},
     "output_type": "execute_result"
    }
   ],
   "source": [
    "arr1 = np.array([1 , 2, 3, 4, 5])\n",
    "arr1"
   ]
  },
  {
   "cell_type": "markdown",
   "id": "b96cca15-0d3a-4bf3-95d6-6e3a51f92ded",
   "metadata": {},
   "source": [
    "### shape of an array"
   ]
  },
  {
   "cell_type": "code",
   "execution_count": 7,
   "id": "83f77099-8c9a-4677-ad9f-e7774925a05d",
   "metadata": {},
   "outputs": [
    {
     "data": {
      "text/plain": [
       "(5,)"
      ]
     },
     "execution_count": 7,
     "metadata": {},
     "output_type": "execute_result"
    }
   ],
   "source": [
    "arr1 = np.array([1 , 2, 3, 4, 5])\n",
    "arr1.shape"
   ]
  },
  {
   "cell_type": "markdown",
   "id": "9b469dd5-a1eb-4657-aefb-db8d457350cc",
   "metadata": {},
   "source": [
    "### Converting it into the 2-D array "
   ]
  },
  {
   "cell_type": "code",
   "execution_count": 9,
   "id": "561c64fc-c0ad-44d1-90d8-7ed41ab1db66",
   "metadata": {},
   "outputs": [
    {
     "data": {
      "text/plain": [
       "(1, 5)"
      ]
     },
     "execution_count": 9,
     "metadata": {},
     "output_type": "execute_result"
    }
   ],
   "source": [
    "arr1 = np.array([1 , 2, 3, 4, 5])\n",
    "arr1 = arr1.reshape(1 , 5) #converting 1d -> 2d\n",
    "arr1.shape #Here we can see that the shape of the array is 2D where row = 1 , column = 5"
   ]
  },
  {
   "cell_type": "code",
   "execution_count": 11,
   "id": "498dd185-5819-464a-aae2-ac72ff65c8e6",
   "metadata": {},
   "outputs": [
    {
     "name": "stdout",
     "output_type": "stream",
     "text": [
      "[['1' '2' '3' '4' '5']\n",
      " ['e' '4' 'j' '4' 'abc']]\n"
     ]
    },
    {
     "data": {
      "text/plain": [
       "(2, 5)"
      ]
     },
     "execution_count": 11,
     "metadata": {},
     "output_type": "execute_result"
    }
   ],
   "source": [
    "arr1 = np.array([[1 , 2, 3, 4, 5] , ['e' ,4, 'j' , 4 , 'abc']])\n",
    "print(arr1)\n",
    "arr1.shape"
   ]
  },
  {
   "cell_type": "markdown",
   "id": "c75b924d-aaca-4486-a1df-cde4a4445080",
   "metadata": {},
   "source": [
    "### Creating arrays with inbuilt function"
   ]
  },
  {
   "cell_type": "markdown",
   "id": "2fe640de-09e0-4315-8af8-a54694c9b04c",
   "metadata": {},
   "source": [
    "##### creating an array with containing [0 , 10) elements after the increment of the 2 "
   ]
  },
  {
   "cell_type": "code",
   "execution_count": 13,
   "id": "8270c54a-6e1a-4064-aee8-a33b14577829",
   "metadata": {},
   "outputs": [
    {
     "data": {
      "text/plain": [
       "array([0, 1, 2, 3, 4, 5, 6, 7, 8, 9])"
      ]
     },
     "execution_count": 13,
     "metadata": {},
     "output_type": "execute_result"
    }
   ],
   "source": [
    "np.arange(0 , 10 , 1)"
   ]
  },
  {
   "cell_type": "code",
   "execution_count": 21,
   "id": "76ee057e-86ba-4144-8742-99f25c04cac7",
   "metadata": {},
   "outputs": [
    {
     "data": {
      "text/plain": [
       "array([[0, 1, 2, 3, 4, 5, 6, 7, 8, 9]])"
      ]
     },
     "execution_count": 21,
     "metadata": {},
     "output_type": "execute_result"
    }
   ],
   "source": [
    "np.arange(0 , 10 , 1).reshape(1 , 10)"
   ]
  },
  {
   "cell_type": "code",
   "execution_count": 17,
   "id": "b4c6843d-a33d-46cb-a936-c0d50ef669d9",
   "metadata": {},
   "outputs": [
    {
     "data": {
      "text/plain": [
       "array([[0],\n",
       "       [2],\n",
       "       [4],\n",
       "       [6],\n",
       "       [8]])"
      ]
     },
     "execution_count": 17,
     "metadata": {},
     "output_type": "execute_result"
    }
   ],
   "source": [
    "np.arange(0 , 10 , 2).reshape(5,1)"
   ]
  },
  {
   "cell_type": "code",
   "execution_count": 15,
   "id": "c625141e-c497-4bb5-94fe-93719dc0340e",
   "metadata": {},
   "outputs": [
    {
     "ename": "ValueError",
     "evalue": "cannot reshape array of size 5 into shape (5,2)",
     "output_type": "error",
     "traceback": [
      "\u001b[31m---------------------------------------------------------------------------\u001b[39m",
      "\u001b[31mValueError\u001b[39m                                Traceback (most recent call last)",
      "\u001b[36mCell\u001b[39m\u001b[36m \u001b[39m\u001b[32mIn[15]\u001b[39m\u001b[32m, line 1\u001b[39m\n\u001b[32m----> \u001b[39m\u001b[32m1\u001b[39m \u001b[43mnp\u001b[49m\u001b[43m.\u001b[49m\u001b[43marange\u001b[49m\u001b[43m(\u001b[49m\u001b[32;43m0\u001b[39;49m\u001b[43m \u001b[49m\u001b[43m,\u001b[49m\u001b[43m \u001b[49m\u001b[32;43m10\u001b[39;49m\u001b[43m \u001b[49m\u001b[43m,\u001b[49m\u001b[43m \u001b[49m\u001b[32;43m2\u001b[39;49m\u001b[43m)\u001b[49m\u001b[43m.\u001b[49m\u001b[43mreshape\u001b[49m\u001b[43m(\u001b[49m\u001b[32;43m5\u001b[39;49m\u001b[43m,\u001b[49m\u001b[32;43m2\u001b[39;49m\u001b[43m)\u001b[49m\n",
      "\u001b[31mValueError\u001b[39m: cannot reshape array of size 5 into shape (5,2)"
     ]
    }
   ],
   "source": [
    "np.arange(0 , 10 , 2).reshape(5,2)"
   ]
  },
  {
   "cell_type": "code",
   "execution_count": 74,
   "id": "107561c4-e482-4aae-9874-f0457a2db2a5",
   "metadata": {},
   "outputs": [
    {
     "data": {
      "text/plain": [
       "(5, 1)"
      ]
     },
     "execution_count": 74,
     "metadata": {},
     "output_type": "execute_result"
    }
   ],
   "source": [
    "np.arange(0 , 10 , 2).reshape(5,1).shape\n"
   ]
  },
  {
   "cell_type": "markdown",
   "id": "d4b1fd62-e571-4cdd-bf81-344a0cc55beb",
   "metadata": {},
   "source": [
    "### inbuilt array function "
   ]
  },
  {
   "cell_type": "code",
   "execution_count": 79,
   "id": "142409f9-84a0-4116-9bda-d84d530350cc",
   "metadata": {},
   "outputs": [
    {
     "data": {
      "text/plain": [
       "array([[1., 1., 1., 1.],\n",
       "       [1., 1., 1., 1.],\n",
       "       [1., 1., 1., 1.]])"
      ]
     },
     "execution_count": 79,
     "metadata": {},
     "output_type": "execute_result"
    }
   ],
   "source": [
    "#creating a 2d array with row = 3 , column = 4 , but elements are by default float\n",
    "np.ones((3 , 4))"
   ]
  },
  {
   "cell_type": "code",
   "execution_count": 81,
   "id": "7eb884c2-4d99-4379-a761-c487ed45b9a0",
   "metadata": {},
   "outputs": [
    {
     "data": {
      "text/plain": [
       "array([[1, 1, 1, 1],\n",
       "       [1, 1, 1, 1],\n",
       "       [1, 1, 1, 1]])"
      ]
     },
     "execution_count": 81,
     "metadata": {},
     "output_type": "execute_result"
    }
   ],
   "source": [
    "#creating a 2d array with row = 3 , column = 4 , each element is integer\n",
    "np.ones((3 , 4) , dtype = int)"
   ]
  },
  {
   "cell_type": "markdown",
   "id": "2a19c629-eafb-4a8f-a7f6-95367c01fa2a",
   "metadata": {},
   "source": [
    "### Attributes of Numpy array"
   ]
  },
  {
   "cell_type": "code",
   "execution_count": 25,
   "id": "b458bcdd-851e-45f3-a54e-2de40f794ad4",
   "metadata": {},
   "outputs": [
    {
     "name": "stdout",
     "output_type": "stream",
     "text": [
      "array : [[1 2 3]\n",
      " [4 5 6]]\n",
      "shape : (2, 3)\n",
      "number of dimension : 2\n",
      "size (no. of elements): 6\n",
      "Data type : int64\n",
      "Data type : <U21\n",
      "Item size(in bytes) : 8\n"
     ]
    }
   ],
   "source": [
    "arr = np.array([[1 , 2 , 3] , [4 , 5, 6]])\n",
    "arr_2= np.array([\"abc\" , 1 , 2, 3])\n",
    "print('array :' , arr)\n",
    "print('shape :' , arr.shape)\n",
    "print(\"number of dimension :\" , arr.ndim)\n",
    "print('size (no. of elements):' , arr.size)\n",
    "print('Data type :' , arr.dtype)\n",
    "print('Data type :' , arr_2.dtype)\n",
    "print('Item size(in bytes) :' , arr.itemsize)"
   ]
  },
  {
   "cell_type": "raw",
   "id": "0df12c5e-321c-4172-8498-618a892eebd3",
   "metadata": {},
   "source": [
    "The notation <U21 usually comes from NumPy (Python library for numerical computing).\n",
    "It’s a data type (dtype) description.\n",
    "\n",
    "Here’s what it means:\n",
    "\n",
    "< → The byte order (endianness).\n",
    "\n",
    "< = little-endian (least significant byte stored first).\n",
    "\n",
    "> = big-endian.\n",
    "\n",
    "| = not applicable (like for strings, where byte order doesn’t matter).\n",
    "\n",
    "U → Unicode string (fixed-size, stored as 4-byte UCS4/UTF-32 characters internally).\n",
    "\n",
    "21 → The maximum number of Unicode characters that can be stored in each element.\n",
    "\n",
    "So, dtype='<U21' means:\n",
    "➡️ Each element is a Unicode string, up to 21 characters long, stored in little-endian encoding."
   ]
  },
  {
   "cell_type": "markdown",
   "id": "f09a4181-1692-4c9c-a50d-d19b2d94d27d",
   "metadata": {},
   "source": [
    "### Identity matrix"
   ]
  },
  {
   "cell_type": "code",
   "execution_count": 91,
   "id": "39c18b67-cd02-4e1f-a351-52931bea3c63",
   "metadata": {},
   "outputs": [
    {
     "data": {
      "text/plain": [
       "array([[1, 0, 0],\n",
       "       [0, 1, 0],\n",
       "       [0, 0, 1]])"
      ]
     },
     "execution_count": 91,
     "metadata": {},
     "output_type": "execute_result"
    }
   ],
   "source": [
    "np.eye(3 , dtype = int) # diagonal element should be 1"
   ]
  },
  {
   "cell_type": "markdown",
   "id": "525937c1-3e34-44af-8878-c1db23f6c7bb",
   "metadata": {},
   "source": [
    "### Vectorized Operations"
   ]
  },
  {
   "cell_type": "code",
   "execution_count": 28,
   "id": "bb79accb-ca25-4ac4-b8a6-5bc61026910a",
   "metadata": {},
   "outputs": [],
   "source": [
    "arr1 = np.array([1,2,3,4,5])\n",
    "arr2 = np.array([10,20,30,40,52])"
   ]
  },
  {
   "cell_type": "markdown",
   "id": "0555812a-5244-4d2a-b327-50620702336f",
   "metadata": {},
   "source": [
    "### Element wise addition"
   ]
  },
  {
   "cell_type": "code",
   "execution_count": 30,
   "id": "8f5782b5-3c7e-44cb-adf4-1db198406cd7",
   "metadata": {},
   "outputs": [
    {
     "name": "stdout",
     "output_type": "stream",
     "text": [
      "addition:  [11 22 33 44 57]\n"
     ]
    }
   ],
   "source": [
    "print(\"addition: \" , arr1+arr2) # size of the arrays must be same during this"
   ]
  },
  {
   "cell_type": "code",
   "execution_count": 32,
   "id": "13f9922c-01e6-4a2a-a63b-8e852186d7eb",
   "metadata": {},
   "outputs": [
    {
     "name": "stdout",
     "output_type": "stream",
     "text": [
      "subtraction:  [ -9 -18 -27 -36 -47]\n"
     ]
    }
   ],
   "source": [
    "print(\"subtraction: \" , arr1-arr2)"
   ]
  },
  {
   "cell_type": "code",
   "execution_count": 34,
   "id": "74e45ec5-6d4a-41ba-baf7-ff7af6988c43",
   "metadata": {},
   "outputs": [
    {
     "name": "stdout",
     "output_type": "stream",
     "text": [
      "multiplication:  [ 10  40  90 160 260]\n"
     ]
    }
   ],
   "source": [
    "print(\"multiplication: \" , arr1*arr2)"
   ]
  },
  {
   "cell_type": "code",
   "execution_count": 44,
   "id": "5a90d8db-9916-4ace-860c-d4eec880ceb9",
   "metadata": {},
   "outputs": [
    {
     "name": "stdout",
     "output_type": "stream",
     "text": [
      "division:  [0.1        0.1        0.1        0.1        0.09615385]\n"
     ]
    }
   ],
   "source": [
    "print(\"division: \" , arr1/arr2)"
   ]
  },
  {
   "cell_type": "markdown",
   "id": "a48f904a-915b-4137-83c3-7b5892e58797",
   "metadata": {},
   "source": [
    "### Universal function"
   ]
  },
  {
   "cell_type": "code",
   "execution_count": 47,
   "id": "2bf7109b-20bf-482e-aa4f-f4d3a7eb0e0d",
   "metadata": {},
   "outputs": [],
   "source": [
    "arr = np.array([1,2,3,4,5,6])"
   ]
  },
  {
   "cell_type": "markdown",
   "id": "57d2f910-5f27-4aba-ac8c-3d6e8d383bad",
   "metadata": {},
   "source": [
    "### square root"
   ]
  },
  {
   "cell_type": "code",
   "execution_count": 51,
   "id": "10ea4f85-fcac-456e-8040-9bf3bc3fe5a2",
   "metadata": {},
   "outputs": [
    {
     "name": "stdout",
     "output_type": "stream",
     "text": [
      "[1.         1.41421356 1.73205081 2.         2.23606798 2.44948974]\n"
     ]
    }
   ],
   "source": [
    "print(np.sqrt(arr))"
   ]
  },
  {
   "cell_type": "markdown",
   "id": "ce2a21cd-f875-47bc-9a26-b0bb23f4fd8b",
   "metadata": {},
   "source": [
    "### Exponential"
   ]
  },
  {
   "cell_type": "code",
   "execution_count": 53,
   "id": "0e2c7f7c-9ece-4a7d-bfbf-400af5eac43e",
   "metadata": {},
   "outputs": [
    {
     "name": "stdout",
     "output_type": "stream",
     "text": [
      "[  2.71828183   7.3890561   20.08553692  54.59815003 148.4131591\n",
      " 403.42879349]\n"
     ]
    }
   ],
   "source": [
    "print(np.exp(arr))"
   ]
  },
  {
   "cell_type": "markdown",
   "id": "11eb0556-66fa-4201-96cd-7af1d92f6ed8",
   "metadata": {},
   "source": [
    "### Sine"
   ]
  },
  {
   "cell_type": "code",
   "execution_count": 57,
   "id": "00340290-1af0-4e60-8851-3a45e6e2f867",
   "metadata": {},
   "outputs": [
    {
     "name": "stdout",
     "output_type": "stream",
     "text": [
      "[ 0.84147098  0.90929743  0.14112001 -0.7568025  -0.95892427 -0.2794155 ]\n"
     ]
    }
   ],
   "source": [
    "print(np.sin(arr))"
   ]
  },
  {
   "cell_type": "markdown",
   "id": "1ecadb9f-45f3-4823-854f-a14b738be2b4",
   "metadata": {},
   "source": [
    "### All this operation are element specific operation , we can apply it on the particular value also rather than array"
   ]
  },
  {
   "cell_type": "code",
   "execution_count": 62,
   "id": "7d7d5276-230e-40b6-8f46-84904cdd9a72",
   "metadata": {},
   "outputs": [
    {
     "name": "stdout",
     "output_type": "stream",
     "text": [
      "-0.9589242746631385\n"
     ]
    }
   ],
   "source": [
    "print(np.sin(5))"
   ]
  },
  {
   "cell_type": "code",
   "execution_count": 64,
   "id": "fb315f07-6a0a-45ff-8f80-e7ca0eaadbf3",
   "metadata": {},
   "outputs": [
    {
     "name": "stdout",
     "output_type": "stream",
     "text": [
      "[0.         0.69314718 1.09861229 1.38629436 1.60943791 1.79175947]\n"
     ]
    }
   ],
   "source": [
    "print(np.log(arr))"
   ]
  },
  {
   "cell_type": "markdown",
   "id": "acd2204c-7094-40f1-85f7-b6e042c154b8",
   "metadata": {},
   "source": [
    "### Array slicing and Indexing"
   ]
  },
  {
   "cell_type": "markdown",
   "id": "33100ccc-90b6-4590-9825-4c893ba038b2",
   "metadata": {},
   "source": [
    "#Array slicing syntax : \n",
    "arr[rowStartIndex : rowEndIndex , colStartIndex:colEndIndex]\n",
    "It will go row-wise rowStartIndex to rowEndIndex-1 and simultaneously\n",
    "it will print the array elements of  each row starting from the colStartIndex to colEndIndex-1"
   ]
  },
  {
   "cell_type": "code",
   "execution_count": 32,
   "id": "c845c9b2-04ed-4fd3-a71d-2444ccfa0bf5",
   "metadata": {},
   "outputs": [
    {
     "data": {
      "text/plain": [
       "array([[1, 2, 3, 4, 5],\n",
       "       [4, 2, 3, 4, 5],\n",
       "       [8, 4, 5, 2, 6]])"
      ]
     },
     "execution_count": 32,
     "metadata": {},
     "output_type": "execute_result"
    }
   ],
   "source": [
    "arr = np.array([[1,2,3,4,5] , [4,2,3,4,5] , [8,4,5,2,6]])\n",
    "arr"
   ]
  },
  {
   "cell_type": "markdown",
   "id": "54e030f4-be56-45ec-83b3-cccc56639675",
   "metadata": {},
   "source": [
    "#### Accessing single element from the array : "
   ]
  },
  {
   "cell_type": "code",
   "execution_count": 79,
   "id": "39b8a37f-fd0a-46e9-829b-8b5f05adfb73",
   "metadata": {},
   "outputs": [
    {
     "data": {
      "text/plain": [
       "array([1, 2, 3, 4, 5])"
      ]
     },
     "execution_count": 79,
     "metadata": {},
     "output_type": "execute_result"
    }
   ],
   "source": [
    "arr[0]"
   ]
  },
  {
   "cell_type": "code",
   "execution_count": 85,
   "id": "4c7dc2f2-a848-47bf-9871-b16898e48e02",
   "metadata": {},
   "outputs": [
    {
     "data": {
      "text/plain": [
       "np.int64(5)"
      ]
     },
     "execution_count": 85,
     "metadata": {},
     "output_type": "execute_result"
    }
   ],
   "source": [
    "arr[0][4]"
   ]
  },
  {
   "cell_type": "code",
   "execution_count": 87,
   "id": "108e629c-f9cc-438d-9ea3-6ae3a299883e",
   "metadata": {},
   "outputs": [
    {
     "data": {
      "text/plain": [
       "array([[4, 2, 3, 4, 5],\n",
       "       [8, 4, 5, 2, 6]])"
      ]
     },
     "execution_count": 87,
     "metadata": {},
     "output_type": "execute_result"
    }
   ],
   "source": [
    "arr[1:] # This prints the two row from rowIndex = 1 to rowIndex = 2 (0-based indexing)"
   ]
  },
  {
   "cell_type": "code",
   "execution_count": 97,
   "id": "1cd69ae7-022a-4eaa-add0-bfc996235a8d",
   "metadata": {},
   "outputs": [
    {
     "name": "stdout",
     "output_type": "stream",
     "text": [
      "[[4 2 3 4 5]]\n"
     ]
    },
    {
     "data": {
      "text/plain": [
       "'similar to the slicing we do on the normal array where say [x:y] it \\nprints the from  rowIndex =x to rowIndex y-1'"
      ]
     },
     "execution_count": 97,
     "metadata": {},
     "output_type": "execute_result"
    }
   ],
   "source": [
    "print(arr[1:2])\n",
    "\"\"\"similar to the slicing we do on the normal array where say [x:y] it \n",
    "prints the from  rowIndex =x to rowIndex y-1\"\"\""
   ]
  },
  {
   "cell_type": "code",
   "execution_count": 99,
   "id": "f00a4fc8-a381-4a88-9dad-adbea6fe02bb",
   "metadata": {},
   "outputs": [
    {
     "data": {
      "text/plain": [
       "array([[3, 4, 5],\n",
       "       [5, 2, 6]])"
      ]
     },
     "execution_count": 99,
     "metadata": {},
     "output_type": "execute_result"
    }
   ],
   "source": [
    "arr[1: , 2:]  # it prints from rowIndex = 1 till the last rowIndex and colIndex = 2 till the last colIndex"
   ]
  },
  {
   "cell_type": "code",
   "execution_count": 101,
   "id": "838141aa-e17a-4121-b89e-0192826a5ac8",
   "metadata": {},
   "outputs": [
    {
     "data": {
      "text/plain": [
       "array([[3, 4],\n",
       "       [5, 2]])"
      ]
     },
     "execution_count": 101,
     "metadata": {},
     "output_type": "execute_result"
    }
   ],
   "source": [
    "arr[1:3 , 2:4] #it prints from rowIndex = 1 to rowIndex = 2 && colIndex = 2 to colIndex = 3"
   ]
  },
  {
   "cell_type": "markdown",
   "id": "42a80cd1-93a4-44a9-a26e-a58feacc9af8",
   "metadata": {},
   "source": [
    "### Modify array elements"
   ]
  },
  {
   "cell_type": "code",
   "execution_count": 107,
   "id": "d6c29591-0331-4c68-bb5b-e22ceebc4c7e",
   "metadata": {},
   "outputs": [
    {
     "name": "stdout",
     "output_type": "stream",
     "text": [
      "[[1 2 3 4 5]\n",
      " [4 2 3 4 5]\n",
      " [8 4 5 2 6]]\n"
     ]
    }
   ],
   "source": [
    "print(arr)"
   ]
  },
  {
   "cell_type": "code",
   "execution_count": 113,
   "id": "e30c7f16-3269-4615-b712-2e4f7ea0c533",
   "metadata": {},
   "outputs": [
    {
     "data": {
      "text/plain": [
       "array([[ 99,   2,   3,   4,   5],\n",
       "       [  4,   2, 100,   4,   5],\n",
       "       [  8,   4,   5,   2,   6]])"
      ]
     },
     "execution_count": 113,
     "metadata": {},
     "output_type": "execute_result"
    }
   ],
   "source": [
    "arr[1 , 2] = 100\n",
    "arr"
   ]
  },
  {
   "cell_type": "code",
   "execution_count": 111,
   "id": "78eb83d6-8bc0-4deb-a207-4d07547d9519",
   "metadata": {},
   "outputs": [
    {
     "data": {
      "text/plain": [
       "array([[99,  2,  3,  4,  5],\n",
       "       [ 4,  2,  3,  4,  5],\n",
       "       [ 8,  4,  5,  2,  6]])"
      ]
     },
     "execution_count": 111,
     "metadata": {},
     "output_type": "execute_result"
    }
   ],
   "source": [
    "arr[0][0]  = 99\n",
    "arr"
   ]
  },
  {
   "cell_type": "markdown",
   "id": "64a80993-53d2-4e26-a121-9e6edc1305a9",
   "metadata": {},
   "source": [
    "### replacing all the elements with single elements after particular row"
   ]
  },
  {
   "cell_type": "code",
   "execution_count": 116,
   "id": "aa9ddb46-65eb-416b-bc36-91b5244278b5",
   "metadata": {},
   "outputs": [
    {
     "name": "stdout",
     "output_type": "stream",
     "text": [
      "[[  99    2    3    4    5]\n",
      " [   4    2  100    4    5]\n",
      " [5999 5999 5999 5999 5999]]\n"
     ]
    }
   ],
   "source": [
    "arr[2:] = 5999\n",
    "print(arr)"
   ]
  },
  {
   "cell_type": "code",
   "execution_count": 34,
   "id": "22c32e7e-cb65-4d37-963e-ce86d2b54aba",
   "metadata": {},
   "outputs": [
    {
     "name": "stdout",
     "output_type": "stream",
     "text": [
      "[[1 2 3 4 5]\n",
      " [4 2 3 4 5]\n",
      " [8 4 5 2 6]]\n",
      "[[    1     2     3     4     5]\n",
      " [    4     2 11111 11111 11111]\n",
      " [    8     4 11111 11111 11111]]\n"
     ]
    }
   ],
   "source": [
    "print(arr)\n",
    "arr[1: , 2:] = 11111\n",
    "print(arr)"
   ]
  },
  {
   "cell_type": "markdown",
   "id": "5364ea71-48e0-4d09-afc6-5ea89be11b26",
   "metadata": {},
   "source": [
    "### Statistical concepts -- Normalization"
   ]
  },
  {
   "cell_type": "markdown",
   "id": "a87e4c32-fd71-4da0-8d55-684799cfcbf5",
   "metadata": {},
   "source": [
    "Normalization is a method of converting the data such that you mean of the data is 0 and  standard deviation is 1"
   ]
  },
  {
   "cell_type": "code",
   "execution_count": 130,
   "id": "f8ea8017-f60c-4073-978b-32cef52fbbfe",
   "metadata": {},
   "outputs": [
    {
     "name": "stdout",
     "output_type": "stream",
     "text": [
      "Normalized data:  [-1.5666989  -1.21854359 -0.87038828 -0.52223297 -0.17407766  0.17407766\n",
      "  0.52223297  0.87038828  1.21854359  1.5666989 ]\n",
      "mean:  -6.661338147750939e-17\n",
      "std_dev: 1.0\n"
     ]
    }
   ],
   "source": [
    "#calculate the mean and standard deviation : \n",
    "data = np.array([1,2,3,4,5,6,7,8,9,10])\n",
    "\n",
    "mean = np.mean(data)\n",
    "std_dev = np.std(data)\n",
    "\n",
    "#Normalize the data\n",
    "normalized_data = (data-mean) / std_dev\n",
    "print(\"Normalized data: \",normalized_data)\n",
    "\n",
    "print(\"mean: \", np.mean(normalized_data))\n",
    "print(\"std_dev:\" , np.std(normalized_data))\n"
   ]
  },
  {
   "cell_type": "raw",
   "id": "9a664629-53c5-4dfb-8f49-de7360d4bb97",
   "metadata": {},
   "source": [
    "# mean: -6.661338147750939e-17 → this is basically zero.\n",
    "# That tiny value (≈ -0.000000000000000066) comes from floating-point precision limits in # computers. You can safely treat it as 0.\n",
    "# std_dev: 1.0 → perfect! The normalized data has unit standard deviation."
   ]
  },
  {
   "cell_type": "code",
   "execution_count": 134,
   "id": "cf257549-9b07-4e40-8ffe-662fb654f715",
   "metadata": {},
   "outputs": [
    {
     "name": "stdout",
     "output_type": "stream",
     "text": [
      "mean : 5.5\n",
      "standard deviation:  2.8722813232690143\n",
      "median:  5.5\n",
      "variance:  8.25\n"
     ]
    }
   ],
   "source": [
    "### Statistical Operations : \n",
    "data = np.array([1,2,3,4,5,6,7,8,9,10])\n",
    "\n",
    "#Mean\n",
    "mean = np.mean(data)\n",
    "print(\"mean :\" , mean)\n",
    "\n",
    "#Standard Deviation\n",
    "std_dev = np.std(data)\n",
    "print(\"standard deviation: \" , std_dev)\n",
    "\n",
    "#Median\n",
    "median = np.median(data)\n",
    "print(\"median: \" , median)\n",
    "\n",
    "#Variance\n",
    "variance = np.var(data)\n",
    "print(\"variance: \" , variance)\n"
   ]
  },
  {
   "cell_type": "markdown",
   "id": "d29d5935-1e35-4423-a033-ae84bb004628",
   "metadata": {},
   "source": [
    "###  Logical operation"
   ]
  },
  {
   "cell_type": "code",
   "execution_count": 137,
   "id": "f918cdaf-7150-4a06-9fbd-6a07493d5daf",
   "metadata": {},
   "outputs": [
    {
     "data": {
      "text/plain": [
       "array([False, False, False, False,  True,  True,  True,  True,  True])"
      ]
     },
     "execution_count": 137,
     "metadata": {},
     "output_type": "execute_result"
    }
   ],
   "source": [
    "data = np.array([1,3,4,5,6,7,8,9,10])\n",
    "data > 5 # basically it is checking how many values are greater than 5"
   ]
  },
  {
   "cell_type": "markdown",
   "id": "06916f21-565f-4631-9655-df5d38ebbc54",
   "metadata": {},
   "source": [
    "##### How to print those values : "
   ]
  },
  {
   "cell_type": "code",
   "execution_count": 140,
   "id": "f8c5aee5-5878-46be-8fd4-32eb8772926b",
   "metadata": {},
   "outputs": [
    {
     "data": {
      "text/plain": [
       "array([ 6,  7,  8,  9, 10])"
      ]
     },
     "execution_count": 140,
     "metadata": {},
     "output_type": "execute_result"
    }
   ],
   "source": [
    "data[data>5]"
   ]
  },
  {
   "cell_type": "code",
   "execution_count": 142,
   "id": "64034fd9-2595-494a-b945-144dda84e582",
   "metadata": {},
   "outputs": [
    {
     "data": {
      "text/plain": [
       "array([5, 6, 7])"
      ]
     },
     "execution_count": 142,
     "metadata": {},
     "output_type": "execute_result"
    }
   ],
   "source": [
    "data[(data>=5) & (data <= 7) ]"
   ]
  },
  {
   "cell_type": "code",
   "execution_count": null,
   "id": "dd851bc0-746f-4c1b-960f-39e3907d4277",
   "metadata": {},
   "outputs": [],
   "source": []
  }
 ],
 "metadata": {
  "kernelspec": {
   "display_name": "Python (venv)",
   "language": "python",
   "name": "venv"
  },
  "language_info": {
   "codemirror_mode": {
    "name": "ipython",
    "version": 3
   },
   "file_extension": ".py",
   "mimetype": "text/x-python",
   "name": "python",
   "nbconvert_exporter": "python",
   "pygments_lexer": "ipython3",
   "version": "3.12.0"
  }
 },
 "nbformat": 4,
 "nbformat_minor": 5
}
