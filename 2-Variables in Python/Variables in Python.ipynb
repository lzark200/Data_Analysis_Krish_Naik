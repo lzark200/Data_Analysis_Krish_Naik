{
 "cells": [
  {
   "cell_type": "markdown",
   "id": "fec01fb5-56f6-4e2c-93b0-a52e34d49a20",
   "metadata": {},
   "source": [
    "# Variables in the python"
   ]
  },
  {
   "cell_type": "markdown",
   "id": "46d83cee-3f34-445a-99ec-e1104cb041bd",
   "metadata": {},
   "source": [
    "### Declaring and the assigning Variables"
   ]
  },
  {
   "cell_type": "code",
   "execution_count": 8,
   "id": "7aae9677-26ba-445b-bd7b-52a505ed2926",
   "metadata": {},
   "outputs": [
    {
     "name": "stdout",
     "output_type": "stream",
     "text": [
      "32 6.1 krish True\n"
     ]
    }
   ],
   "source": [
    "age = 32 \n",
    "height = 6.1\n",
    "name = \"krish\"\n",
    "is_student = True\n",
    "\n",
    "print(age , height , name , is_student) ; "
   ]
  },
  {
   "cell_type": "markdown",
   "id": "2b41cc64-08af-427e-979a-01a8102eaf8a",
   "metadata": {},
   "source": [
    "### Naming Convention"
   ]
  },
  {
   "cell_type": "code",
   "execution_count": null,
   "id": "a90475da-f412-4eb9-a023-cfd3a8b68754",
   "metadata": {},
   "outputs": [],
   "source": [
    "#variable names should be descriptive\n",
    "#They must always start with '_' or letter and can contain letters and numbers\n",
    "#variable names are case sensitive\n",
    "#valid variable name : \n",
    "# first_name = \"krish naik\"\n",
    "# first__45$%name = 5 ; --- invalid\n",
    "# first__45name = 5 ; --- valid"
   ]
  },
  {
   "cell_type": "markdown",
   "id": "23aa98be-e1d5-426b-bf3f-ac1703e00bfe",
   "metadata": {},
   "source": [
    "### Understanding Variable types"
   ]
  },
  {
   "cell_type": "code",
   "execution_count": 19,
   "id": "73dd82d7-9283-46bd-b3dc-ec6f39a3d90d",
   "metadata": {},
   "outputs": [
    {
     "name": "stdout",
     "output_type": "stream",
     "text": [
      "25 8.23 True\n"
     ]
    }
   ],
   "source": [
    "## python is dynamically typed , type of a variable is determined at runtime no need to datatype before variable\n",
    "age = 25  #int\n",
    "height = 8.23 # float\n",
    "is_true = True \n",
    "print(age , height , is_true)"
   ]
  },
  {
   "cell_type": "markdown",
   "id": "87d30118-7458-4e74-8127-33bc1f0aa14d",
   "metadata": {},
   "source": [
    "### Type Checking and Conversion"
   ]
  },
  {
   "cell_type": "code",
   "execution_count": 26,
   "id": "63b096cb-a807-4c21-be6c-92d0ef9ee376",
   "metadata": {},
   "outputs": [
    {
     "name": "stdout",
     "output_type": "stream",
     "text": [
      "<class 'int'>\n",
      "25 <class 'str'>\n"
     ]
    }
   ],
   "source": [
    "age = 25\n",
    "print(type(age))\n",
    "\n",
    "#type conversion : \n",
    "age_str = str(age) ; \n",
    "print(age_str , type(age_str)) ;"
   ]
  },
  {
   "cell_type": "code",
   "execution_count": 28,
   "id": "569fc061-4d37-48ca-b394-93e86f4e22eb",
   "metadata": {},
   "outputs": [
    {
     "name": "stdout",
     "output_type": "stream",
     "text": [
      "<class 'int'>\n"
     ]
    }
   ],
   "source": [
    "age = '25'\n",
    "print(type(int(age)))"
   ]
  },
  {
   "cell_type": "code",
   "execution_count": 30,
   "id": "38c909c6-a0c0-4e03-a27a-53d6ed56e52a",
   "metadata": {},
   "outputs": [
    {
     "ename": "ValueError",
     "evalue": "invalid literal for int() with base 10: 'Krish'",
     "output_type": "error",
     "traceback": [
      "\u001b[31m---------------------------------------------------------------------------\u001b[39m",
      "\u001b[31mValueError\u001b[39m                                Traceback (most recent call last)",
      "\u001b[36mCell\u001b[39m\u001b[36m \u001b[39m\u001b[32mIn[30]\u001b[39m\u001b[32m, line 2\u001b[39m\n\u001b[32m      1\u001b[39m name = \u001b[33m\"\u001b[39m\u001b[33mKrish\u001b[39m\u001b[33m\"\u001b[39m\n\u001b[32m----> \u001b[39m\u001b[32m2\u001b[39m \u001b[38;5;28;43mint\u001b[39;49m\u001b[43m(\u001b[49m\u001b[43mname\u001b[49m\u001b[43m)\u001b[49m\n",
      "\u001b[31mValueError\u001b[39m: invalid literal for int() with base 10: 'Krish'"
     ]
    }
   ],
   "source": [
    "name = \"Krish\"\n",
    "int(name) #wrong conversion"
   ]
  },
  {
   "cell_type": "code",
   "execution_count": 36,
   "id": "017c1446-4fc5-45c7-b5b8-83d2a83d6b7f",
   "metadata": {},
   "outputs": [
    {
     "name": "stdout",
     "output_type": "stream",
     "text": [
      "6.235 <class 'float'>\n",
      "6 <class 'int'>\n",
      "6.0 <class 'float'>\n"
     ]
    }
   ],
   "source": [
    "height = 6.235\n",
    "print(height , type(height))\n",
    "\n",
    "print(int(height) , type(int(height)))\n",
    "\n",
    "print(float(int(height)) , type(float(int(height)))) "
   ]
  },
  {
   "cell_type": "code",
   "execution_count": 38,
   "id": "99b9a713-f2bf-4491-9d38-6604341d8afe",
   "metadata": {},
   "outputs": [
    {
     "name": "stdout",
     "output_type": "stream",
     "text": [
      "10 <class 'int'>\n"
     ]
    }
   ],
   "source": [
    "## Dynamic Typing:\n",
    "## Python allows the type of the variable to change as program exceutes\n",
    "var = 10 \n",
    "print(var , type(var))\n",
    "\n",
    "var = \"ten\""
   ]
  },
  {
   "cell_type": "markdown",
   "id": "2583c66b-0de7-4d6e-b9cf-9a5d101dc9ea",
   "metadata": {},
   "source": [
    "### Input functionlity"
   ]
  },
  {
   "cell_type": "code",
   "execution_count": 40,
   "id": "ed6012e3-8ab1-461a-910a-3eb277ff5be4",
   "metadata": {},
   "outputs": [
    {
     "name": "stdin",
     "output_type": "stream",
     "text": [
      "what is the age: 456\n"
     ]
    },
    {
     "name": "stdout",
     "output_type": "stream",
     "text": [
      "456 <class 'int'>\n"
     ]
    }
   ],
   "source": [
    "## input : \n",
    "age = int(input(\"what is the age:\"))\n",
    "print(age , type(age)) ; "
   ]
  },
  {
   "cell_type": "markdown",
   "id": "67da28f7-add8-405a-99da-3394db275b41",
   "metadata": {},
   "source": [
    "### Simple Calculator "
   ]
  },
  {
   "cell_type": "code",
   "execution_count": 45,
   "id": "23061201-dbbe-4354-a6d7-f9fe52ceb263",
   "metadata": {},
   "outputs": [
    {
     "name": "stdin",
     "output_type": "stream",
     "text": [
      "enter the n1: 45263.3265\n",
      "enter the n2: 5456.63\n"
     ]
    },
    {
     "name": "stdout",
     "output_type": "stream",
     "text": [
      "50719.9565 39806.696500000005 246985225.27969503 8.295106411832945\n"
     ]
    }
   ],
   "source": [
    "num1 = float(input(\"enter the n1:\"))\n",
    "num2 = float(input(\"enter the n2:\"))\n",
    "\n",
    "sum = num1 + num2\n",
    "diff = num1 - num2\n",
    "product = num1 * num2\n",
    "quotient = num1 / num2\n",
    "\n",
    "\n",
    "print(sum , diff , product , quotient)"
   ]
  },
  {
   "cell_type": "code",
   "execution_count": null,
   "id": "dbcca8ac-4279-47ef-982e-aad6fc4cdb5f",
   "metadata": {},
   "outputs": [],
   "source": []
  }
 ],
 "metadata": {
  "kernelspec": {
   "display_name": "Python (venv)",
   "language": "python",
   "name": "venv"
  },
  "language_info": {
   "codemirror_mode": {
    "name": "ipython",
    "version": 3
   },
   "file_extension": ".py",
   "mimetype": "text/x-python",
   "name": "python",
   "nbconvert_exporter": "python",
   "pygments_lexer": "ipython3",
   "version": "3.12.0"
  }
 },
 "nbformat": 4,
 "nbformat_minor": 5
}
