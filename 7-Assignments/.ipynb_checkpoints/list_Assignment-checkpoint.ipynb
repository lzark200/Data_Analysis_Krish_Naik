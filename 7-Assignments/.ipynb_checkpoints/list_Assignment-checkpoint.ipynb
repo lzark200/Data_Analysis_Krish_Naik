{
 "cells": [
  {
   "cell_type": "markdown",
   "id": "b08f0772",
   "metadata": {},
   "source": [
    "# Module 3: Data Structures Assignments\n",
    "## Lesson 3.1: Lists\n",
    "### Assignment 1: Creating and Accessing Lists\n",
    "\n",
    "Create a list of the first 20 positive integers. Print the list.\n",
    "\n",
    "### Assignment 2: Accessing List Elements\n",
    "\n",
    "Print the first, middle, and last elements of the list created in Assignment 1.\n",
    "\n",
    "### Assignment 3: List Slicing\n",
    "\n",
    "Print the first five elements, the last five elements, and the elements from index 5 to 15 of the list created in Assignment 1.\n",
    "\n",
    "### Assignment 4: List Comprehensions\n",
    "\n",
    "Create a new list containing the squares of the first 10 positive integers using a list comprehension. Print the new list.\n",
    "\n",
    "### Assignment 5: Filtering Lists\n",
    "\n",
    "Create a new list containing only the even numbers from the list created in Assignment 1 using a list comprehension. Print the new list.\n",
    "\n",
    "### Assignment 6: List Methods\n",
    "\n",
    "Create a list of random numbers and sort it in ascending and descending order. Remove the duplicates from the list and print the modified list.\n",
    "\n",
    "### Assignment 7: Nested Lists\n",
    "\n",
    "Create a nested list representing a 3x3 matrix and print the matrix. Access and print the element at the second row and third column.\n",
    "\n",
    "### Assignment 8: List of Dictionaries\n",
    "\n",
    "Create a list of dictionaries where each dictionary represents a student with keys 'name' and 'score'. Sort the list of dictionaries by the 'score' in descending order and print the sorted list.\n",
    "\n",
    "### Assignment 9: Matrix Transposition\n",
    "\n",
    "Write a function that takes a 3x3 matrix (nested list) as input and returns its transpose. Print the original and transposed matrices.\n",
    "\n",
    "### Assignment 10: Flattening a Nested List\n",
    "\n",
    "Write a function that takes a nested list and flattens it into a single list. Print the original and flattened lists.\n",
    "\n",
    "### Assignment 11: List Manipulation\n",
    "\n",
    "Create a list of the first 10 positive integers. Remove the elements at indices 2, 4, and 6, and insert the element '99' at index 5. Print the modified list.\n",
    "\n",
    "### Assignment 12: List Zipping\n",
    "\n",
    "Create two lists of the same length. Use the `zip` function to combine these lists into a list of tuples and print the result.\n",
    "\n",
    "### Assignment 13: List Reversal\n",
    "\n",
    "Write a function that takes a list and returns a new list with the elements in reverse order. Print the original and reversed lists.\n",
    "\n",
    "### Assignment 14: List Rotation\n",
    "\n",
    "Write a function that rotates a list by n positions. Print the original and rotated lists.\n",
    "\n",
    "### Assignment 15: List Intersection\n",
    "\n",
    "Write a function that takes two lists and returns a new list containing only the elements that are present in both lists. Print the intersected list."
   ]
  },
  {
   "cell_type": "code",
   "execution_count": 3,
   "id": "6168bc24",
   "metadata": {},
   "outputs": [
    {
     "name": "stdout",
     "output_type": "stream",
     "text": [
      "1 6 10\n"
     ]
    }
   ],
   "source": [
    "#assignment 2 : \n",
    "lst = [1,2,3,4,5,6,7,8,9,10,11,12,13,14,15,16,17,18,19,20]\n",
    "print(lst[0] , lst[len(lst)//2] , lst[len(lst)-1])"
   ]
  },
  {
   "cell_type": "code",
   "execution_count": 15,
   "id": "32567332-d4e3-44ee-8583-418c3a0e3f19",
   "metadata": {},
   "outputs": [
    {
     "name": "stdout",
     "output_type": "stream",
     "text": [
      "[1, 2, 3, 4, 5]\n",
      "[16, 17, 18, 19, 20]\n",
      "[6, 7, 8, 9, 10, 11, 12, 13, 14, 15]\n"
     ]
    }
   ],
   "source": [
    "# assignment 3:\n",
    "lst = [1,2,3,4,5,6,7,8,9,10,11,12,13,14,15,16,17,18,19,20]\n",
    "print(lst[:5])\n",
    "print(lst[len(lst)-5:])\n",
    "print(lst[5:15])"
   ]
  },
  {
   "cell_type": "code",
   "execution_count": 23,
   "id": "e2c871cc-3153-4c66-ab11-05d7e95c31e2",
   "metadata": {},
   "outputs": [
    {
     "name": "stdin",
     "output_type": "stream",
     "text": [
      "enter the number 100\n"
     ]
    },
    {
     "name": "stdout",
     "output_type": "stream",
     "text": [
      "[1, 4, 9, 16, 25, 36, 49, 64, 81, 100, 121, 144, 169, 196, 225, 256, 289, 324, 361, 400, 441, 484, 529, 576, 625, 676, 729, 784, 841, 900, 961, 1024, 1089, 1156, 1225, 1296, 1369, 1444, 1521, 1600, 1681, 1764, 1849, 1936, 2025, 2116, 2209, 2304, 2401, 2500, 2601, 2704, 2809, 2916, 3025, 3136, 3249, 3364, 3481, 3600, 3721, 3844, 3969, 4096, 4225, 4356, 4489, 4624, 4761, 4900, 5041, 5184, 5329, 5476, 5625, 5776, 5929, 6084, 6241, 6400, 6561, 6724, 6889, 7056, 7225, 7396, 7569, 7744, 7921, 8100, 8281, 8464, 8649, 8836, 9025, 9216, 9409, 9604, 9801, 10000]\n"
     ]
    }
   ],
   "source": [
    "#assignment 4:\n",
    "n = int(input(\"enter the number\"))\n",
    "lst = [item**2 for item in range(1 , n+1)]\n",
    "print(lst)"
   ]
  },
  {
   "cell_type": "code",
   "execution_count": 27,
   "id": "0c4a572a-ecdb-4ad1-9f3a-3148fab05f50",
   "metadata": {},
   "outputs": [
    {
     "name": "stdout",
     "output_type": "stream",
     "text": [
      "[2, 4, 6, 8, 10, 12, 14, 16, 18, 20]\n"
     ]
    }
   ],
   "source": [
    "# assignment 5:\n",
    "lst = [1,2,3,4,5,6,7,8,9,10,11,12,13,14,15,16,17,18,19,20]\n",
    "new_lst = [num for num in lst if num%2 == 0]\n",
    "print(new_lst)"
   ]
  },
  {
   "cell_type": "code",
   "execution_count": 63,
   "id": "cf37cb0d-83d8-49e7-82ab-fce8f6faff2c",
   "metadata": {},
   "outputs": [
    {
     "name": "stdout",
     "output_type": "stream",
     "text": [
      "33\n"
     ]
    },
    {
     "name": "stdin",
     "output_type": "stream",
     "text": [
      "enter the size of the list 20\n"
     ]
    },
    {
     "name": "stdout",
     "output_type": "stream",
     "text": [
      "[46, 25, 20, 44, 43, 45, 50, 65, 29, 40, 43, 88, 65, 66, 94, 25, 43, 5, 21, 77]\n",
      "[5, 20, 21, 25, 25, 29, 40, 43, 43, 43, 44, 45, 46, 50, 65, 65, 66, 77, 88, 94]\n",
      "[94, 88, 77, 66, 65, 65, 50, 46, 45, 44, 43, 43, 43, 40, 29, 25, 25, 21, 20, 5]\n",
      "[65, 66, 5, 40, 43, 44, 77, 46, 45, 50, 20, 21, 88, 25, 29, 94]\n",
      "[88, 84, 78, 68, 58, 50, 49, 48, 41, 38, 36, 34, 24, 14, 10, 8, 3]\n"
     ]
    }
   ],
   "source": [
    "# assignement 6:\n",
    "import random\n",
    "\n",
    "print(num)\n",
    "n = int(input(\"enter the size of the list\"))\n",
    "lst = [random.randint(1,100) for i in range(1,n+1)]\n",
    "print(lst)\n",
    "lst.sort()\n",
    "print(lst)\n",
    "lst.sort(reverse=True)\n",
    "print(lst)\n",
    "#remove the duplicates from the list : \n",
    "lst = list(set(lst))\n",
    "print(lst)\n",
    "\n",
    "\n",
    "\n",
    "#performing all the function at once : \n",
    "lst = sorted(set([random.randint(1, 100) for i in range(1, n+1)]), reverse=True)\n",
    "print(lst)"
   ]
  },
  {
   "cell_type": "code",
   "execution_count": 80,
   "id": "1a9479ec-1722-458d-b76c-0cb11ba1604c",
   "metadata": {},
   "outputs": [
    {
     "name": "stdin",
     "output_type": "stream",
     "text": [
      "enter the no. of rows square matrix: 3\n"
     ]
    },
    {
     "name": "stdout",
     "output_type": "stream",
     "text": [
      "[[100, 93, 78], [2, 71, 11], [62, 70, 74]]\n",
      "11\n"
     ]
    }
   ],
   "source": [
    "# assignement 7:\n",
    "n = int(input(\"enter the no. of rows square matrix:\"))\n",
    "\n",
    "lst = [[random.randint(1 , 100) for i in range(1 , n+1)] for j in range(1 , n+1) ]\n",
    "print(lst)\n",
    "print(lst[1][2])\n",
    "\n",
    "for i in range(0 , n):\n",
    "    for j in range(0 , i+1):\n",
    "        lst[i][j] , lst[j][i] = lst[j][i] , lst[i][j]\n",
    "print(lst)\n",
    "        \n",
    "        "
   ]
  },
  {
   "cell_type": "code",
   "execution_count": null,
   "id": "4178c168-bf75-48a4-b129-f8cbdc10b694",
   "metadata": {},
   "outputs": [],
   "source": []
  }
 ],
 "metadata": {
  "kernelspec": {
   "display_name": "Python (venv)",
   "language": "python",
   "name": "venv"
  },
  "language_info": {
   "codemirror_mode": {
    "name": "ipython",
    "version": 3
   },
   "file_extension": ".py",
   "mimetype": "text/x-python",
   "name": "python",
   "nbconvert_exporter": "python",
   "pygments_lexer": "ipython3",
   "version": "3.12.0"
  }
 },
 "nbformat": 4,
 "nbformat_minor": 5
}
