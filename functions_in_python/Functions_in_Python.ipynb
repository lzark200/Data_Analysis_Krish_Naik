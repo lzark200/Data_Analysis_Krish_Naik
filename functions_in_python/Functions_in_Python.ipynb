{
 "cells": [
  {
   "cell_type": "markdown",
   "id": "49da1bc3-b2fc-4a9c-b446-400a71c54016",
   "metadata": {},
   "source": [
    "### Function basic sytax"
   ]
  },
  {
   "cell_type": "code",
   "execution_count": 6,
   "id": "cd19bfc3-52b8-427d-9e65-3a68a5eb31f7",
   "metadata": {},
   "outputs": [],
   "source": [
    "def function_name(parameters):\n",
    "    \"\"\"Docsstring\"\"\"\n",
    "    #function body\n",
    "    return expression"
   ]
  },
  {
   "cell_type": "code",
   "execution_count": 12,
   "id": "b4e59af2-253c-41d3-92fe-ff4ae9b3b011",
   "metadata": {},
   "outputs": [
    {
     "data": {
      "text/plain": [
       "False"
      ]
     },
     "execution_count": 12,
     "metadata": {},
     "output_type": "execute_result"
    }
   ],
   "source": [
    "def even_or_odd(num):\n",
    "    \"\"\"This function performs find even or odd\"\"\"\n",
    "    if num%2 == 0:\n",
    "        return True\n",
    "    else:\n",
    "        return False\n",
    "even_or_odd(5)"
   ]
  },
  {
   "cell_type": "markdown",
   "id": "e193fcb3-09ff-4b31-b40d-ef84729ff1dd",
   "metadata": {},
   "source": [
    "### Function with multiple parameters : "
   ]
  },
  {
   "cell_type": "code",
   "execution_count": 15,
   "id": "526b5aac-71ab-43fe-b09d-926cf81c02c8",
   "metadata": {},
   "outputs": [
    {
     "data": {
      "text/plain": [
       "9"
      ]
     },
     "execution_count": 15,
     "metadata": {},
     "output_type": "execute_result"
    }
   ],
   "source": [
    "def add(a , b):\n",
    "    \"\"\"This adds to numbers together\"\"\"\n",
    "    return a+b\n",
    "add(4,5)"
   ]
  },
  {
   "cell_type": "code",
   "execution_count": 1,
   "id": "2d4befed-d5d6-4c96-af37-a96940fb7e8a",
   "metadata": {},
   "outputs": [
    {
     "name": "stdout",
     "output_type": "stream",
     "text": [
      "Your name aditya welcome to paradise\n"
     ]
    }
   ],
   "source": [
    "#Default Parameters : \n",
    "def greet(name):\n",
    "    print(f\"Your name {name} welcome to paradise\")\n",
    "greet(\"aditya\")"
   ]
  },
  {
   "cell_type": "code",
   "execution_count": 3,
   "id": "a1197ac8-d783-47b1-8967-1ae44bc4039d",
   "metadata": {},
   "outputs": [
    {
     "ename": "TypeError",
     "evalue": "greet() missing 1 required positional argument: 'name'",
     "output_type": "error",
     "traceback": [
      "\u001b[31m---------------------------------------------------------------------------\u001b[39m",
      "\u001b[31mTypeError\u001b[39m                                 Traceback (most recent call last)",
      "\u001b[36mCell\u001b[39m\u001b[36m \u001b[39m\u001b[32mIn[3]\u001b[39m\u001b[32m, line 4\u001b[39m\n\u001b[32m      2\u001b[39m \u001b[38;5;28;01mdef\u001b[39;00m\u001b[38;5;250m \u001b[39m\u001b[34mgreet\u001b[39m(name):\n\u001b[32m      3\u001b[39m     \u001b[38;5;28mprint\u001b[39m(\u001b[33mf\u001b[39m\u001b[33m\"\u001b[39m\u001b[33mYour name \u001b[39m\u001b[38;5;132;01m{\u001b[39;00mname\u001b[38;5;132;01m}\u001b[39;00m\u001b[33m welcome to paradise\u001b[39m\u001b[33m\"\u001b[39m)\n\u001b[32m----> \u001b[39m\u001b[32m4\u001b[39m \u001b[43mgreet\u001b[49m\u001b[43m(\u001b[49m\u001b[43m)\u001b[49m\n",
      "\u001b[31mTypeError\u001b[39m: greet() missing 1 required positional argument: 'name'"
     ]
    }
   ],
   "source": [
    "#Default Parameters : \n",
    "def greet(name):\n",
    "    print(f\"Your name {name} welcome to paradise\")\n",
    "greet()"
   ]
  },
  {
   "cell_type": "markdown",
   "id": "7f73790c-8dac-4d05-8676-3a2240543549",
   "metadata": {},
   "source": [
    "This positional argument error will come if we are not passing the argument , to avoid this we can set the default paramaeters"
   ]
  },
  {
   "cell_type": "code",
   "execution_count": 6,
   "id": "79756079-0cd0-40c7-8d67-b794a18fb425",
   "metadata": {},
   "outputs": [
    {
     "name": "stdout",
     "output_type": "stream",
     "text": [
      "Your name setu welcome to paradise\n"
     ]
    }
   ],
   "source": [
    "#Default Parameters : \n",
    "def greet(name = \"setu\"):\n",
    "    print(f\"Your name {name} welcome to paradise\")\n",
    "greet()"
   ]
  },
  {
   "cell_type": "markdown",
   "id": "3b8fca23-54f1-45d5-8f7c-be0be3072183",
   "metadata": {},
   "source": [
    "see no error since we are using the default parameters"
   ]
  },
  {
   "cell_type": "markdown",
   "id": "0f9966ee-3f1d-41b6-beae-da1ddcccf52f",
   "metadata": {},
   "source": [
    "### variable length arguments"
   ]
  },
  {
   "cell_type": "markdown",
   "id": "ab32a02f-f59f-49e7-b0c5-34b1aae95f89",
   "metadata": {},
   "source": [
    "#### 1. positional arguments"
   ]
  },
  {
   "cell_type": "code",
   "execution_count": 15,
   "id": "b94eb09b-f951-47d8-9f38-86ff3e373d02",
   "metadata": {},
   "outputs": [
    {
     "name": "stdout",
     "output_type": "stream",
     "text": [
      "1\n",
      "2\n",
      "3\n",
      "4\n",
      "4\n",
      "krish\n"
     ]
    }
   ],
   "source": [
    "def print_numbers(*args): # or we can write *setu as well\n",
    "    for number in args:\n",
    "        print(number);\n",
    "print_numbers(1 ,2 , 3 , 4 , 4 , \"krish\")\n",
    "# so here *args is refering to all the arguments that we are passing\n",
    "# it is used when we need multiple arguments"
   ]
  },
  {
   "cell_type": "markdown",
   "id": "a013c7c8-463c-4f29-b953-274b48809345",
   "metadata": {},
   "source": [
    "#### 2. keyword arguments"
   ]
  },
  {
   "cell_type": "code",
   "execution_count": 19,
   "id": "48ab80e0-91ba-42bb-a292-7c7b69165b3f",
   "metadata": {},
   "outputs": [
    {
     "name": "stdout",
     "output_type": "stream",
     "text": [
      "name:aditya\n",
      "age:23\n",
      "country:india\n"
     ]
    }
   ],
   "source": [
    "def print_details(**kwargs):\n",
    "    # **kwargs->**setu\n",
    "    for key , value in kwargs.items():\n",
    "        print(f\"{key}:{value}\")\n",
    "print_details(name = \"aditya\" , age = \"23\" , country = \"india\")\n",
    "    \n",
    "#In the keywords arguments all the argument should be in the form of the key-value pairs\n",
    "    "
   ]
  },
  {
   "cell_type": "markdown",
   "id": "954f9803-a6d5-4b07-a5dc-67ca6ace3dc1",
   "metadata": {},
   "source": [
    "#### Let's combine both the arguments : "
   ]
  },
  {
   "cell_type": "code",
   "execution_count": 3,
   "id": "32982b6d-d809-479c-b2bc-b0f5da838a2a",
   "metadata": {},
   "outputs": [
    {
     "name": "stdout",
     "output_type": "stream",
     "text": [
      "Postional arguments : 1\n",
      "Postional arguments : 2\n",
      "Postional arguments : 3\n",
      "Postional arguments : 4\n",
      "Postional arguments : krish\n",
      "name:aditya\n",
      "age:23\n",
      "country:India\n"
     ]
    }
   ],
   "source": [
    "def print_details(*args , **kwargs):\n",
    "    for val in args:\n",
    "        print(f\"Postional arguments : {val}\")\n",
    "    for key , value in kwargs.items():\n",
    "        print(f\"{key}:{value}\")\n",
    "print_details(1 , 2 , 3, 4 , \"krish\" , name = \"aditya\" , age = \"23\" , country = \"India\")"
   ]
  },
  {
   "cell_type": "markdown",
   "id": "08cf5de0-4639-4c5c-b1eb-1a39c4c8c1c8",
   "metadata": {},
   "source": [
    "### Return statement "
   ]
  },
  {
   "cell_type": "code",
   "execution_count": 33,
   "id": "69f8ca8a-e210-41f8-bf1b-279cd438cb40",
   "metadata": {},
   "outputs": [
    {
     "data": {
      "text/plain": [
       "6"
      ]
     },
     "execution_count": 33,
     "metadata": {},
     "output_type": "execute_result"
    }
   ],
   "source": [
    "def multiply(a , b):\n",
    "    return a*b\n",
    "multiply(2 , 3)"
   ]
  },
  {
   "cell_type": "markdown",
   "id": "9628a4cd-ea72-47b1-9ba9-302110b0c733",
   "metadata": {},
   "source": [
    "#### Returning multiple values from the functions : "
   ]
  },
  {
   "cell_type": "code",
   "execution_count": 40,
   "id": "75a04858-7713-4a94-b2e7-422c4c64fce4",
   "metadata": {},
   "outputs": [
    {
     "data": {
      "text/plain": [
       "(20, 0.8)"
      ]
     },
     "execution_count": 40,
     "metadata": {},
     "output_type": "execute_result"
    }
   ],
   "source": [
    "def mathResult(a , b):\n",
    "    return a*b , a/b\n",
    "mathResult(4 , 5)"
   ]
  },
  {
   "cell_type": "markdown",
   "id": "fbae63e2-8fa5-4c11-9dd9-c4e02cc6ecae",
   "metadata": {},
   "source": [
    "## More coding examples with functions"
   ]
  },
  {
   "cell_type": "markdown",
   "id": "1d3a0f17-add3-4021-8f26-376d58cffd0c",
   "metadata": {},
   "source": [
    "#### Temperature conversion : "
   ]
  },
  {
   "cell_type": "code",
   "execution_count": 50,
   "id": "c965ab7c-49da-4304-b980-ddc1fe3f59ee",
   "metadata": {},
   "outputs": [
    {
     "name": "stdout",
     "output_type": "stream",
     "text": [
      "212.0\n",
      "100.0\n"
     ]
    }
   ],
   "source": [
    "def convert_temperature(temp , unit):\n",
    "    \"\"\"This function converts the temperature between the celcius and farenheit\"\"\"\n",
    "    if unit == 'C':\n",
    "        return temp*9/5 + 32 # converting celcius to farenheit\n",
    "    elif unit == 'F':\n",
    "        return (temp - 32)*5/9 # converting farensheit to celcius\n",
    "    else:\n",
    "        return None\n",
    "print(convert_temperature(100 , 'C'))\n",
    "print(convert_temperature(212 , 'F')) "
   ]
  },
  {
   "cell_type": "markdown",
   "id": "4ac832a2-10cb-420c-bf5f-c94ca8f4b0a3",
   "metadata": {},
   "source": [
    "#### Password Strength Checker"
   ]
  },
  {
   "cell_type": "code",
   "execution_count": 122,
   "id": "9906944f-7c4e-4640-b3fe-ef2c7bd87814",
   "metadata": {},
   "outputs": [],
   "source": [
    "def checkLength(passcode):\n",
    "    return (len(passcode)>=8)\n",
    "    \n",
    "def checkLowerANDupperAlpha(passcode):\n",
    "    return any(char.islower() for char in passcode) and any(char.isupper() for char in passcode)\n",
    "    \n",
    "def containsSpecialCharacter(passcode):\n",
    "    return any(char in '%$#!@~()}{:<>?,.;~`+-=' for char in passcode)\n",
    "    \n",
    "def ContainsDigit(passcode):\n",
    "    return any(char.isdigit() for char in passcode)\n",
    "            \n",
    "def checkPasscode(passcode):\n",
    "    return checkLength(passcode) and checkLowerANDupperAlpha(passcode) and containsSpecialCharacter(passcode) and ContainsDigit(passcode) \n",
    "    "
   ]
  },
  {
   "cell_type": "code",
   "execution_count": 120,
   "id": "33e9df56-5539-4e3f-aa6d-60228f8575bd",
   "metadata": {},
   "outputs": [
    {
     "data": {
      "text/plain": [
       "True"
      ]
     },
     "execution_count": 120,
     "metadata": {},
     "output_type": "execute_result"
    }
   ],
   "source": [
    "checkPasscode(\"A5a45#435\")"
   ]
  },
  {
   "cell_type": "markdown",
   "id": "e7dcb880-dea5-42dd-bd7a-8242639c4eb1",
   "metadata": {},
   "source": [
    "#### calculate the total cost of items in a shopping cart"
   ]
  },
  {
   "cell_type": "code",
   "execution_count": 13,
   "id": "d9cbedd7-4427-43ab-a53b-a304f6744d05",
   "metadata": {},
   "outputs": [
    {
     "name": "stdout",
     "output_type": "stream",
     "text": [
      "87.0\n"
     ]
    }
   ],
   "source": [
    "def calculate_total_cost(cart):\n",
    "    total_cost = 0\n",
    "    for items in cart:\n",
    "        total_cost+=items['price']*items['quantity']\n",
    "    print(total_cost)\n",
    "    \n",
    "cart = [\n",
    "    {'name' : \"apple\" , 'price' : 2.5 , 'quantity' : 4} , \n",
    "    {'name' : \"mango\" , 'price': 0.3 , 'quantity' : 6} , \n",
    "    {'name' : \"grapes\" , 'price': 0.2 , 'quantity' : 7} , \n",
    "    {'name' : \"kiwi\" , 'price': 8.2 , 'quantity' : 9} , \n",
    "]\n",
    "calculate_total_cost(cart)\n",
    "    "
   ]
  },
  {
   "cell_type": "markdown",
   "id": "b1dac5f4-09a9-4bcf-bd4e-3e0029c21dd1",
   "metadata": {},
   "source": [
    "#### check if a string is palindrome"
   ]
  },
  {
   "cell_type": "code",
   "execution_count": 59,
   "id": "c1b5ee43-3bb6-4c20-9eb5-619c741fc489",
   "metadata": {},
   "outputs": [
    {
     "data": {
      "text/plain": [
       "False"
      ]
     },
     "execution_count": 59,
     "metadata": {},
     "output_type": "execute_result"
    }
   ],
   "source": [
    "def checkPalin(str):\n",
    "    return str == str[::-1]\n",
    "checkPalin(\"abcb\")"
   ]
  },
  {
   "cell_type": "markdown",
   "id": "d671044f-8ea0-47ed-9df3-3ea9ddfb5725",
   "metadata": {},
   "source": [
    "#### Calculate the factorials of number using the recursion"
   ]
  },
  {
   "cell_type": "code",
   "execution_count": 63,
   "id": "fd3a6737-d0c8-40eb-a1e3-937c85a041e0",
   "metadata": {},
   "outputs": [],
   "source": [
    "def factorial(n):\n",
    "    if n == 0 :\n",
    "        return 1 \n",
    "    else : \n",
    "        return n*factorial(n-1)\n",
    "\n"
   ]
  },
  {
   "cell_type": "code",
   "execution_count": 65,
   "id": "d57c7175-fb78-41c6-92c7-ef952eca0783",
   "metadata": {},
   "outputs": [
    {
     "data": {
      "text/plain": [
       "120"
      ]
     },
     "execution_count": 65,
     "metadata": {},
     "output_type": "execute_result"
    }
   ],
   "source": [
    "factorial(5)"
   ]
  },
  {
   "cell_type": "markdown",
   "id": "c8ed91ba-874c-479b-8633-ac7623d16c14",
   "metadata": {},
   "source": [
    "#### A function to read a file and count the frequency of each word"
   ]
  },
  {
   "cell_type": "code",
   "execution_count": null,
   "id": "cf679014-0492-46c6-a751-b6abc61ac9c1",
   "metadata": {},
   "outputs": [],
   "source": []
  },
  {
   "cell_type": "markdown",
   "id": "eeece716-1fcc-400a-a87f-0ac5e7110461",
   "metadata": {},
   "source": [
    "#### Validate Email Address"
   ]
  },
  {
   "cell_type": "code",
   "execution_count": null,
   "id": "f756ce68-e7b8-498e-baf3-9fa4db461bc6",
   "metadata": {},
   "outputs": [],
   "source": []
  }
 ],
 "metadata": {
  "kernelspec": {
   "display_name": "Python (venv)",
   "language": "python",
   "name": "venv"
  },
  "language_info": {
   "codemirror_mode": {
    "name": "ipython",
    "version": 3
   },
   "file_extension": ".py",
   "mimetype": "text/x-python",
   "name": "python",
   "nbconvert_exporter": "python",
   "pygments_lexer": "ipython3",
   "version": "3.12.0"
  }
 },
 "nbformat": 4,
 "nbformat_minor": 5
}
