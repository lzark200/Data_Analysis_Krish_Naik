{
 "cells": [
  {
   "cell_type": "markdown",
   "id": "4064a7d2-a0e5-4b85-904f-d3157520a2f7",
   "metadata": {},
   "source": [
    "### Sets"
   ]
  },
  {
   "cell_type": "markdown",
   "id": "56308d3e-c17d-4297-931c-82ad75e3d4c6",
   "metadata": {},
   "source": [
    "Sets are built-in data types in Python used to store the collections of unique items.They\n",
    "are unordered, meaning that the element do not follow a specific order and they do not \n",
    "allow duplicates elements.Sets are useful for membership tests , eliminating duplicate entries and \n",
    "performing mathematical set operations like union , intersection , difference and symmetric difference"
   ]
  },
  {
   "cell_type": "code",
   "execution_count": 3,
   "id": "919ce297-5298-499e-8d42-89c6330d396c",
   "metadata": {},
   "outputs": [
    {
     "name": "stdout",
     "output_type": "stream",
     "text": [
      "{1, 2, 3, 4, 5} <class 'set'>\n"
     ]
    }
   ],
   "source": [
    "## creating a set : \n",
    "my_set= {1 ,2 , 3 , 4, 5}\n",
    "print(my_set , type(my_set))"
   ]
  },
  {
   "cell_type": "code",
   "execution_count": 7,
   "id": "4b90d59a-3664-4451-9168-d8f1bbe7d3e4",
   "metadata": {},
   "outputs": [
    {
     "ename": "TypeError",
     "evalue": "set expected at most 1 argument, got 5",
     "output_type": "error",
     "traceback": [
      "\u001b[31m---------------------------------------------------------------------------\u001b[39m",
      "\u001b[31mTypeError\u001b[39m                                 Traceback (most recent call last)",
      "\u001b[36mCell\u001b[39m\u001b[36m \u001b[39m\u001b[32mIn[7]\u001b[39m\u001b[32m, line 1\u001b[39m\n\u001b[32m----> \u001b[39m\u001b[32m1\u001b[39m my_empty_set = \u001b[38;5;28;43mset\u001b[39;49m\u001b[43m(\u001b[49m\u001b[32;43m1\u001b[39;49m\u001b[43m \u001b[49m\u001b[43m,\u001b[49m\u001b[32;43m2\u001b[39;49m\u001b[43m \u001b[49m\u001b[43m,\u001b[49m\u001b[43m \u001b[49m\u001b[32;43m3\u001b[39;49m\u001b[43m,\u001b[49m\u001b[43m \u001b[49m\u001b[32;43m4\u001b[39;49m\u001b[43m,\u001b[49m\u001b[43m \u001b[49m\u001b[32;43m5\u001b[39;49m\u001b[43m)\u001b[49m\n\u001b[32m      2\u001b[39m \u001b[38;5;28mprint\u001b[39m(\u001b[38;5;28mtype\u001b[39m(my_empty_set))\n",
      "\u001b[31mTypeError\u001b[39m: set expected at most 1 argument, got 5"
     ]
    }
   ],
   "source": [
    "#not like this : \n",
    "\n",
    "my_empty_set = set(1 ,2 , 3, 4, 5)\n",
    "print(type(my_empty_set))\n"
   ]
  },
  {
   "cell_type": "code",
   "execution_count": 13,
   "id": "cf0a16ca-9d61-4b27-82f0-4035b2bcaa1e",
   "metadata": {},
   "outputs": [
    {
     "name": "stdout",
     "output_type": "stream",
     "text": [
      "{1, 2, 3, 4, 5, 6}\n"
     ]
    }
   ],
   "source": [
    "#not like this : \n",
    "\n",
    "my_set = set([1 ,2 ,3 , 2 , 5 , 6, 3, 4, 5])\n",
    "print(my_set)\n"
   ]
  },
  {
   "cell_type": "code",
   "execution_count": 19,
   "id": "71bbf80d-a159-4c62-b3b8-9419b2ab8387",
   "metadata": {},
   "outputs": [
    {
     "name": "stdout",
     "output_type": "stream",
     "text": [
      "{1, 2, 3, 4, 5, 6, 10}\n"
     ]
    }
   ],
   "source": [
    "## Basic sets operation : \n",
    "## Adding and removing elements\n",
    "\n",
    "my_set.add(10)\n",
    "print(my_set)"
   ]
  },
  {
   "cell_type": "code",
   "execution_count": 21,
   "id": "c031d955-5230-454e-9d52-ae10545eef28",
   "metadata": {},
   "outputs": [
    {
     "data": {
      "text/plain": [
       "{1, 2, 3, 5, 6, 10}"
      ]
     },
     "execution_count": 21,
     "metadata": {},
     "output_type": "execute_result"
    }
   ],
   "source": [
    "## Removing the element from the set : \n",
    "my_set.remove(4)\n",
    "my_set"
   ]
  },
  {
   "cell_type": "code",
   "execution_count": 23,
   "id": "3beb06d5-239f-4f3d-92f6-30218e925f4b",
   "metadata": {},
   "outputs": [
    {
     "ename": "KeyError",
     "evalue": "20",
     "output_type": "error",
     "traceback": [
      "\u001b[31m---------------------------------------------------------------------------\u001b[39m",
      "\u001b[31mKeyError\u001b[39m                                  Traceback (most recent call last)",
      "\u001b[36mCell\u001b[39m\u001b[36m \u001b[39m\u001b[32mIn[23]\u001b[39m\u001b[32m, line 1\u001b[39m\n\u001b[32m----> \u001b[39m\u001b[32m1\u001b[39m \u001b[43mmy_set\u001b[49m\u001b[43m.\u001b[49m\u001b[43mremove\u001b[49m\u001b[43m(\u001b[49m\u001b[32;43m20\u001b[39;49m\u001b[43m)\u001b[49m\n",
      "\u001b[31mKeyError\u001b[39m: 20"
     ]
    }
   ],
   "source": [
    "# we cannot remove the element cannnot be removed from set\n",
    "my_set.remove(20)"
   ]
  },
  {
   "cell_type": "code",
   "execution_count": 25,
   "id": "75dbdaa1-e400-4042-a5c6-c680788ea5ff",
   "metadata": {},
   "outputs": [],
   "source": [
    "## if you don't want an error then use this  for the removing of the element\n",
    "my_set.discard(20)"
   ]
  },
  {
   "cell_type": "code",
   "execution_count": 27,
   "id": "e6ba96ab-54fd-4d5c-a75f-569265662e8b",
   "metadata": {},
   "outputs": [
    {
     "name": "stdout",
     "output_type": "stream",
     "text": [
      "{2, 3, 5, 6, 10}\n"
     ]
    },
    {
     "data": {
      "text/plain": [
       "1"
      ]
     },
     "execution_count": 27,
     "metadata": {},
     "output_type": "execute_result"
    }
   ],
   "source": [
    "## pop method : It works on the FIFO principle the removes the first inserted element from the set.\n",
    "removed_elem = my_set.pop()\n",
    "print(my_set)\n",
    "removed_elem \n"
   ]
  },
  {
   "cell_type": "code",
   "execution_count": null,
   "id": "932aadae-6c2a-4efc-ab56-f114c746cb00",
   "metadata": {},
   "outputs": [],
   "source": []
  }
 ],
 "metadata": {
  "kernelspec": {
   "display_name": "Python (venv)",
   "language": "python",
   "name": "venv"
  },
  "language_info": {
   "codemirror_mode": {
    "name": "ipython",
    "version": 3
   },
   "file_extension": ".py",
   "mimetype": "text/x-python",
   "name": "python",
   "nbconvert_exporter": "python",
   "pygments_lexer": "ipython3",
   "version": "3.12.0"
  }
 },
 "nbformat": 4,
 "nbformat_minor": 5
}
