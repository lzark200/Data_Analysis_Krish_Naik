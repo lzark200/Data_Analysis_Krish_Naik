{
 "cells": [
  {
   "cell_type": "markdown",
   "id": "4064a7d2-a0e5-4b85-904f-d3157520a2f7",
   "metadata": {},
   "source": [
    "### Sets"
   ]
  },
  {
   "cell_type": "markdown",
   "id": "56308d3e-c17d-4297-931c-82ad75e3d4c6",
   "metadata": {},
   "source": [
    "Sets are built-in data types in Python used to store the collections of unique items.They\n",
    "are unordered, meaning that the element do not follow a specific order and they do not \n",
    "allow duplicates elements.Sets are useful for membership tests , eliminating duplicate entries and \n",
    "performing mathematical set operations like union , intersection , difference and symmetric difference"
   ]
  },
  {
   "cell_type": "code",
   "execution_count": 3,
   "id": "919ce297-5298-499e-8d42-89c6330d396c",
   "metadata": {},
   "outputs": [
    {
     "name": "stdout",
     "output_type": "stream",
     "text": [
      "{1, 2, 3, 4, 5} <class 'set'>\n"
     ]
    }
   ],
   "source": [
    "## creating a set : \n",
    "my_set= {1 ,2 , 3 , 4, 5}\n",
    "print(my_set , type(my_set))"
   ]
  },
  {
   "cell_type": "code",
   "execution_count": 7,
   "id": "4b90d59a-3664-4451-9168-d8f1bbe7d3e4",
   "metadata": {},
   "outputs": [
    {
     "ename": "TypeError",
     "evalue": "set expected at most 1 argument, got 5",
     "output_type": "error",
     "traceback": [
      "\u001b[31m---------------------------------------------------------------------------\u001b[39m",
      "\u001b[31mTypeError\u001b[39m                                 Traceback (most recent call last)",
      "\u001b[36mCell\u001b[39m\u001b[36m \u001b[39m\u001b[32mIn[7]\u001b[39m\u001b[32m, line 1\u001b[39m\n\u001b[32m----> \u001b[39m\u001b[32m1\u001b[39m my_empty_set = \u001b[38;5;28;43mset\u001b[39;49m\u001b[43m(\u001b[49m\u001b[32;43m1\u001b[39;49m\u001b[43m \u001b[49m\u001b[43m,\u001b[49m\u001b[32;43m2\u001b[39;49m\u001b[43m \u001b[49m\u001b[43m,\u001b[49m\u001b[43m \u001b[49m\u001b[32;43m3\u001b[39;49m\u001b[43m,\u001b[49m\u001b[43m \u001b[49m\u001b[32;43m4\u001b[39;49m\u001b[43m,\u001b[49m\u001b[43m \u001b[49m\u001b[32;43m5\u001b[39;49m\u001b[43m)\u001b[49m\n\u001b[32m      2\u001b[39m \u001b[38;5;28mprint\u001b[39m(\u001b[38;5;28mtype\u001b[39m(my_empty_set))\n",
      "\u001b[31mTypeError\u001b[39m: set expected at most 1 argument, got 5"
     ]
    }
   ],
   "source": [
    "#not like this : \n",
    "\n",
    "my_empty_set = set(1 ,2 , 3, 4, 5)\n",
    "print(type(my_empty_set))\n"
   ]
  },
  {
   "cell_type": "code",
   "execution_count": 13,
   "id": "cf0a16ca-9d61-4b27-82f0-4035b2bcaa1e",
   "metadata": {},
   "outputs": [
    {
     "name": "stdout",
     "output_type": "stream",
     "text": [
      "{1, 2, 3, 4, 5, 6}\n"
     ]
    }
   ],
   "source": [
    "#like this : \n",
    "\n",
    "my_set = set([1 ,2 ,3 , 2 , 5 , 6, 3, 4, 5])\n",
    "print(my_set)\n"
   ]
  },
  {
   "cell_type": "code",
   "execution_count": 19,
   "id": "71bbf80d-a159-4c62-b3b8-9419b2ab8387",
   "metadata": {},
   "outputs": [
    {
     "name": "stdout",
     "output_type": "stream",
     "text": [
      "{1, 2, 3, 4, 5, 6, 10}\n"
     ]
    }
   ],
   "source": [
    "## Basic sets operation : \n",
    "## Adding and removing elements\n",
    "\n",
    "my_set.add(10)\n",
    "print(my_set)"
   ]
  },
  {
   "cell_type": "code",
   "execution_count": 21,
   "id": "c031d955-5230-454e-9d52-ae10545eef28",
   "metadata": {},
   "outputs": [
    {
     "data": {
      "text/plain": [
       "{1, 2, 3, 5, 6, 10}"
      ]
     },
     "execution_count": 21,
     "metadata": {},
     "output_type": "execute_result"
    }
   ],
   "source": [
    "## Removing the element from the set : \n",
    "my_set.remove(4)\n",
    "my_set"
   ]
  },
  {
   "cell_type": "code",
   "execution_count": 23,
   "id": "3beb06d5-239f-4f3d-92f6-30218e925f4b",
   "metadata": {},
   "outputs": [
    {
     "ename": "KeyError",
     "evalue": "20",
     "output_type": "error",
     "traceback": [
      "\u001b[31m---------------------------------------------------------------------------\u001b[39m",
      "\u001b[31mKeyError\u001b[39m                                  Traceback (most recent call last)",
      "\u001b[36mCell\u001b[39m\u001b[36m \u001b[39m\u001b[32mIn[23]\u001b[39m\u001b[32m, line 1\u001b[39m\n\u001b[32m----> \u001b[39m\u001b[32m1\u001b[39m \u001b[43mmy_set\u001b[49m\u001b[43m.\u001b[49m\u001b[43mremove\u001b[49m\u001b[43m(\u001b[49m\u001b[32;43m20\u001b[39;49m\u001b[43m)\u001b[49m\n",
      "\u001b[31mKeyError\u001b[39m: 20"
     ]
    }
   ],
   "source": [
    "# we cannot remove the element cannnot be removed from set\n",
    "my_set.remove(20)"
   ]
  },
  {
   "cell_type": "code",
   "execution_count": 25,
   "id": "75dbdaa1-e400-4042-a5c6-c680788ea5ff",
   "metadata": {},
   "outputs": [],
   "source": [
    "## if you don't want an error then use this  for the removing of the element\n",
    "my_set.discard(20)"
   ]
  },
  {
   "cell_type": "code",
   "execution_count": 27,
   "id": "e6ba96ab-54fd-4d5c-a75f-569265662e8b",
   "metadata": {},
   "outputs": [
    {
     "name": "stdout",
     "output_type": "stream",
     "text": [
      "{2, 3, 5, 6, 10}\n"
     ]
    },
    {
     "data": {
      "text/plain": [
       "1"
      ]
     },
     "execution_count": 27,
     "metadata": {},
     "output_type": "execute_result"
    }
   ],
   "source": [
    "## pop method : It works on the FIFO principle the removes the first inserted element from the set.\n",
    "removed_elem = my_set.pop()\n",
    "print(my_set)\n",
    "removed_elem \n"
   ]
  },
  {
   "cell_type": "code",
   "execution_count": 29,
   "id": "932aadae-6c2a-4efc-ab56-f114c746cb00",
   "metadata": {},
   "outputs": [
    {
     "data": {
      "text/plain": [
       "set()"
      ]
     },
     "execution_count": 29,
     "metadata": {},
     "output_type": "execute_result"
    }
   ],
   "source": [
    "## Clear all the elements : removes all the elements from the set\n",
    "my_set.clear()\n",
    "my_set"
   ]
  },
  {
   "cell_type": "markdown",
   "id": "cd0b4593-579a-449b-b6cb-cb691cb4fcab",
   "metadata": {},
   "source": [
    "### Set membership test"
   ]
  },
  {
   "cell_type": "markdown",
   "id": "700f22e4-a7c0-4afe-8ff1-618e57a05bc4",
   "metadata": {},
   "source": [
    "Check whether the element is the member of the set"
   ]
  },
  {
   "cell_type": "code",
   "execution_count": 33,
   "id": "11465eea-9f75-4ed3-b56f-57eb92799f1e",
   "metadata": {},
   "outputs": [
    {
     "name": "stdout",
     "output_type": "stream",
     "text": [
      "True\n"
     ]
    }
   ],
   "source": [
    "my_set = {1 , 2 , 3, 4, 5}\n",
    "print(3 in my_set)"
   ]
  },
  {
   "cell_type": "code",
   "execution_count": 43,
   "id": "1718ee84-dbf4-4b6c-b073-8cd2c4f79f31",
   "metadata": {},
   "outputs": [
    {
     "name": "stdout",
     "output_type": "stream",
     "text": [
      "union is : {1, 2, 3, 4, 5, 6, 7, 8, 9}\n",
      "intersection is : {4, 5}\n",
      "{4, 5}\n"
     ]
    }
   ],
   "source": [
    "## mathematical operations : \n",
    "set1 = {1 , 2 , 3, 4, 5}\n",
    "set2 = {4 , 5 , 6 , 7 , 8 , 9}\n",
    "\n",
    "#union : \n",
    "union_set = set1.union(set2)\n",
    "print('union is :' , union_set)\n",
    "\n",
    "#intersection:\n",
    "intersection_set = set1.intersection(set2)\n",
    "print('intersection is :' , intersection_set)\n",
    "\n",
    "#intersection update :\n",
    "set1.intersection_update(set2) # it does the intersection and updates the set1 with intersection of th elements.\n",
    "print(set1)"
   ]
  },
  {
   "cell_type": "code",
   "execution_count": 47,
   "id": "cc3a3026-f56f-41a5-9722-1bf0bc1c2019",
   "metadata": {},
   "outputs": [
    {
     "name": "stdout",
     "output_type": "stream",
     "text": [
      "{1, 2, 3}\n",
      "{1, 2, 3}\n"
     ]
    }
   ],
   "source": [
    "set1 = {1 , 2 , 3, 4, 5}\n",
    "set2 = {4 , 5 , 6 , 7 , 8 , 9}\n",
    "\n",
    "## difference : From the set1 we will remove the common element present in the set2\n",
    "diff_set = set1.difference(set2)\n",
    "print(diff_set)\n",
    "\n",
    "## difference update:\n",
    "set1.difference_update(set2) # it is going to take the difference and update it in the set1.\n",
    "print(set1)"
   ]
  },
  {
   "cell_type": "code",
   "execution_count": 51,
   "id": "e94a1874-8a94-48fa-bc3d-8c8fb78d2f37",
   "metadata": {},
   "outputs": [
    {
     "name": "stdout",
     "output_type": "stream",
     "text": [
      "{6, 7, 8, 9}\n"
     ]
    }
   ],
   "source": [
    "#same operation I can do from the set2 as well : \n",
    "set1 = {1 , 2 , 3, 4, 5}\n",
    "set2 = {4 , 5 , 6 , 7 , 8 , 9}\n",
    "set2.difference_update(set1)\n",
    "print(set2)"
   ]
  },
  {
   "cell_type": "code",
   "execution_count": 57,
   "id": "c0cb3fba-5f8c-4dae-89d0-0f4fa8d8ff90",
   "metadata": {},
   "outputs": [
    {
     "name": "stdout",
     "output_type": "stream",
     "text": [
      "{1, 2, 3, 6, 7, 8, 9}\n",
      "{1, 2, 3, 6, 7, 8, 9}\n"
     ]
    }
   ],
   "source": [
    "## Symmetric difference : \n",
    "set1 = {1 , 2 , 3, 4, 5}\n",
    "set2 = {4 , 5 , 6 , 7 , 8 , 9}\n",
    "\n",
    "symm_diff_set = set1.symmetric_difference(set2)\n",
    "print(symm_diff_set)\n",
    "\n",
    "# all the common element from the both the sets are removed and only the unique element will be there.\n",
    "set1.symmetric_difference_update(set2)\n",
    "print(set1)"
   ]
  },
  {
   "cell_type": "code",
   "execution_count": 65,
   "id": "03bc1c21-2ed2-4f7a-9a97-1ae00a7d5528",
   "metadata": {},
   "outputs": [
    {
     "name": "stdout",
     "output_type": "stream",
     "text": [
      "False\n",
      "True\n",
      "True\n"
     ]
    }
   ],
   "source": [
    "## Sets methods : \n",
    "set1 = {1 ,2 , 3 , 4 , 5}\n",
    "set2 = {3 , 4, 5}\n",
    "\n",
    "## is subset :\n",
    "print(set1.issubset(set2))\n",
    "print(set2.issubset(set1))\n",
    "\n",
    "## is superset : \n",
    "print(set1.issuperset(set2))\n"
   ]
  },
  {
   "cell_type": "code",
   "execution_count": 67,
   "id": "36609fcd-1192-47d4-b960-6750441b10ec",
   "metadata": {},
   "outputs": [
    {
     "data": {
      "text/plain": [
       "{1, 2, 3, 4, 5}"
      ]
     },
     "execution_count": 67,
     "metadata": {},
     "output_type": "execute_result"
    }
   ],
   "source": [
    "## task : remove all the duplicate elements from the list : \n",
    "lst = [1 , 2, 2 , 3, 4, 4 , 5]\n",
    "mset = set(lst)\n",
    "mset"
   ]
  },
  {
   "cell_type": "markdown",
   "id": "4e059a1e-a558-4a5c-a974-a3d8f5cd1303",
   "metadata": {},
   "source": [
    "### counting unique words in the text : "
   ]
  },
  {
   "cell_type": "code",
   "execution_count": 90,
   "id": "f6c8015a-969a-40d3-bf00-a340a2b96c0b",
   "metadata": {},
   "outputs": [
    {
     "name": "stdout",
     "output_type": "stream",
     "text": [
      "{'is', 'automatic', 'it', 'creates', 'happens', 'confidence', 'dreams', 'can', 'day', 'want', 'lead', 'must', 'repeating', 'mother', 'win', 'results', 'important', 'once', 'are', 'repetition', 'good', 'consistent', 'quit', 'end', 'grow', 'hour', 'mastery', 'change', 'remain', 'discipline', 'repeat', 'mindset', 'powerful', 'routines', 'brings', 'if', 'always', 'every', 'power', 'builds', 'where', 'fades', 'build', 'energy', 'enough', 'when', 'consistency', 'process', 'anyone', 'habits', 'growth', 'goals', 'there', 'without', 'be', 'work', 'passion', 'you', 'motivation', 'with', 'no', 'skill', 'because', 'they', 'key', 'success', 'again', 'gets', 'second', 'actions', 'minute', 'strong', 'not', 'stop', 'start', 'hard', 'just', 'makes', 'many', 'doubt', 'will', 'do', 'matters', 'trying', 'slow', 'improve', 'but', 'of', 'in', 'people', 'come', 'and', 'wins', 'try', 'to', 'the', 'from', 'effort'}\n",
      "There are 98 unique words out of the 202 words in the text.\n"
     ]
    }
   ],
   "source": [
    "text = \"the power of consistency consistency is the key to success when you are consistent you build habits habits lead to routines routines build discipline discipline creates results results come from consistency every day you must be consistent every hour every minute every second consistency matters without consistency motivation fades without consistency goals remain dreams without consistency there is no growth hard work is important but consistent hard work is powerful anyone can work hard once anyone can try but trying once is not enough trying again and again is where change happens repeating good actions again and again brings mastery repetition is the mother of skill repetition builds confidence repetition builds confidence repetition makes actions automatic many people start strong many people start with energy many people start with passion but they stop they stop when it gets hard they stop when results are slow they stop because they are not consistent if you want to improve be consistent if you want to grow be consistent if you want to win be consistent do not stop do not quit do not doubt just repeat repeat the process repeat the effort repeat the mindset in the end consistency will win consistency always wins\"\n",
    "word_list = text.split(\" \")\n",
    "total_words = len(word_list)\n",
    "filter_set = set(word_list)\n",
    "print(filter_set)\n",
    "print(f\"There are {len(filter_set)} unique words out of the {total_words} words in the text.\")"
   ]
  },
  {
   "cell_type": "code",
   "execution_count": null,
   "id": "b8498abb-32e9-493a-a46a-884028d40ca5",
   "metadata": {},
   "outputs": [],
   "source": []
  }
 ],
 "metadata": {
  "kernelspec": {
   "display_name": "Python (venv)",
   "language": "python",
   "name": "venv"
  },
  "language_info": {
   "codemirror_mode": {
    "name": "ipython",
    "version": 3
   },
   "file_extension": ".py",
   "mimetype": "text/x-python",
   "name": "python",
   "nbconvert_exporter": "python",
   "pygments_lexer": "ipython3",
   "version": "3.12.0"
  }
 },
 "nbformat": 4,
 "nbformat_minor": 5
}
