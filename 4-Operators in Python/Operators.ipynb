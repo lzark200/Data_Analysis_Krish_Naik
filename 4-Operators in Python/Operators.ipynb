{
 "cells": [
  {
   "cell_type": "markdown",
   "id": "5677438a-97d4-4de0-9bbd-891f3765d97c",
   "metadata": {},
   "source": [
    "### Arithmetic Operations"
   ]
  },
  {
   "cell_type": "code",
   "execution_count": 5,
   "id": "1e904797-7f1c-4036-a985-a15ba5ea0661",
   "metadata": {},
   "outputs": [
    {
     "name": "stdout",
     "output_type": "stream",
     "text": [
      "15 5 50 2.0 2 0 100000\n"
     ]
    }
   ],
   "source": [
    "a = 10\n",
    "b = 5\n",
    "\n",
    "add = a+b\n",
    "sub = a-b\n",
    "mul = a*b\n",
    "div = a/b\n",
    "floor_div = a//b #floor division gives the integer output\n",
    "modulo_div = a%b\n",
    "expo = a**b\n",
    "\n",
    "print(add , sub , mul , div , floor_div , modulo_div , expo)\n",
    "\n"
   ]
  },
  {
   "cell_type": "markdown",
   "id": "6f224f6f-88f7-471d-b83f-7673cd313943",
   "metadata": {},
   "source": [
    "### Comparison Operator"
   ]
  },
  {
   "cell_type": "code",
   "execution_count": 14,
   "id": "65d5b521-3142-4482-abd9-4dfca5e4c995",
   "metadata": {},
   "outputs": [
    {
     "name": "stdout",
     "output_type": "stream",
     "text": [
      "False True 15 15 0 True False\n"
     ]
    }
   ],
   "source": [
    "a = 10 \n",
    "b = 5\n",
    "\n",
    "print(a==b , a!=b , a^b , a|b , a&b , a>=b , a<=b)"
   ]
  },
  {
   "cell_type": "markdown",
   "id": "56580221-b6a6-42a1-a45d-6fe80c41685e",
   "metadata": {},
   "source": [
    "### Not Operator"
   ]
  },
  {
   "cell_type": "code",
   "execution_count": 26,
   "id": "91ff614f-a1e3-4879-b2f6-0eeff03c6c42",
   "metadata": {},
   "outputs": [
    {
     "name": "stdout",
     "output_type": "stream",
     "text": [
      "True\n"
     ]
    }
   ],
   "source": [
    "x = False \n",
    "print(not x)"
   ]
  },
  {
   "cell_type": "code",
   "execution_count": null,
   "id": "1b1dc039-872d-4760-a48d-95ddd0efdc06",
   "metadata": {},
   "outputs": [],
   "source": []
  },
  {
   "cell_type": "code",
   "execution_count": null,
   "id": "ea75a279-f647-4568-9c43-0af1053cf183",
   "metadata": {},
   "outputs": [],
   "source": []
  }
 ],
 "metadata": {
  "kernelspec": {
   "display_name": "Python (venv)",
   "language": "python",
   "name": "venv"
  },
  "language_info": {
   "codemirror_mode": {
    "name": "ipython",
    "version": 3
   },
   "file_extension": ".py",
   "mimetype": "text/x-python",
   "name": "python",
   "nbconvert_exporter": "python",
   "pygments_lexer": "ipython3",
   "version": "3.12.0"
  }
 },
 "nbformat": 4,
 "nbformat_minor": 5
}
