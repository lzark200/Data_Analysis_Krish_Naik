{
 "cells": [
  {
   "cell_type": "markdown",
   "id": "c6ef4cc4-ed67-4e1c-b645-e607b229698a",
   "metadata": {},
   "source": [
    "### Introduction to Tuples"
   ]
  },
  {
   "cell_type": "markdown",
   "id": "47832c9f-0158-44bc-b9b5-8d03e1d6bc17",
   "metadata": {},
   "source": [
    "Tuples are ordered collections of items that are immutable.They are similar to lists , but their\n",
    "immutability makes them different"
   ]
  },
  {
   "cell_type": "code",
   "execution_count": 4,
   "id": "f86409d2-9482-4b18-bf08-6afbd8007bd8",
   "metadata": {},
   "outputs": [
    {
     "name": "stdout",
     "output_type": "stream",
     "text": [
      "()\n",
      "<class 'tuple'>\n"
     ]
    }
   ],
   "source": [
    "#creating a tuple \n",
    "empty_tuple = ()\n",
    "print(empty_tuple)\n",
    "print(type(empty_tuple))"
   ]
  },
  {
   "cell_type": "code",
   "execution_count": 6,
   "id": "755afbd3-aa44-4c07-801a-da2bb4abc1fe",
   "metadata": {},
   "outputs": [
    {
     "name": "stdout",
     "output_type": "stream",
     "text": [
      "<class 'list'>\n",
      "<class 'tuple'>\n"
     ]
    }
   ],
   "source": [
    "lst = list()\n",
    "print(type(lst))\n",
    "tpl = tuple()\n",
    "print(type(tpl))"
   ]
  },
  {
   "cell_type": "code",
   "execution_count": 8,
   "id": "2554973b-2cb2-4172-a3a0-29e4a6d7f773",
   "metadata": {},
   "outputs": [
    {
     "name": "stdout",
     "output_type": "stream",
     "text": [
      "(1, 2, 3, 4, 5) <class 'tuple'>\n"
     ]
    }
   ],
   "source": [
    "numbers = tuple([1 ,2 , 3 , 4 , 5])\n",
    "print(numbers , type(numbers))"
   ]
  },
  {
   "cell_type": "code",
   "execution_count": 12,
   "id": "17e94749-2157-4b55-b7c5-480286bb3703",
   "metadata": {},
   "outputs": [
    {
     "name": "stdout",
     "output_type": "stream",
     "text": [
      "[1, 2, 3, 4, 5] <class 'list'>\n"
     ]
    }
   ],
   "source": [
    "lst = list(numbers)\n",
    "print(lst , type(lst))"
   ]
  },
  {
   "cell_type": "code",
   "execution_count": 14,
   "id": "a4a4cf46-98f2-4990-95a1-b9e2a5a53994",
   "metadata": {},
   "outputs": [
    {
     "name": "stdout",
     "output_type": "stream",
     "text": [
      "(1, 2, 'hello', 'c', 45, '%')\n"
     ]
    }
   ],
   "source": [
    "mixed_tpl = (1 , 2, \"hello\" , 'c' , 45 , '%')\n",
    "print(mixed_tpl)"
   ]
  },
  {
   "cell_type": "code",
   "execution_count": 26,
   "id": "c15f26bc-240f-449c-b093-ff3673961a28",
   "metadata": {},
   "outputs": [
    {
     "name": "stdout",
     "output_type": "stream",
     "text": [
      "hello\n",
      "%\n"
     ]
    }
   ],
   "source": [
    "## Accessing Tuple Elements:\n",
    "mixed_tpl = (1 , 2, \"hello\" , 'c' , 45 , '%')\n",
    "print(mixed_tpl[2])\n",
    "print(mixed_tpl[-1])\n",
    "\n",
    "#note : slicing and the indexing will be the same as the list"
   ]
  },
  {
   "cell_type": "code",
   "execution_count": 28,
   "id": "07eb4e7d-5fd8-4315-92e7-c331fd69c87c",
   "metadata": {},
   "outputs": [
    {
     "name": "stdout",
     "output_type": "stream",
     "text": [
      "(1, 2, 'hello', 'c', 45, '%', 1, 2, 3, 4, 5)\n"
     ]
    }
   ],
   "source": [
    "# Tuple Operation:\n",
    "mixed_tpl = (1 , 2, \"hello\" , 'c' , 45 , '%')\n",
    "num = (1 , 2 , 3, 4, 5)\n",
    "concat_tuple = mixed_tpl+num\n",
    "print(concat_tuple)"
   ]
  },
  {
   "cell_type": "code",
   "execution_count": 1,
   "id": "2b24c561-8940-4e12-88db-e653c3b93c67",
   "metadata": {},
   "outputs": [
    {
     "name": "stdout",
     "output_type": "stream",
     "text": [
      "[1, 2, 3, 4, 'red', 'blue', 'green', 'yellow']\n"
     ]
    }
   ],
   "source": [
    "# same concatenation we can do in the list as well : \n",
    "lst1 = [1 ,2 , 3, 4]\n",
    "lst2 = [\"red\" , \"blue\" , \"green\" , \"yellow\"]\n",
    "newlst = lst1+lst2  \n",
    "print(newlst)"
   ]
  },
  {
   "cell_type": "code",
   "execution_count": 34,
   "id": "103b21f6-c264-4ee5-9461-53069c1931db",
   "metadata": {},
   "outputs": [
    {
     "name": "stdout",
     "output_type": "stream",
     "text": [
      "(1, 2, 'hello', 'c', 45, '%', 1, 2, 'hello', 'c', 45, '%', 1, 2, 'hello', 'c', 45, '%')\n",
      "(1, 2, 3, 4, 5, 1, 2, 3, 4, 5, 1, 2, 3, 4, 5)\n"
     ]
    }
   ],
   "source": [
    "#multiplying the number in the tuple led to the repetition \n",
    "#of the tuple content the number of times equal to that number getting multiplied\n",
    "print(mixed_tpl*3)\n",
    "print(num*3)"
   ]
  },
  {
   "cell_type": "code",
   "execution_count": 3,
   "id": "0096a4ea-437c-4722-8edd-6b7be02b6da9",
   "metadata": {},
   "outputs": [
    {
     "ename": "SyntaxError",
     "evalue": "closing parenthesis ']' does not match opening parenthesis '(' (2592219613.py, line 2)",
     "output_type": "error",
     "traceback": [
      "  \u001b[36mCell\u001b[39m\u001b[36m \u001b[39m\u001b[32mIn[3]\u001b[39m\u001b[32m, line 2\u001b[39m\n\u001b[31m    \u001b[39m\u001b[31mnum = (1 ,2 , 3 ,2 , 4 , 5])\u001b[39m\n                              ^\n\u001b[31mSyntaxError\u001b[39m\u001b[31m:\u001b[39m closing parenthesis ']' does not match opening parenthesis '('\n"
     ]
    }
   ],
   "source": [
    "#Tuples are immutable meaning their element value cannot changed:\n",
    "num = (1 ,2 , 3 ,2 , 4 , 5])\n",
    "num[0] = 5\n",
    "print(num)\n"
   ]
  },
  {
   "cell_type": "code",
   "execution_count": 41,
   "id": "0136adba-ad60-4da6-899f-498974b07ccd",
   "metadata": {},
   "outputs": [
    {
     "name": "stdout",
     "output_type": "stream",
     "text": [
      "1\n",
      "2\n"
     ]
    }
   ],
   "source": [
    "# Tuple methods : \n",
    "\n",
    "#count the particular element in the tuple\n",
    "num = (1 ,2 , 3 ,2 , 4 , 5)\n",
    "print(numbers.count(1))\n",
    "\n",
    "#get the index of the particular element in the tuple :\n",
    "print(num.index(3))"
   ]
  },
  {
   "cell_type": "code",
   "execution_count": 47,
   "id": "a13103ba-f76e-4803-bfbd-5a5d92333111",
   "metadata": {},
   "outputs": [
    {
     "name": "stdout",
     "output_type": "stream",
     "text": [
      "<class 'tuple'> (1, 'mermaid', 45, '$%', 'mango')\n"
     ]
    }
   ],
   "source": [
    "#packing and the unpacking of the tuple : \n",
    "packed_tuple = 1 , \"mermaid\" , 45 , \"$%\" , \"mango\"\n",
    "print(type(packed_tuple) , packed_tuple)"
   ]
  },
  {
   "cell_type": "code",
   "execution_count": 49,
   "id": "4dea90b7-d5de-4967-8f26-92ed427ab399",
   "metadata": {},
   "outputs": [
    {
     "name": "stdout",
     "output_type": "stream",
     "text": [
      "1\n",
      "mermaid\n",
      "45\n",
      "$%\n",
      "mango\n"
     ]
    }
   ],
   "source": [
    "#unpacking of the tuple : \n",
    "a , b , c , d  , e = packed_tuple\n",
    "print(a)\n",
    "print(b)\n",
    "print(c)\n",
    "print(d)\n",
    "print(e)"
   ]
  },
  {
   "cell_type": "code",
   "execution_count": 59,
   "id": "3ad1e19d-f485-4f94-8e11-cd1bf391edf6",
   "metadata": {},
   "outputs": [
    {
     "ename": "ValueError",
     "evalue": "too many values to unpack (expected 3)",
     "output_type": "error",
     "traceback": [
      "\u001b[31m---------------------------------------------------------------------------\u001b[39m",
      "\u001b[31mValueError\u001b[39m                                Traceback (most recent call last)",
      "\u001b[36mCell\u001b[39m\u001b[36m \u001b[39m\u001b[32mIn[59]\u001b[39m\u001b[32m, line 2\u001b[39m\n\u001b[32m      1\u001b[39m \u001b[38;5;66;03m# NOTE : we can't unpack like this : \u001b[39;00m\n\u001b[32m----> \u001b[39m\u001b[32m2\u001b[39m a  , b  , c = packed_tuple\n\u001b[32m      3\u001b[39m \u001b[38;5;28mprint\u001b[39m(a)\n\u001b[32m      4\u001b[39m \u001b[38;5;28mprint\u001b[39m(b)\n",
      "\u001b[31mValueError\u001b[39m: too many values to unpack (expected 3)"
     ]
    }
   ],
   "source": [
    "# NOTE : we can't unpack like this : \n",
    "a  , b  , c = packed_tuple\n",
    "print(a)\n",
    "print(b)\n",
    "print(c)\n",
    "\n",
    "# if we wan't to do this we have to use * explain below , since the variables that we hae provided for the unpacking are not equal to the\n",
    "# value in the tuple "
   ]
  },
  {
   "cell_type": "code",
   "execution_count": 55,
   "id": "9586f48a-bcee-4881-bc09-a868d9b19ab0",
   "metadata": {},
   "outputs": [
    {
     "name": "stdout",
     "output_type": "stream",
     "text": [
      "1\n",
      "[2, 3, 4, 5]\n",
      "6\n"
     ]
    }
   ],
   "source": [
    "#unpacking with * : \n",
    "numbers = (1 , 2, 3, 4 ,5 , 6)\n",
    "first , *middle , last = numbers\n",
    "print(first)\n",
    "print(middle)\n",
    "print(last)"
   ]
  },
  {
   "cell_type": "code",
   "execution_count": 67,
   "id": "ce803aa6-5be8-44ac-9201-870c22831d0c",
   "metadata": {},
   "outputs": [
    {
     "data": {
      "text/plain": [
       "(1, 3)"
      ]
     },
     "execution_count": 67,
     "metadata": {},
     "output_type": "execute_result"
    }
   ],
   "source": [
    "## Nested Tuple : \n",
    "lst = ((1,3) , (2,4) , (4,6,4,2))\n",
    "#when slicing is done inside the nested tuple same will work in the list as well.\n",
    "lst[0][0:]  "
   ]
  },
  {
   "cell_type": "code",
   "execution_count": 77,
   "id": "7c02b1d1-16d8-435c-bd1a-cf42aed4aa19",
   "metadata": {},
   "outputs": [
    {
     "name": "stdout",
     "output_type": "stream",
     "text": [
      "1 3 2 \n",
      "a b c \n",
      "$ ram 4 99 \n"
     ]
    }
   ],
   "source": [
    "#iterating over nested tuples : \n",
    "nes_tpl = ((1,3 ,2) , ('a' , 'b' , 'c') , ('$' , \"ram\" , 4 , 99))\n",
    "for sub_tuple in nes_tpl:\n",
    "    for element in sub_tuple:\n",
    "        print(element , end=\" \")   \n",
    "        #using the end= \" \" to print the sentence in the same line.\n",
    "    print()"
   ]
  },
  {
   "cell_type": "code",
   "execution_count": null,
   "id": "4a6d43cc-503f-47dc-b6f5-0f427874339c",
   "metadata": {},
   "outputs": [],
   "source": []
  }
 ],
 "metadata": {
  "kernelspec": {
   "display_name": "Python (venv)",
   "language": "python",
   "name": "venv"
  },
  "language_info": {
   "codemirror_mode": {
    "name": "ipython",
    "version": 3
   },
   "file_extension": ".py",
   "mimetype": "text/x-python",
   "name": "python",
   "nbconvert_exporter": "python",
   "pygments_lexer": "ipython3",
   "version": "3.12.0"
  }
 },
 "nbformat": 4,
 "nbformat_minor": 5
}
